{
 "cells": [
  {
   "cell_type": "code",
   "execution_count": 1,
   "metadata": {
    "ExecuteTime": {
     "end_time": "2020-09-08T11:49:46.310556Z",
     "start_time": "2020-09-08T11:49:35.659224Z"
    }
   },
   "outputs": [],
   "source": [
    "import numpy as np\n",
    "import pandas as pd\n",
    "import matplotlib.pyplot as plt\n",
    "import seaborn as sns\n",
    "%matplotlib inline\n",
    "sns.set()"
   ]
  },
  {
   "cell_type": "markdown",
   "metadata": {
    "ExecuteTime": {
     "end_time": "2020-08-31T12:47:38.247794Z",
     "start_time": "2020-08-31T12:47:38.239797Z"
    }
   },
   "source": [
    "# The highest score for this hackaton was a Root mean squared error of 2339.60"
   ]
  },
  {
   "cell_type": "markdown",
   "metadata": {
    "ExecuteTime": {
     "end_time": "2020-08-18T11:32:04.593377Z",
     "start_time": "2020-08-18T11:32:04.585375Z"
    }
   },
   "source": [
    "# Importing and evaluating the training data with pandas"
   ]
  },
  {
   "cell_type": "code",
   "execution_count": 2,
   "metadata": {
    "ExecuteTime": {
     "end_time": "2020-09-08T11:49:51.059615Z",
     "start_time": "2020-09-08T11:49:50.851820Z"
    },
    "scrolled": false
   },
   "outputs": [
    {
     "data": {
      "text/html": [
       "<div>\n",
       "<style scoped>\n",
       "    .dataframe tbody tr th:only-of-type {\n",
       "        vertical-align: middle;\n",
       "    }\n",
       "\n",
       "    .dataframe tbody tr th {\n",
       "        vertical-align: top;\n",
       "    }\n",
       "\n",
       "    .dataframe thead th {\n",
       "        text-align: right;\n",
       "    }\n",
       "</style>\n",
       "<table border=\"1\" class=\"dataframe\">\n",
       "  <thead>\n",
       "    <tr style=\"text-align: right;\">\n",
       "      <th></th>\n",
       "      <th>Item_ID</th>\n",
       "      <th>Store_ID</th>\n",
       "      <th>Item_Store_ID</th>\n",
       "      <th>Item_Weight</th>\n",
       "      <th>Item_Sugar_Content</th>\n",
       "      <th>Item_Visibility</th>\n",
       "      <th>Item_Type</th>\n",
       "      <th>Item_Price</th>\n",
       "      <th>Store_Start_Year</th>\n",
       "      <th>Store_Size</th>\n",
       "      <th>Store_Location_Type</th>\n",
       "      <th>Store_Type</th>\n",
       "      <th>Item_Store_Returns</th>\n",
       "    </tr>\n",
       "  </thead>\n",
       "  <tbody>\n",
       "    <tr>\n",
       "      <th>0</th>\n",
       "      <td>DRA12</td>\n",
       "      <td>BABATUNJI010</td>\n",
       "      <td>DRA12_BABATUNJI010</td>\n",
       "      <td>11.6</td>\n",
       "      <td>Low Sugar</td>\n",
       "      <td>0.068535</td>\n",
       "      <td>Soft Drinks</td>\n",
       "      <td>357.54</td>\n",
       "      <td>2005</td>\n",
       "      <td>NaN</td>\n",
       "      <td>Cluster 3</td>\n",
       "      <td>Grocery Store</td>\n",
       "      <td>709.08</td>\n",
       "    </tr>\n",
       "    <tr>\n",
       "      <th>1</th>\n",
       "      <td>DRA12</td>\n",
       "      <td>BABATUNJI013</td>\n",
       "      <td>DRA12_BABATUNJI013</td>\n",
       "      <td>11.6</td>\n",
       "      <td>Low Sugar</td>\n",
       "      <td>0.040912</td>\n",
       "      <td>Soft Drinks</td>\n",
       "      <td>355.79</td>\n",
       "      <td>1994</td>\n",
       "      <td>High</td>\n",
       "      <td>Cluster 3</td>\n",
       "      <td>Supermarket Type1</td>\n",
       "      <td>6381.69</td>\n",
       "    </tr>\n",
       "    <tr>\n",
       "      <th>2</th>\n",
       "      <td>DRA12</td>\n",
       "      <td>BABATUNJI017</td>\n",
       "      <td>DRA12_BABATUNJI017</td>\n",
       "      <td>11.6</td>\n",
       "      <td>Low Sugar</td>\n",
       "      <td>0.041178</td>\n",
       "      <td>Soft Drinks</td>\n",
       "      <td>350.79</td>\n",
       "      <td>2014</td>\n",
       "      <td>NaN</td>\n",
       "      <td>Cluster 2</td>\n",
       "      <td>Supermarket Type1</td>\n",
       "      <td>6381.69</td>\n",
       "    </tr>\n",
       "    <tr>\n",
       "      <th>3</th>\n",
       "      <td>DRA12</td>\n",
       "      <td>BABATUNJI018</td>\n",
       "      <td>DRA12_BABATUNJI018</td>\n",
       "      <td>11.6</td>\n",
       "      <td>Low Sugar</td>\n",
       "      <td>0.041113</td>\n",
       "      <td>Soft Drinks</td>\n",
       "      <td>355.04</td>\n",
       "      <td>2016</td>\n",
       "      <td>Medium</td>\n",
       "      <td>Cluster 3</td>\n",
       "      <td>Supermarket Type2</td>\n",
       "      <td>2127.23</td>\n",
       "    </tr>\n",
       "    <tr>\n",
       "      <th>4</th>\n",
       "      <td>DRA12</td>\n",
       "      <td>BABATUNJI035</td>\n",
       "      <td>DRA12_BABATUNJI035</td>\n",
       "      <td>11.6</td>\n",
       "      <td>Ultra Low Sugar</td>\n",
       "      <td>0.000000</td>\n",
       "      <td>Soft Drinks</td>\n",
       "      <td>354.79</td>\n",
       "      <td>2011</td>\n",
       "      <td>Small</td>\n",
       "      <td>Cluster 2</td>\n",
       "      <td>Supermarket Type1</td>\n",
       "      <td>2481.77</td>\n",
       "    </tr>\n",
       "  </tbody>\n",
       "</table>\n",
       "</div>"
      ],
      "text/plain": [
       "  Item_ID      Store_ID       Item_Store_ID  Item_Weight Item_Sugar_Content  \\\n",
       "0   DRA12  BABATUNJI010  DRA12_BABATUNJI010         11.6          Low Sugar   \n",
       "1   DRA12  BABATUNJI013  DRA12_BABATUNJI013         11.6          Low Sugar   \n",
       "2   DRA12  BABATUNJI017  DRA12_BABATUNJI017         11.6          Low Sugar   \n",
       "3   DRA12  BABATUNJI018  DRA12_BABATUNJI018         11.6          Low Sugar   \n",
       "4   DRA12  BABATUNJI035  DRA12_BABATUNJI035         11.6    Ultra Low Sugar   \n",
       "\n",
       "   Item_Visibility    Item_Type  Item_Price  Store_Start_Year Store_Size  \\\n",
       "0         0.068535  Soft Drinks      357.54              2005        NaN   \n",
       "1         0.040912  Soft Drinks      355.79              1994       High   \n",
       "2         0.041178  Soft Drinks      350.79              2014        NaN   \n",
       "3         0.041113  Soft Drinks      355.04              2016     Medium   \n",
       "4         0.000000  Soft Drinks      354.79              2011      Small   \n",
       "\n",
       "  Store_Location_Type         Store_Type  Item_Store_Returns  \n",
       "0           Cluster 3      Grocery Store              709.08  \n",
       "1           Cluster 3  Supermarket Type1             6381.69  \n",
       "2           Cluster 2  Supermarket Type1             6381.69  \n",
       "3           Cluster 3  Supermarket Type2             2127.23  \n",
       "4           Cluster 2  Supermarket Type1             2481.77  "
      ]
     },
     "execution_count": 2,
     "metadata": {},
     "output_type": "execute_result"
    }
   ],
   "source": [
    "train = pd.read_csv('train.csv')\n",
    "test = pd.read_csv('test.csv')\n",
    "train.head()"
   ]
  },
  {
   "cell_type": "code",
   "execution_count": 3,
   "metadata": {
    "ExecuteTime": {
     "end_time": "2020-09-08T11:49:52.442917Z",
     "start_time": "2020-09-08T11:49:52.378970Z"
    }
   },
   "outputs": [
    {
     "data": {
      "text/html": [
       "<div>\n",
       "<style scoped>\n",
       "    .dataframe tbody tr th:only-of-type {\n",
       "        vertical-align: middle;\n",
       "    }\n",
       "\n",
       "    .dataframe tbody tr th {\n",
       "        vertical-align: top;\n",
       "    }\n",
       "\n",
       "    .dataframe thead th {\n",
       "        text-align: right;\n",
       "    }\n",
       "</style>\n",
       "<table border=\"1\" class=\"dataframe\">\n",
       "  <thead>\n",
       "    <tr style=\"text-align: right;\">\n",
       "      <th></th>\n",
       "      <th>Item_ID</th>\n",
       "      <th>Store_ID</th>\n",
       "      <th>Item_Store_ID</th>\n",
       "      <th>Item_Weight</th>\n",
       "      <th>Item_Sugar_Content</th>\n",
       "      <th>Item_Visibility</th>\n",
       "      <th>Item_Type</th>\n",
       "      <th>Item_Price</th>\n",
       "      <th>Store_Start_Year</th>\n",
       "      <th>Store_Size</th>\n",
       "      <th>Store_Location_Type</th>\n",
       "      <th>Store_Type</th>\n",
       "    </tr>\n",
       "  </thead>\n",
       "  <tbody>\n",
       "    <tr>\n",
       "      <th>0</th>\n",
       "      <td>DRA59</td>\n",
       "      <td>BABATUNJI010</td>\n",
       "      <td>DRA59_BABATUNJI010</td>\n",
       "      <td>8.270</td>\n",
       "      <td>Normal Sugar</td>\n",
       "      <td>0.214125</td>\n",
       "      <td>Soft Drinks</td>\n",
       "      <td>459.98</td>\n",
       "      <td>2005</td>\n",
       "      <td>NaN</td>\n",
       "      <td>Cluster 3</td>\n",
       "      <td>Grocery Store</td>\n",
       "    </tr>\n",
       "    <tr>\n",
       "      <th>1</th>\n",
       "      <td>DRA59</td>\n",
       "      <td>BABATUNJI013</td>\n",
       "      <td>DRA59_BABATUNJI013</td>\n",
       "      <td>8.270</td>\n",
       "      <td>Normal Sugar</td>\n",
       "      <td>0.127821</td>\n",
       "      <td>Soft Drinks</td>\n",
       "      <td>464.98</td>\n",
       "      <td>1994</td>\n",
       "      <td>High</td>\n",
       "      <td>Cluster 3</td>\n",
       "      <td>Supermarket Type1</td>\n",
       "    </tr>\n",
       "    <tr>\n",
       "      <th>2</th>\n",
       "      <td>DRB01</td>\n",
       "      <td>BABATUNJI013</td>\n",
       "      <td>DRB01_BABATUNJI013</td>\n",
       "      <td>7.390</td>\n",
       "      <td>Low Sugar</td>\n",
       "      <td>0.082171</td>\n",
       "      <td>Soft Drinks</td>\n",
       "      <td>477.38</td>\n",
       "      <td>1994</td>\n",
       "      <td>High</td>\n",
       "      <td>Cluster 3</td>\n",
       "      <td>Supermarket Type1</td>\n",
       "    </tr>\n",
       "    <tr>\n",
       "      <th>3</th>\n",
       "      <td>DRB13</td>\n",
       "      <td>BABATUNJI010</td>\n",
       "      <td>DRB13_BABATUNJI010</td>\n",
       "      <td>6.115</td>\n",
       "      <td>Normal Sugar</td>\n",
       "      <td>0.011791</td>\n",
       "      <td>Soft Drinks</td>\n",
       "      <td>472.63</td>\n",
       "      <td>2005</td>\n",
       "      <td>NaN</td>\n",
       "      <td>Cluster 3</td>\n",
       "      <td>Grocery Store</td>\n",
       "    </tr>\n",
       "    <tr>\n",
       "      <th>4</th>\n",
       "      <td>DRB13</td>\n",
       "      <td>BABATUNJI013</td>\n",
       "      <td>DRB13_BABATUNJI013</td>\n",
       "      <td>6.115</td>\n",
       "      <td>Normal Sugar</td>\n",
       "      <td>0.007038</td>\n",
       "      <td>Soft Drinks</td>\n",
       "      <td>473.13</td>\n",
       "      <td>1994</td>\n",
       "      <td>High</td>\n",
       "      <td>Cluster 3</td>\n",
       "      <td>Supermarket Type1</td>\n",
       "    </tr>\n",
       "  </tbody>\n",
       "</table>\n",
       "</div>"
      ],
      "text/plain": [
       "  Item_ID      Store_ID       Item_Store_ID  Item_Weight Item_Sugar_Content  \\\n",
       "0   DRA59  BABATUNJI010  DRA59_BABATUNJI010        8.270       Normal Sugar   \n",
       "1   DRA59  BABATUNJI013  DRA59_BABATUNJI013        8.270       Normal Sugar   \n",
       "2   DRB01  BABATUNJI013  DRB01_BABATUNJI013        7.390          Low Sugar   \n",
       "3   DRB13  BABATUNJI010  DRB13_BABATUNJI010        6.115       Normal Sugar   \n",
       "4   DRB13  BABATUNJI013  DRB13_BABATUNJI013        6.115       Normal Sugar   \n",
       "\n",
       "   Item_Visibility    Item_Type  Item_Price  Store_Start_Year Store_Size  \\\n",
       "0         0.214125  Soft Drinks      459.98              2005        NaN   \n",
       "1         0.127821  Soft Drinks      464.98              1994       High   \n",
       "2         0.082171  Soft Drinks      477.38              1994       High   \n",
       "3         0.011791  Soft Drinks      472.63              2005        NaN   \n",
       "4         0.007038  Soft Drinks      473.13              1994       High   \n",
       "\n",
       "  Store_Location_Type         Store_Type  \n",
       "0           Cluster 3      Grocery Store  \n",
       "1           Cluster 3  Supermarket Type1  \n",
       "2           Cluster 3  Supermarket Type1  \n",
       "3           Cluster 3      Grocery Store  \n",
       "4           Cluster 3  Supermarket Type1  "
      ]
     },
     "execution_count": 3,
     "metadata": {},
     "output_type": "execute_result"
    }
   ],
   "source": [
    "test.head()"
   ]
  },
  {
   "cell_type": "markdown",
   "metadata": {},
   "source": [
    "# Feature Engineering"
   ]
  },
  {
   "cell_type": "code",
   "execution_count": 4,
   "metadata": {
    "ExecuteTime": {
     "end_time": "2020-09-08T11:49:53.861631Z",
     "start_time": "2020-09-08T11:49:53.821598Z"
    }
   },
   "outputs": [
    {
     "data": {
      "text/plain": [
       "({'BABATUNJI010': 384,\n",
       "  'BABATUNJI013': 594,\n",
       "  'BABATUNJI017': 583,\n",
       "  'BABATUNJI018': 500,\n",
       "  'BABATUNJI019': 340,\n",
       "  'BABATUNJI027': 462,\n",
       "  'BABATUNJI035': 515,\n",
       "  'BABATUNJI045': 483,\n",
       "  'BABATUNJI046': 509,\n",
       "  'BABATUNJI049': 620},\n",
       " {'BABATUNJI010': 170,\n",
       "  'BABATUNJI013': 338,\n",
       "  'BABATUNJI017': 343,\n",
       "  'BABATUNJI018': 428,\n",
       "  'BABATUNJI019': 188,\n",
       "  'BABATUNJI027': 473,\n",
       "  'BABATUNJI035': 415,\n",
       "  'BABATUNJI045': 446,\n",
       "  'BABATUNJI046': 421,\n",
       "  'BABATUNJI049': 310})"
      ]
     },
     "execution_count": 4,
     "metadata": {},
     "output_type": "execute_result"
    }
   ],
   "source": [
    "count = dict(train.groupby('Store_ID')['Item_ID'].count())\n",
    "count2 = dict(test.groupby('Store_ID')['Item_ID'].count())\n",
    "count, count2"
   ]
  },
  {
   "cell_type": "code",
   "execution_count": 5,
   "metadata": {
    "ExecuteTime": {
     "end_time": "2020-09-08T11:49:57.244375Z",
     "start_time": "2020-09-08T11:49:57.204215Z"
    }
   },
   "outputs": [],
   "source": [
    "train['Total_Item_In_Store'] = train['Store_ID'].apply(lambda x: count[x])\n",
    "test['Total_Item_In_Store'] = train['Store_ID'].apply(lambda x: count2[x])"
   ]
  },
  {
   "cell_type": "code",
   "execution_count": 6,
   "metadata": {
    "ExecuteTime": {
     "end_time": "2020-09-08T11:49:58.156028Z",
     "start_time": "2020-09-08T11:49:58.116039Z"
    },
    "scrolled": false
   },
   "outputs": [
    {
     "data": {
      "text/html": [
       "<div>\n",
       "<style scoped>\n",
       "    .dataframe tbody tr th:only-of-type {\n",
       "        vertical-align: middle;\n",
       "    }\n",
       "\n",
       "    .dataframe tbody tr th {\n",
       "        vertical-align: top;\n",
       "    }\n",
       "\n",
       "    .dataframe thead th {\n",
       "        text-align: right;\n",
       "    }\n",
       "</style>\n",
       "<table border=\"1\" class=\"dataframe\">\n",
       "  <thead>\n",
       "    <tr style=\"text-align: right;\">\n",
       "      <th></th>\n",
       "      <th>Item_ID</th>\n",
       "      <th>Store_ID</th>\n",
       "      <th>Item_Store_ID</th>\n",
       "      <th>Item_Weight</th>\n",
       "      <th>Item_Sugar_Content</th>\n",
       "      <th>Item_Visibility</th>\n",
       "      <th>Item_Type</th>\n",
       "      <th>Item_Price</th>\n",
       "      <th>Store_Start_Year</th>\n",
       "      <th>Store_Size</th>\n",
       "      <th>Store_Location_Type</th>\n",
       "      <th>Store_Type</th>\n",
       "      <th>Item_Store_Returns</th>\n",
       "      <th>Total_Item_In_Store</th>\n",
       "    </tr>\n",
       "  </thead>\n",
       "  <tbody>\n",
       "    <tr>\n",
       "      <th>0</th>\n",
       "      <td>DRA12</td>\n",
       "      <td>BABATUNJI010</td>\n",
       "      <td>DRA12_BABATUNJI010</td>\n",
       "      <td>11.6</td>\n",
       "      <td>Low Sugar</td>\n",
       "      <td>0.068535</td>\n",
       "      <td>Soft Drinks</td>\n",
       "      <td>357.54</td>\n",
       "      <td>2005</td>\n",
       "      <td>NaN</td>\n",
       "      <td>Cluster 3</td>\n",
       "      <td>Grocery Store</td>\n",
       "      <td>709.08</td>\n",
       "      <td>384</td>\n",
       "    </tr>\n",
       "    <tr>\n",
       "      <th>1</th>\n",
       "      <td>DRA12</td>\n",
       "      <td>BABATUNJI013</td>\n",
       "      <td>DRA12_BABATUNJI013</td>\n",
       "      <td>11.6</td>\n",
       "      <td>Low Sugar</td>\n",
       "      <td>0.040912</td>\n",
       "      <td>Soft Drinks</td>\n",
       "      <td>355.79</td>\n",
       "      <td>1994</td>\n",
       "      <td>High</td>\n",
       "      <td>Cluster 3</td>\n",
       "      <td>Supermarket Type1</td>\n",
       "      <td>6381.69</td>\n",
       "      <td>594</td>\n",
       "    </tr>\n",
       "    <tr>\n",
       "      <th>2</th>\n",
       "      <td>DRA12</td>\n",
       "      <td>BABATUNJI017</td>\n",
       "      <td>DRA12_BABATUNJI017</td>\n",
       "      <td>11.6</td>\n",
       "      <td>Low Sugar</td>\n",
       "      <td>0.041178</td>\n",
       "      <td>Soft Drinks</td>\n",
       "      <td>350.79</td>\n",
       "      <td>2014</td>\n",
       "      <td>NaN</td>\n",
       "      <td>Cluster 2</td>\n",
       "      <td>Supermarket Type1</td>\n",
       "      <td>6381.69</td>\n",
       "      <td>583</td>\n",
       "    </tr>\n",
       "    <tr>\n",
       "      <th>3</th>\n",
       "      <td>DRA12</td>\n",
       "      <td>BABATUNJI018</td>\n",
       "      <td>DRA12_BABATUNJI018</td>\n",
       "      <td>11.6</td>\n",
       "      <td>Low Sugar</td>\n",
       "      <td>0.041113</td>\n",
       "      <td>Soft Drinks</td>\n",
       "      <td>355.04</td>\n",
       "      <td>2016</td>\n",
       "      <td>Medium</td>\n",
       "      <td>Cluster 3</td>\n",
       "      <td>Supermarket Type2</td>\n",
       "      <td>2127.23</td>\n",
       "      <td>500</td>\n",
       "    </tr>\n",
       "    <tr>\n",
       "      <th>4</th>\n",
       "      <td>DRA12</td>\n",
       "      <td>BABATUNJI035</td>\n",
       "      <td>DRA12_BABATUNJI035</td>\n",
       "      <td>11.6</td>\n",
       "      <td>Ultra Low Sugar</td>\n",
       "      <td>0.000000</td>\n",
       "      <td>Soft Drinks</td>\n",
       "      <td>354.79</td>\n",
       "      <td>2011</td>\n",
       "      <td>Small</td>\n",
       "      <td>Cluster 2</td>\n",
       "      <td>Supermarket Type1</td>\n",
       "      <td>2481.77</td>\n",
       "      <td>515</td>\n",
       "    </tr>\n",
       "  </tbody>\n",
       "</table>\n",
       "</div>"
      ],
      "text/plain": [
       "  Item_ID      Store_ID       Item_Store_ID  Item_Weight Item_Sugar_Content  \\\n",
       "0   DRA12  BABATUNJI010  DRA12_BABATUNJI010         11.6          Low Sugar   \n",
       "1   DRA12  BABATUNJI013  DRA12_BABATUNJI013         11.6          Low Sugar   \n",
       "2   DRA12  BABATUNJI017  DRA12_BABATUNJI017         11.6          Low Sugar   \n",
       "3   DRA12  BABATUNJI018  DRA12_BABATUNJI018         11.6          Low Sugar   \n",
       "4   DRA12  BABATUNJI035  DRA12_BABATUNJI035         11.6    Ultra Low Sugar   \n",
       "\n",
       "   Item_Visibility    Item_Type  Item_Price  Store_Start_Year Store_Size  \\\n",
       "0         0.068535  Soft Drinks      357.54              2005        NaN   \n",
       "1         0.040912  Soft Drinks      355.79              1994       High   \n",
       "2         0.041178  Soft Drinks      350.79              2014        NaN   \n",
       "3         0.041113  Soft Drinks      355.04              2016     Medium   \n",
       "4         0.000000  Soft Drinks      354.79              2011      Small   \n",
       "\n",
       "  Store_Location_Type         Store_Type  Item_Store_Returns  \\\n",
       "0           Cluster 3      Grocery Store              709.08   \n",
       "1           Cluster 3  Supermarket Type1             6381.69   \n",
       "2           Cluster 2  Supermarket Type1             6381.69   \n",
       "3           Cluster 3  Supermarket Type2             2127.23   \n",
       "4           Cluster 2  Supermarket Type1             2481.77   \n",
       "\n",
       "   Total_Item_In_Store  \n",
       "0                  384  \n",
       "1                  594  \n",
       "2                  583  \n",
       "3                  500  \n",
       "4                  515  "
      ]
     },
     "execution_count": 6,
     "metadata": {},
     "output_type": "execute_result"
    }
   ],
   "source": [
    "train.head()"
   ]
  },
  {
   "cell_type": "code",
   "execution_count": 7,
   "metadata": {
    "ExecuteTime": {
     "end_time": "2020-09-08T11:49:58.792257Z",
     "start_time": "2020-09-08T11:49:58.720211Z"
    }
   },
   "outputs": [
    {
     "data": {
      "text/html": [
       "<div>\n",
       "<style scoped>\n",
       "    .dataframe tbody tr th:only-of-type {\n",
       "        vertical-align: middle;\n",
       "    }\n",
       "\n",
       "    .dataframe tbody tr th {\n",
       "        vertical-align: top;\n",
       "    }\n",
       "\n",
       "    .dataframe thead th {\n",
       "        text-align: right;\n",
       "    }\n",
       "</style>\n",
       "<table border=\"1\" class=\"dataframe\">\n",
       "  <thead>\n",
       "    <tr style=\"text-align: right;\">\n",
       "      <th></th>\n",
       "      <th>Item_ID</th>\n",
       "      <th>Store_ID</th>\n",
       "      <th>Item_Store_ID</th>\n",
       "      <th>Item_Weight</th>\n",
       "      <th>Item_Sugar_Content</th>\n",
       "      <th>Item_Visibility</th>\n",
       "      <th>Item_Type</th>\n",
       "      <th>Item_Price</th>\n",
       "      <th>Store_Start_Year</th>\n",
       "      <th>Store_Size</th>\n",
       "      <th>Store_Location_Type</th>\n",
       "      <th>Store_Type</th>\n",
       "      <th>Total_Item_In_Store</th>\n",
       "    </tr>\n",
       "  </thead>\n",
       "  <tbody>\n",
       "    <tr>\n",
       "      <th>0</th>\n",
       "      <td>DRA59</td>\n",
       "      <td>BABATUNJI010</td>\n",
       "      <td>DRA59_BABATUNJI010</td>\n",
       "      <td>8.270</td>\n",
       "      <td>Normal Sugar</td>\n",
       "      <td>0.214125</td>\n",
       "      <td>Soft Drinks</td>\n",
       "      <td>459.98</td>\n",
       "      <td>2005</td>\n",
       "      <td>NaN</td>\n",
       "      <td>Cluster 3</td>\n",
       "      <td>Grocery Store</td>\n",
       "      <td>170</td>\n",
       "    </tr>\n",
       "    <tr>\n",
       "      <th>1</th>\n",
       "      <td>DRA59</td>\n",
       "      <td>BABATUNJI013</td>\n",
       "      <td>DRA59_BABATUNJI013</td>\n",
       "      <td>8.270</td>\n",
       "      <td>Normal Sugar</td>\n",
       "      <td>0.127821</td>\n",
       "      <td>Soft Drinks</td>\n",
       "      <td>464.98</td>\n",
       "      <td>1994</td>\n",
       "      <td>High</td>\n",
       "      <td>Cluster 3</td>\n",
       "      <td>Supermarket Type1</td>\n",
       "      <td>338</td>\n",
       "    </tr>\n",
       "    <tr>\n",
       "      <th>2</th>\n",
       "      <td>DRB01</td>\n",
       "      <td>BABATUNJI013</td>\n",
       "      <td>DRB01_BABATUNJI013</td>\n",
       "      <td>7.390</td>\n",
       "      <td>Low Sugar</td>\n",
       "      <td>0.082171</td>\n",
       "      <td>Soft Drinks</td>\n",
       "      <td>477.38</td>\n",
       "      <td>1994</td>\n",
       "      <td>High</td>\n",
       "      <td>Cluster 3</td>\n",
       "      <td>Supermarket Type1</td>\n",
       "      <td>343</td>\n",
       "    </tr>\n",
       "    <tr>\n",
       "      <th>3</th>\n",
       "      <td>DRB13</td>\n",
       "      <td>BABATUNJI010</td>\n",
       "      <td>DRB13_BABATUNJI010</td>\n",
       "      <td>6.115</td>\n",
       "      <td>Normal Sugar</td>\n",
       "      <td>0.011791</td>\n",
       "      <td>Soft Drinks</td>\n",
       "      <td>472.63</td>\n",
       "      <td>2005</td>\n",
       "      <td>NaN</td>\n",
       "      <td>Cluster 3</td>\n",
       "      <td>Grocery Store</td>\n",
       "      <td>428</td>\n",
       "    </tr>\n",
       "    <tr>\n",
       "      <th>4</th>\n",
       "      <td>DRB13</td>\n",
       "      <td>BABATUNJI013</td>\n",
       "      <td>DRB13_BABATUNJI013</td>\n",
       "      <td>6.115</td>\n",
       "      <td>Normal Sugar</td>\n",
       "      <td>0.007038</td>\n",
       "      <td>Soft Drinks</td>\n",
       "      <td>473.13</td>\n",
       "      <td>1994</td>\n",
       "      <td>High</td>\n",
       "      <td>Cluster 3</td>\n",
       "      <td>Supermarket Type1</td>\n",
       "      <td>415</td>\n",
       "    </tr>\n",
       "  </tbody>\n",
       "</table>\n",
       "</div>"
      ],
      "text/plain": [
       "  Item_ID      Store_ID       Item_Store_ID  Item_Weight Item_Sugar_Content  \\\n",
       "0   DRA59  BABATUNJI010  DRA59_BABATUNJI010        8.270       Normal Sugar   \n",
       "1   DRA59  BABATUNJI013  DRA59_BABATUNJI013        8.270       Normal Sugar   \n",
       "2   DRB01  BABATUNJI013  DRB01_BABATUNJI013        7.390          Low Sugar   \n",
       "3   DRB13  BABATUNJI010  DRB13_BABATUNJI010        6.115       Normal Sugar   \n",
       "4   DRB13  BABATUNJI013  DRB13_BABATUNJI013        6.115       Normal Sugar   \n",
       "\n",
       "   Item_Visibility    Item_Type  Item_Price  Store_Start_Year Store_Size  \\\n",
       "0         0.214125  Soft Drinks      459.98              2005        NaN   \n",
       "1         0.127821  Soft Drinks      464.98              1994       High   \n",
       "2         0.082171  Soft Drinks      477.38              1994       High   \n",
       "3         0.011791  Soft Drinks      472.63              2005        NaN   \n",
       "4         0.007038  Soft Drinks      473.13              1994       High   \n",
       "\n",
       "  Store_Location_Type         Store_Type  Total_Item_In_Store  \n",
       "0           Cluster 3      Grocery Store                  170  \n",
       "1           Cluster 3  Supermarket Type1                  338  \n",
       "2           Cluster 3  Supermarket Type1                  343  \n",
       "3           Cluster 3      Grocery Store                  428  \n",
       "4           Cluster 3  Supermarket Type1                  415  "
      ]
     },
     "execution_count": 7,
     "metadata": {},
     "output_type": "execute_result"
    }
   ],
   "source": [
    "test.head()"
   ]
  },
  {
   "cell_type": "code",
   "execution_count": 8,
   "metadata": {
    "ExecuteTime": {
     "end_time": "2020-09-08T11:49:59.593472Z",
     "start_time": "2020-09-08T11:49:59.537439Z"
    },
    "scrolled": true
   },
   "outputs": [
    {
     "name": "stdout",
     "output_type": "stream",
     "text": [
      "<class 'pandas.core.frame.DataFrame'>\n",
      "RangeIndex: 4990 entries, 0 to 4989\n",
      "Data columns (total 14 columns):\n",
      "Item_ID                4990 non-null object\n",
      "Store_ID               4990 non-null object\n",
      "Item_Store_ID          4990 non-null object\n",
      "Item_Weight            4188 non-null float64\n",
      "Item_Sugar_Content     4990 non-null object\n",
      "Item_Visibility        4990 non-null float64\n",
      "Item_Type              4990 non-null object\n",
      "Item_Price             4990 non-null float64\n",
      "Store_Start_Year       4990 non-null int64\n",
      "Store_Size             3540 non-null object\n",
      "Store_Location_Type    4990 non-null object\n",
      "Store_Type             4990 non-null object\n",
      "Item_Store_Returns     4990 non-null float64\n",
      "Total_Item_In_Store    4990 non-null int64\n",
      "dtypes: float64(4), int64(2), object(8)\n",
      "memory usage: 545.9+ KB\n"
     ]
    }
   ],
   "source": [
    "train.info()"
   ]
  },
  {
   "cell_type": "code",
   "execution_count": 9,
   "metadata": {
    "ExecuteTime": {
     "end_time": "2020-09-08T11:50:00.577468Z",
     "start_time": "2020-09-08T11:50:00.545422Z"
    }
   },
   "outputs": [
    {
     "name": "stdout",
     "output_type": "stream",
     "text": [
      "<class 'pandas.core.frame.DataFrame'>\n",
      "RangeIndex: 3532 entries, 0 to 3531\n",
      "Data columns (total 13 columns):\n",
      "Item_ID                3532 non-null object\n",
      "Store_ID               3532 non-null object\n",
      "Item_Store_ID          3532 non-null object\n",
      "Item_Weight            2871 non-null float64\n",
      "Item_Sugar_Content     3532 non-null object\n",
      "Item_Visibility        3532 non-null float64\n",
      "Item_Type              3532 non-null object\n",
      "Item_Price             3532 non-null float64\n",
      "Store_Start_Year       3532 non-null int64\n",
      "Store_Size             2573 non-null object\n",
      "Store_Location_Type    3532 non-null object\n",
      "Store_Type             3532 non-null object\n",
      "Total_Item_In_Store    3532 non-null int64\n",
      "dtypes: float64(3), int64(2), object(8)\n",
      "memory usage: 358.8+ KB\n"
     ]
    }
   ],
   "source": [
    "test.info()"
   ]
  },
  {
   "cell_type": "code",
   "execution_count": 10,
   "metadata": {
    "ExecuteTime": {
     "end_time": "2020-09-08T11:50:01.710450Z",
     "start_time": "2020-09-08T11:50:01.686458Z"
    }
   },
   "outputs": [
    {
     "data": {
      "text/plain": [
       "Index(['Item_ID', 'Store_ID', 'Item_Store_ID', 'Item_Weight',\n",
       "       'Item_Sugar_Content', 'Item_Visibility', 'Item_Type', 'Item_Price',\n",
       "       'Store_Start_Year', 'Store_Size', 'Store_Location_Type', 'Store_Type',\n",
       "       'Item_Store_Returns', 'Total_Item_In_Store'],\n",
       "      dtype='object')"
      ]
     },
     "execution_count": 10,
     "metadata": {},
     "output_type": "execute_result"
    }
   ],
   "source": [
    "train.columns"
   ]
  },
  {
   "cell_type": "code",
   "execution_count": 11,
   "metadata": {
    "ExecuteTime": {
     "end_time": "2020-09-08T11:50:02.416754Z",
     "start_time": "2020-09-08T11:50:02.392741Z"
    }
   },
   "outputs": [],
   "source": [
    "train.set_index('Item_Store_ID', inplace=True)\n",
    "test.set_index('Item_Store_ID', inplace=True)"
   ]
  },
  {
   "cell_type": "code",
   "execution_count": null,
   "metadata": {},
   "outputs": [],
   "source": []
  },
  {
   "cell_type": "code",
   "execution_count": null,
   "metadata": {},
   "outputs": [],
   "source": []
  },
  {
   "cell_type": "markdown",
   "metadata": {
    "ExecuteTime": {
     "end_time": "2020-08-18T14:15:33.924877Z",
     "start_time": "2020-08-18T14:15:33.900869Z"
    }
   },
   "source": [
    "# Exploratory Data Analysis"
   ]
  },
  {
   "cell_type": "code",
   "execution_count": 21,
   "metadata": {
    "ExecuteTime": {
     "end_time": "2020-08-22T22:12:18.695457Z",
     "start_time": "2020-08-22T22:12:18.527161Z"
    }
   },
   "outputs": [
    {
     "data": {
      "text/plain": [
       "\"stores_items = {'BABATUNJI010': 384,\\n 'BABATUNJI013': 594,\\n 'BABATUNJI017': 583,\\n 'BABATUNJI018': 500,\\n 'BABATUNJI019': 340,\\n 'BABATUNJI027': 462,\\n 'BABATUNJI035': 515,\\n 'BABATUNJI045': 483,\\n 'BABATUNJI046': 509,\\n 'BABATUNJI049': 620}\\nstores_tw = {'BABATUNJI010': 4945.965000000001,\\n 'BABATUNJI013': 7609.240000000022,\\n 'BABATUNJI017': 7535.45500000001,\\n 'BABATUNJI018': 6494.185000000012,\\n 'BABATUNJI019': 0.0,\\n 'BABATUNJI027': 0.0,\\n 'BABATUNJI035': 6729.23000000001,\\n 'BABATUNJI045': 6129.155000000006,\\n 'BABATUNJI046': 6597.860000000011,\\n 'BABATUNJI049': 8021.1250000000155}\\nstores_size = {'BABATUNJI010': array([nan], dtype=object),\\n 'BABATUNJI013': array(['High'], dtype=object),\\n 'BABATUNJI017': array([nan], dtype=object),\\n 'BABATUNJI018': array(['Medium'], dtype=object),\\n 'BABATUNJI019': array(['Small'], dtype=object),\\n 'BABATUNJI027': array(['Medium'], dtype=object),\\n 'BABATUNJI035': array(['Small'], dtype=object),\\n 'BABATUNJI045': array([nan], dtype=object),\\n 'BABATUNJI046': array(['Small'], dtype=object),\\n 'BABATUNJI049': array(['Medium'], dtype=object)}\""
      ]
     },
     "execution_count": 21,
     "metadata": {},
     "output_type": "execute_result"
    }
   ],
   "source": [
    "### Comparism trackers, the deciding factor of what store size the missing value belonged to was the item_store_returns values of the missing stores\n",
    "'''stores_items = {'BABATUNJI010': 384,\n",
    " 'BABATUNJI013': 594,\n",
    " 'BABATUNJI017': 583,\n",
    " 'BABATUNJI018': 500,\n",
    " 'BABATUNJI019': 340,\n",
    " 'BABATUNJI027': 462,\n",
    " 'BABATUNJI035': 515,\n",
    " 'BABATUNJI045': 483,\n",
    " 'BABATUNJI046': 509,\n",
    " 'BABATUNJI049': 620}\n",
    "stores_tw = {'BABATUNJI010': 4945.965000000001,\n",
    " 'BABATUNJI013': 7609.240000000022,\n",
    " 'BABATUNJI017': 7535.45500000001,\n",
    " 'BABATUNJI018': 6494.185000000012,\n",
    " 'BABATUNJI019': 0.0,\n",
    " 'BABATUNJI027': 0.0,\n",
    " 'BABATUNJI035': 6729.23000000001,\n",
    " 'BABATUNJI045': 6129.155000000006,\n",
    " 'BABATUNJI046': 6597.860000000011,\n",
    " 'BABATUNJI049': 8021.1250000000155}\n",
    "stores_size = {'BABATUNJI010': array([nan], dtype=object),\n",
    " 'BABATUNJI013': array(['High'], dtype=object),\n",
    " 'BABATUNJI017': array([nan], dtype=object),\n",
    " 'BABATUNJI018': array(['Medium'], dtype=object),\n",
    " 'BABATUNJI019': array(['Small'], dtype=object),\n",
    " 'BABATUNJI027': array(['Medium'], dtype=object),\n",
    " 'BABATUNJI035': array(['Small'], dtype=object),\n",
    " 'BABATUNJI045': array([nan], dtype=object),\n",
    " 'BABATUNJI046': array(['Small'], dtype=object),\n",
    " 'BABATUNJI049': array(['Medium'], dtype=object)}'''\n"
   ]
  },
  {
   "cell_type": "code",
   "execution_count": null,
   "metadata": {},
   "outputs": [],
   "source": []
  },
  {
   "cell_type": "code",
   "execution_count": 22,
   "metadata": {
    "ExecuteTime": {
     "end_time": "2020-08-22T22:12:19.367157Z",
     "start_time": "2020-08-22T22:12:18.695457Z"
    },
    "scrolled": true
   },
   "outputs": [
    {
     "data": {
      "text/plain": [
       "<matplotlib.axes._subplots.AxesSubplot at 0x1aeec61f848>"
      ]
     },
     "execution_count": 22,
     "metadata": {},
     "output_type": "execute_result"
    },
    {
     "data": {
      "image/png": "[encoded data removed]",
      "text/plain": [
       "<Figure size 432x288 with 1 Axes>"
      ]
     },
     "metadata": {
      "needs_background": "light"
     },
     "output_type": "display_data"
    }
   ],
   "source": [
    "# Relationship between market clusters and item store returns\n",
    "\n",
    "sns.barplot(x='Store_Location_Type', y='Item_Store_Returns', data=train)"
   ]
  },
  {
   "cell_type": "markdown",
   "metadata": {
    "ExecuteTime": {
     "end_time": "2020-08-18T14:20:18.187605Z",
     "start_time": "2020-08-18T14:20:18.179603Z"
    }
   },
   "source": [
    "## Cluster 2 has the highest return, followed by cluster 3 and then cluster 1 (stores based on the location). means cluster 2 is the best location for opening a new stores followed by 3 and 1"
   ]
  },
  {
   "cell_type": "code",
   "execution_count": 23,
   "metadata": {
    "ExecuteTime": {
     "end_time": "2020-08-22T22:12:19.903163Z",
     "start_time": "2020-08-22T22:12:19.367157Z"
    }
   },
   "outputs": [
    {
     "data": {
      "text/plain": [
       "<matplotlib.axes._subplots.AxesSubplot at 0x1aeeca4d308>"
      ]
     },
     "execution_count": 23,
     "metadata": {},
     "output_type": "execute_result"
    },
    {
     "data": {
      "image/png": "[encoded data removed]",
      "text/plain": [
       "<Figure size 648x432 with 1 Axes>"
      ]
     },
     "metadata": {
      "needs_background": "light"
     },
     "output_type": "display_data"
    }
   ],
   "source": [
    "# Relationship between store type and item store returns\n",
    "plt.figure(figsize=(9,6))\n",
    "sns.barplot(x='Store_Type', y='Item_Store_Returns', data=train)"
   ]
  },
  {
   "cell_type": "markdown",
   "metadata": {},
   "source": [
    "## The supermarket type three shows the highest return and emergest as the best store type for the new store as it has the best returns"
   ]
  },
  {
   "cell_type": "code",
   "execution_count": 24,
   "metadata": {
    "ExecuteTime": {
     "end_time": "2020-08-22T22:12:20.781533Z",
     "start_time": "2020-08-22T22:12:19.903163Z"
    }
   },
   "outputs": [
    {
     "data": {
      "text/plain": [
       "<matplotlib.axes._subplots.AxesSubplot at 0x1aeecad9a88>"
      ]
     },
     "execution_count": 24,
     "metadata": {},
     "output_type": "execute_result"
    },
    {
     "data": {
      "image/png": "[encoded data removed]",
      "text/plain": [
       "<Figure size 432x288 with 1 Axes>"
      ]
     },
     "metadata": {
      "needs_background": "light"
     },
     "output_type": "display_data"
    }
   ],
   "source": [
    "sns.barplot(x='Store_Start_Year', y='Item_Store_Returns', data=train)"
   ]
  },
  {
   "cell_type": "markdown",
   "metadata": {
    "ExecuteTime": {
     "end_time": "2020-08-18T14:50:37.889070Z",
     "start_time": "2020-08-18T14:50:37.877064Z"
    }
   },
   "source": [
    "## the year the store start give no clear indications for returns in accending or decending order "
   ]
  },
  {
   "cell_type": "code",
   "execution_count": 25,
   "metadata": {
    "ExecuteTime": {
     "end_time": "2020-08-22T22:12:21.931549Z",
     "start_time": "2020-08-22T22:12:20.781533Z"
    }
   },
   "outputs": [
    {
     "data": {
      "image/png": "[encoded data removed]",
      "text/plain": [
       "<Figure size 1584x432 with 1 Axes>"
      ]
     },
     "metadata": {
      "needs_background": "light"
     },
     "output_type": "display_data"
    }
   ],
   "source": [
    "# relationship between the item type and the item store returns\n",
    "plt.figure(figsize=(22,6))\n",
    "sns.barplot(x='Item_Type', y='Item_Store_Returns', data=train)\n",
    "plt.tight_layout(pad=3.0)"
   ]
  },
  {
   "cell_type": "markdown",
   "metadata": {
    "ExecuteTime": {
     "end_time": "2020-08-18T14:31:22.942892Z",
     "start_time": "2020-08-18T14:31:22.919859Z"
    }
   },
   "source": [
    "## Starchy foods shows the best best return"
   ]
  },
  {
   "cell_type": "code",
   "execution_count": 26,
   "metadata": {
    "ExecuteTime": {
     "end_time": "2020-08-22T22:12:23.312630Z",
     "start_time": "2020-08-22T22:12:21.931549Z"
    }
   },
   "outputs": [
    {
     "data": {
      "image/png": "[encoded data removed]",
      "text/plain": [
       "<Figure size 1584x432 with 1 Axes>"
      ]
     },
     "metadata": {
      "needs_background": "light"
     },
     "output_type": "display_data"
    }
   ],
   "source": [
    "# best Item type in the best cluster location\n",
    "\n",
    "cast = train[train['Store_Location_Type']=='Cluster 2']\n",
    "plt.figure(figsize=(22,6))\n",
    "sns.barplot(x='Item_Type', y='Item_Store_Returns', data=cast)\n",
    "plt.tight_layout(pad=3.0)"
   ]
  },
  {
   "cell_type": "code",
   "execution_count": 27,
   "metadata": {
    "ExecuteTime": {
     "end_time": "2020-08-22T22:12:24.560724Z",
     "start_time": "2020-08-22T22:12:23.312630Z"
    }
   },
   "outputs": [
    {
     "data": {
      "image/png": "[encoded data removed]",
      "text/plain": [
       "<Figure size 1584x432 with 1 Axes>"
      ]
     },
     "metadata": {
      "needs_background": "light"
     },
     "output_type": "display_data"
    }
   ],
   "source": [
    "cast2 = train[train['Store_Type']=='Supermarket Type3']\n",
    "plt.figure(figsize=(22,6))\n",
    "sns.barplot(x='Item_Type', y='Item_Store_Returns', data=cast2)\n",
    "plt.tight_layout(pad=3.0)"
   ]
  },
  {
   "cell_type": "code",
   "execution_count": 28,
   "metadata": {
    "ExecuteTime": {
     "end_time": "2020-08-22T22:12:24.954413Z",
     "start_time": "2020-08-22T22:12:24.560724Z"
    }
   },
   "outputs": [
    {
     "data": {
      "text/plain": [
       "<matplotlib.axes._subplots.AxesSubplot at 0x1aeecdea8c8>"
      ]
     },
     "execution_count": 28,
     "metadata": {},
     "output_type": "execute_result"
    },
    {
     "data": {
      "image/png": "[encoded data removed]",
      "text/plain": [
       "<Figure size 648x432 with 1 Axes>"
      ]
     },
     "metadata": {
      "needs_background": "light"
     },
     "output_type": "display_data"
    }
   ],
   "source": [
    "plt.figure(figsize=(9,6))\n",
    "sns.countplot('Store_Type', data=train, hue='Store_Location_Type')"
   ]
  },
  {
   "cell_type": "code",
   "execution_count": 29,
   "metadata": {
    "ExecuteTime": {
     "end_time": "2020-08-22T22:12:25.506410Z",
     "start_time": "2020-08-22T22:12:24.954413Z"
    }
   },
   "outputs": [
    {
     "data": {
      "text/plain": [
       "<matplotlib.axes._subplots.AxesSubplot at 0x1aeece6bc48>"
      ]
     },
     "execution_count": 29,
     "metadata": {},
     "output_type": "execute_result"
    },
    {
     "data": {
      "image/png": "[encoded data removed]",
      "text/plain": [
       "<Figure size 1008x432 with 1 Axes>"
      ]
     },
     "metadata": {
      "needs_background": "light"
     },
     "output_type": "display_data"
    }
   ],
   "source": [
    "plt.figure(figsize=(14,6))\n",
    "sns.countplot('Store_Location_Type', data=train, hue='Store_Start_Year')"
   ]
  },
  {
   "cell_type": "markdown",
   "metadata": {
    "ExecuteTime": {
     "end_time": "2020-08-18T21:12:20.217282Z",
     "start_time": "2020-08-18T21:12:20.201283Z"
    }
   },
   "source": [
    "## More Exploratory Data Analysis"
   ]
  },
  {
   "cell_type": "code",
   "execution_count": 42,
   "metadata": {
    "ExecuteTime": {
     "end_time": "2020-08-22T22:12:28.322693Z",
     "start_time": "2020-08-22T22:12:27.602696Z"
    }
   },
   "outputs": [
    {
     "data": {
      "text/plain": [
       "<matplotlib.axes._subplots.AxesSubplot at 0x1aeed395b08>"
      ]
     },
     "execution_count": 42,
     "metadata": {},
     "output_type": "execute_result"
    },
    {
     "data": {
      "image/png": "[encoded data removed]",
      "text/plain": [
       "<Figure size 432x288 with 2 Axes>"
      ]
     },
     "metadata": {
      "needs_background": "light"
     },
     "output_type": "display_data"
    }
   ],
   "source": [
    "sns.heatmap(train.corr(), cmap='coolwarm')"
   ]
  },
  {
   "cell_type": "code",
   "execution_count": 43,
   "metadata": {
    "ExecuteTime": {
     "end_time": "2020-08-22T22:12:29.379522Z",
     "start_time": "2020-08-22T22:12:28.322693Z"
    }
   },
   "outputs": [
    {
     "data": {
      "text/plain": [
       "<seaborn.matrix.ClusterGrid at 0x1aeed468408>"
      ]
     },
     "execution_count": 43,
     "metadata": {},
     "output_type": "execute_result"
    },
    {
     "data": {
      "image/png": "[encoded data removed]",
      "text/plain": [
       "<Figure size 720x720 with 4 Axes>"
      ]
     },
     "metadata": {
      "needs_background": "light"
     },
     "output_type": "display_data"
    }
   ],
   "source": [
    "sns.clustermap(train.corr(), cmap='coolwarm')"
   ]
  },
  {
   "cell_type": "markdown",
   "metadata": {
    "ExecuteTime": {
     "end_time": "2020-08-18T21:19:00.209681Z",
     "start_time": "2020-08-18T21:19:00.192689Z"
    }
   },
   "source": [
    "# Splting the data and Training our models"
   ]
  },
  {
   "cell_type": "markdown",
   "metadata": {
    "ExecuteTime": {
     "end_time": "2020-08-21T15:34:26.264668Z",
     "start_time": "2020-08-21T15:34:26.240625Z"
    }
   },
   "source": [
    "# Models"
   ]
  },
  {
   "cell_type": "code",
   "execution_count": 47,
   "metadata": {
    "ExecuteTime": {
     "end_time": "2020-08-22T22:12:29.771488Z",
     "start_time": "2020-08-22T22:12:29.595533Z"
    }
   },
   "outputs": [
    {
     "name": "stdout",
     "output_type": "stream",
     "text": [
      "Mean absolute Error:  2425.552920399486\n",
      "Residual Sum of Squares (RSS):  58418338152.474396\n",
      "Root Mean Squared Error:  3356.5363312444883\n",
      "R Squared:  0.43369647048210747\n",
      "RMSLE Score:  0.5812252778879541\n"
     ]
    }
   ],
   "source": [
    "from sklearn.metrics import mean_absolute_error, mean_squared_error, mean_squared_log_error, r2_score\n",
    "from sklearn.linear_model import ElasticNet\n",
    "\n",
    "elmodel = ElasticNet(alpha=0.0009, l1_ratio=0.9, max_iter=10000)\n",
    "\n",
    "elmodel.fit(a_train, b_train)\n",
    "\n",
    "elpred = elmodel.predict(a_test)\n",
    "\n",
    "\n",
    "print('Mean absolute Error: ', mean_absolute_error(b_test, np.exp(elpred)))\n",
    "print('Residual Sum of Squares (RSS): ',  np.sum(np.square(b_test, np.exp(elpred))))\n",
    "print('Root Mean Squared Error: ', np.sqrt(mean_squared_error(b_test, np.exp(elpred))))\n",
    "print('R Squared: ', r2_score(b_test, np.exp(elpred)))\n",
    "print('RMSLE Score: ', np.sqrt(mean_squared_log_error(b_test, np.exp(elpred))))"
   ]
  },
  {
   "cell_type": "code",
   "execution_count": null,
   "metadata": {},
   "outputs": [],
   "source": []
  },
  {
   "cell_type": "code",
   "execution_count": 93,
   "metadata": {
    "ExecuteTime": {
     "end_time": "2020-08-22T22:29:30.413019Z",
     "start_time": "2020-08-22T22:29:29.742464Z"
    }
   },
   "outputs": [
    {
     "name": "stdout",
     "output_type": "stream",
     "text": [
      "Mean absolute Error:  2126.1017759400015\n",
      "Residual Sum of Squares (RSS):  58418338152.474396\n",
      "Root Mean Squared Error:  2879.3752584367962\n",
      "R Squared:  0.5832620022183899\n",
      "RMSLE Score:  0.5348563830741047\n"
     ]
    }
   ],
   "source": [
    "from sklearn.ensemble import GradientBoostingRegressor\n",
    "{'ls', 'lad', 'huber', 'quantile'},\n",
    "gbmodel = GradientBoostingRegressor(loss='lad', alpha=0.9, learning_rate=0.07, max_depth=2)\n",
    "gbmodel.fit(a_train, b_train)\n",
    "\n",
    "pred = gbmodel.predict(a_test)\n",
    "\n",
    "print('Mean absolute Error: ', mean_absolute_error(b_test, np.exp(pred+0.1)))\n",
    "print('Residual Sum of Squares (RSS): ',  np.sum(np.square(b_test, np.exp(pred+0.1))))\n",
    "print('Root Mean Squared Error: ', np.sqrt(mean_squared_error(b_test, np.exp(pred+0.1))))\n",
    "print('R Squared: ', r2_score(b_test, np.exp(pred+0.1)))\n",
    "print('RMSLE Score: ', np.sqrt(mean_squared_log_error(b_test, np.exp(pred+0.1))))"
   ]
  },
  {
   "cell_type": "code",
   "execution_count": 49,
   "metadata": {
    "ExecuteTime": {
     "end_time": "2020-08-22T22:12:31.185764Z",
     "start_time": "2020-08-22T22:12:31.153763Z"
    }
   },
   "outputs": [
    {
     "data": {
      "text/html": [
       "<div>\n",
       "<style scoped>\n",
       "    .dataframe tbody tr th:only-of-type {\n",
       "        vertical-align: middle;\n",
       "    }\n",
       "\n",
       "    .dataframe tbody tr th {\n",
       "        vertical-align: top;\n",
       "    }\n",
       "\n",
       "    .dataframe thead th {\n",
       "        text-align: right;\n",
       "    }\n",
       "</style>\n",
       "<table border=\"1\" class=\"dataframe\">\n",
       "  <thead>\n",
       "    <tr style=\"text-align: right;\">\n",
       "      <th></th>\n",
       "      <th>columns</th>\n",
       "      <th>feature importance</th>\n",
       "    </tr>\n",
       "  </thead>\n",
       "  <tbody>\n",
       "    <tr>\n",
       "      <th>0</th>\n",
       "      <td>Item_Weight</td>\n",
       "      <td>0.002887</td>\n",
       "    </tr>\n",
       "    <tr>\n",
       "      <th>1</th>\n",
       "      <td>Item_Sugar_Content</td>\n",
       "      <td>0.000625</td>\n",
       "    </tr>\n",
       "    <tr>\n",
       "      <th>2</th>\n",
       "      <td>Item_Visibility</td>\n",
       "      <td>0.008282</td>\n",
       "    </tr>\n",
       "    <tr>\n",
       "      <th>3</th>\n",
       "      <td>Item_Type</td>\n",
       "      <td>0.000831</td>\n",
       "    </tr>\n",
       "    <tr>\n",
       "      <th>4</th>\n",
       "      <td>Item_Price</td>\n",
       "      <td>0.400531</td>\n",
       "    </tr>\n",
       "    <tr>\n",
       "      <th>5</th>\n",
       "      <td>Store_Start_Year</td>\n",
       "      <td>0.008058</td>\n",
       "    </tr>\n",
       "    <tr>\n",
       "      <th>6</th>\n",
       "      <td>Store_Size</td>\n",
       "      <td>0.000000</td>\n",
       "    </tr>\n",
       "    <tr>\n",
       "      <th>7</th>\n",
       "      <td>Store_Location_Type</td>\n",
       "      <td>0.000136</td>\n",
       "    </tr>\n",
       "    <tr>\n",
       "      <th>8</th>\n",
       "      <td>Store_Type</td>\n",
       "      <td>0.193932</td>\n",
       "    </tr>\n",
       "    <tr>\n",
       "      <th>9</th>\n",
       "      <td>Total_Item_In_Store</td>\n",
       "      <td>0.183917</td>\n",
       "    </tr>\n",
       "    <tr>\n",
       "      <th>10</th>\n",
       "      <td>Total_Item_Weight_In_Store</td>\n",
       "      <td>0.200802</td>\n",
       "    </tr>\n",
       "  </tbody>\n",
       "</table>\n",
       "</div>"
      ],
      "text/plain": [
       "                       columns  feature importance\n",
       "0                  Item_Weight            0.002887\n",
       "1           Item_Sugar_Content            0.000625\n",
       "2              Item_Visibility            0.008282\n",
       "3                    Item_Type            0.000831\n",
       "4                   Item_Price            0.400531\n",
       "5             Store_Start_Year            0.008058\n",
       "6                   Store_Size            0.000000\n",
       "7          Store_Location_Type            0.000136\n",
       "8                   Store_Type            0.193932\n",
       "9          Total_Item_In_Store            0.183917\n",
       "10  Total_Item_Weight_In_Store            0.200802"
      ]
     },
     "execution_count": 49,
     "metadata": {},
     "output_type": "execute_result"
    }
   ],
   "source": [
    "pd.DataFrame({'columns': x.columns, 'feature importance': gbmodel.feature_importances_})"
   ]
  },
  {
   "cell_type": "code",
   "execution_count": 50,
   "metadata": {
    "ExecuteTime": {
     "end_time": "2020-08-22T22:12:31.353758Z",
     "start_time": "2020-08-22T22:12:31.185764Z"
    },
    "scrolled": true
   },
   "outputs": [],
   "source": [
    "#from sklearn.model_selection import GridSearchCV\n",
    "\n",
    "#params = {'loss': ('ls', 'lad', 'huber', 'quantile'),\n",
    "         #'max_depth': (2,4,6,8,10),\n",
    "         #'alpha': (0.1, 0.5, 0.7, 0.9)}\n",
    "#grid = GridSearchCV(GradientBoostingRegressor(learning_rate=0.07), params, n_jobs=-1, scoring='neg_root_mean_squared_error', verbose=10)\n",
    "#grid.fit(a_train, b_train)"
   ]
  },
  {
   "cell_type": "code",
   "execution_count": 51,
   "metadata": {
    "ExecuteTime": {
     "end_time": "2020-08-22T22:12:31.441809Z",
     "start_time": "2020-08-22T22:12:31.353758Z"
    }
   },
   "outputs": [],
   "source": [
    "#grid.best_estimator_"
   ]
  },
  {
   "cell_type": "code",
   "execution_count": 90,
   "metadata": {
    "ExecuteTime": {
     "end_time": "2020-08-22T22:27:55.308302Z",
     "start_time": "2020-08-22T22:27:45.605724Z"
    },
    "scrolled": true
   },
   "outputs": [
    {
     "name": "stdout",
     "output_type": "stream",
     "text": [
      "Mean absolute Error:  2190.6680326805167\n",
      "Residual Sum of Squares (RSS):  58418338152.474396\n",
      "Root Mean Squared Error:  2984.166534077944\n",
      "R Squared:  0.5523767099280202\n",
      "RMSLE Score:  0.5499987421984464\n"
     ]
    }
   ],
   "source": [
    "from sklearn.ensemble import RandomForestRegressor\n",
    "\n",
    "model = RandomForestRegressor(n_estimators=2000, bootstrap=True,max_depth=3000, max_features=9, min_samples_leaf=30, min_samples_split=50, n_jobs=-1, random_state=42)\n",
    "model.fit(a_train, b_train)\n",
    "\n",
    "pred = model.predict(a_test)\n",
    "\n",
    "print('Mean absolute Error: ', mean_absolute_error(b_test, np.exp(pred+0.2)))\n",
    "print('Residual Sum of Squares (RSS): ',  np.sum(np.square(b_test, np.exp(pred+0.2))))\n",
    "print('Root Mean Squared Error: ', np.sqrt(mean_squared_error(b_test, np.exp(pred+0.2))))\n",
    "print('R Squared: ', r2_score(b_test, np.exp(pred+0.2)))\n",
    "print('RMSLE Score: ', np.sqrt(mean_squared_log_error(b_test, np.exp(pred+0.2))))"
   ]
  },
  {
   "cell_type": "code",
   "execution_count": 53,
   "metadata": {
    "ExecuteTime": {
     "end_time": "2020-08-22T22:12:36.110580Z",
     "start_time": "2020-08-22T22:12:35.743719Z"
    }
   },
   "outputs": [
    {
     "data": {
      "text/html": [
       "<div>\n",
       "<style scoped>\n",
       "    .dataframe tbody tr th:only-of-type {\n",
       "        vertical-align: middle;\n",
       "    }\n",
       "\n",
       "    .dataframe tbody tr th {\n",
       "        vertical-align: top;\n",
       "    }\n",
       "\n",
       "    .dataframe thead th {\n",
       "        text-align: right;\n",
       "    }\n",
       "</style>\n",
       "<table border=\"1\" class=\"dataframe\">\n",
       "  <thead>\n",
       "    <tr style=\"text-align: right;\">\n",
       "      <th></th>\n",
       "      <th>columns</th>\n",
       "      <th>feature importance</th>\n",
       "    </tr>\n",
       "  </thead>\n",
       "  <tbody>\n",
       "    <tr>\n",
       "      <th>0</th>\n",
       "      <td>Item_Weight</td>\n",
       "      <td>0.056144</td>\n",
       "    </tr>\n",
       "    <tr>\n",
       "      <th>1</th>\n",
       "      <td>Item_Sugar_Content</td>\n",
       "      <td>0.009153</td>\n",
       "    </tr>\n",
       "    <tr>\n",
       "      <th>2</th>\n",
       "      <td>Item_Visibility</td>\n",
       "      <td>0.064489</td>\n",
       "    </tr>\n",
       "    <tr>\n",
       "      <th>3</th>\n",
       "      <td>Item_Type</td>\n",
       "      <td>0.031499</td>\n",
       "    </tr>\n",
       "    <tr>\n",
       "      <th>4</th>\n",
       "      <td>Item_Price</td>\n",
       "      <td>0.233040</td>\n",
       "    </tr>\n",
       "    <tr>\n",
       "      <th>5</th>\n",
       "      <td>Store_Start_Year</td>\n",
       "      <td>0.012714</td>\n",
       "    </tr>\n",
       "    <tr>\n",
       "      <th>6</th>\n",
       "      <td>Store_Size</td>\n",
       "      <td>0.004213</td>\n",
       "    </tr>\n",
       "    <tr>\n",
       "      <th>7</th>\n",
       "      <td>Store_Location_Type</td>\n",
       "      <td>0.003630</td>\n",
       "    </tr>\n",
       "    <tr>\n",
       "      <th>8</th>\n",
       "      <td>Store_Type</td>\n",
       "      <td>0.189700</td>\n",
       "    </tr>\n",
       "    <tr>\n",
       "      <th>9</th>\n",
       "      <td>Total_Item_In_Store</td>\n",
       "      <td>0.190722</td>\n",
       "    </tr>\n",
       "    <tr>\n",
       "      <th>10</th>\n",
       "      <td>Total_Item_Weight_In_Store</td>\n",
       "      <td>0.204695</td>\n",
       "    </tr>\n",
       "  </tbody>\n",
       "</table>\n",
       "</div>"
      ],
      "text/plain": [
       "                       columns  feature importance\n",
       "0                  Item_Weight            0.056144\n",
       "1           Item_Sugar_Content            0.009153\n",
       "2              Item_Visibility            0.064489\n",
       "3                    Item_Type            0.031499\n",
       "4                   Item_Price            0.233040\n",
       "5             Store_Start_Year            0.012714\n",
       "6                   Store_Size            0.004213\n",
       "7          Store_Location_Type            0.003630\n",
       "8                   Store_Type            0.189700\n",
       "9          Total_Item_In_Store            0.190722\n",
       "10  Total_Item_Weight_In_Store            0.204695"
      ]
     },
     "execution_count": 53,
     "metadata": {},
     "output_type": "execute_result"
    }
   ],
   "source": [
    "model.feature_importances_\n",
    "x.columns\n",
    "\n",
    "pd.DataFrame({'columns': x.columns, 'feature importance': model.feature_importances_})"
   ]
  },
  {
   "cell_type": "code",
   "execution_count": 54,
   "metadata": {
    "ExecuteTime": {
     "end_time": "2020-08-22T22:12:36.142579Z",
     "start_time": "2020-08-22T22:12:36.110580Z"
    },
    "scrolled": true
   },
   "outputs": [
    {
     "name": "stdout",
     "output_type": "stream",
     "text": [
      "Mean absolute Error:  2424.343477470498\n",
      "Residual Sum of Squares (RSS):  58418338152.474396\n",
      "Root Mean Squared Error:  3350.6712723983555\n",
      "R Squared:  0.4356738074528501\n",
      "RMSLE Score:  0.5814741006359169\n"
     ]
    }
   ],
   "source": [
    "from sklearn.linear_model import Lasso\n",
    "\n",
    "rdmodel = Lasso(max_iter=10000, alpha=0.007)\n",
    "\n",
    "rdmodel.fit(a_train, b_train)\n",
    "\n",
    "rdpred = rdmodel.predict(a_test)\n",
    "\n",
    "print('Mean absolute Error: ', mean_absolute_error(b_test, np.exp(rdpred)))\n",
    "print('Residual Sum of Squares (RSS): ',  np.sum(np.square(b_test, np.exp(rdpred))))\n",
    "print('Root Mean Squared Error: ', np.sqrt(mean_squared_error(b_test, np.exp(rdpred))))\n",
    "print('R Squared: ', r2_score(b_test, np.exp(rdpred)))\n",
    "print('RMSLE Score: ', np.sqrt(mean_squared_log_error(b_test, np.exp(rdpred))))"
   ]
  },
  {
   "cell_type": "code",
   "execution_count": null,
   "metadata": {},
   "outputs": [],
   "source": []
  },
  {
   "cell_type": "code",
   "execution_count": 55,
   "metadata": {
    "ExecuteTime": {
     "end_time": "2020-08-22T22:12:36.366626Z",
     "start_time": "2020-08-22T22:12:36.142579Z"
    }
   },
   "outputs": [
    {
     "name": "stdout",
     "output_type": "stream",
     "text": [
      "Mean absolute Error:  2426.6773885980556\n",
      "Residual Sum of Squares (RSS):  58418338152.474396\n",
      "Root Mean Squared Error:  3358.079593968584\n",
      "R Squared:  0.4331756025669812\n",
      "RMSLE Score:  0.5816080747270107\n"
     ]
    }
   ],
   "source": [
    "from sklearn.linear_model import Ridge\n",
    "solver = {'auto', 'svd', 'cholesky', 'lsqr', 'sparse_cg', 'sag', 'saga'}\n",
    "\n",
    "gmodel = Ridge(solver='lsqr', alpha=2)\n",
    "\n",
    "gmodel.fit(a_train, b_train)\n",
    "\n",
    "gpred = gmodel.predict(a_test)\n",
    "\n",
    "print('Mean absolute Error: ', mean_absolute_error(b_test, np.exp(gpred)))\n",
    "print('Residual Sum of Squares (RSS): ',  np.sum(np.square(b_test, np.exp(gpred))))\n",
    "print('Root Mean Squared Error: ', np.sqrt(mean_squared_error(b_test, np.exp(gpred))))\n",
    "print('R Squared: ', r2_score(b_test, np.exp(gpred)))\n",
    "print('RMSLE Score: ', np.sqrt(mean_squared_log_error(b_test, np.exp(gpred))))"
   ]
  },
  {
   "cell_type": "code",
   "execution_count": null,
   "metadata": {},
   "outputs": [],
   "source": []
  },
  {
   "cell_type": "code",
   "execution_count": 56,
   "metadata": {
    "ExecuteTime": {
     "end_time": "2020-08-22T22:12:36.593175Z",
     "start_time": "2020-08-22T22:12:36.366626Z"
    }
   },
   "outputs": [
    {
     "name": "stdout",
     "output_type": "stream",
     "text": [
      "Mean absolute Error:  2277.080838021079\n",
      "Residual Sum of Squares (RSS):  58418338152.474396\n",
      "Root Mean Squared Error:  3129.498678417982\n",
      "R Squared:  0.5077155603077161\n",
      "RMSLE Score:  0.5486770403360921\n"
     ]
    }
   ],
   "source": [
    "from sklearn.neighbors import KNeighborsRegressor\n",
    "from sklearn.model_selection import GridSearchCV\n",
    "\n",
    "knnmodel = KNeighborsRegressor(n_neighbors=9, n_jobs=-1)\n",
    "knnmodel.fit(a_train, b_train)\n",
    "\n",
    "kpred = knnmodel.predict(a_test)\n",
    "\n",
    "print('Mean absolute Error: ', mean_absolute_error(b_test, np.exp(kpred)))\n",
    "print('Residual Sum of Squares (RSS): ',  np.sum(np.square(b_test, np.exp(kpred))))\n",
    "print('Root Mean Squared Error: ', np.sqrt(mean_squared_error(b_test, np.exp(kpred))))\n",
    "print('R Squared: ', r2_score(b_test, np.exp(kpred)))\n",
    "print('RMSLE Score: ', np.sqrt(mean_squared_log_error(b_test, np.exp(kpred))))"
   ]
  },
  {
   "cell_type": "code",
   "execution_count": 57,
   "metadata": {
    "ExecuteTime": {
     "end_time": "2020-08-22T22:12:36.673170Z",
     "start_time": "2020-08-22T22:12:36.601171Z"
    }
   },
   "outputs": [
    {
     "name": "stdout",
     "output_type": "stream",
     "text": [
      "Mean absolute Error:  2411.8796599314255\n",
      "Residual Sum of Squares (RSS):  58418338152.474396\n",
      "Root Mean Squared Error:  3339.5602659464444\n",
      "R Squared:  0.4394102741151813\n",
      "RMSLE Score:  0.5769208766429595\n"
     ]
    }
   ],
   "source": [
    "from sklearn.linear_model import LinearRegression\n",
    "\n",
    "lmodel = LinearRegression(n_jobs=-1)\n",
    "\n",
    "lmodel.fit(a_train, b_train)\n",
    "\n",
    "lpred = lmodel.predict(a_test)\n",
    "\n",
    "print('Mean absolute Error: ', mean_absolute_error(b_test, np.exp(lpred)))\n",
    "print('Residual Sum of Squares (RSS): ',  np.sum(np.square(b_test, np.exp(lpred))))\n",
    "print('Root Mean Squared Error: ', np.sqrt(mean_squared_error(b_test, np.exp(lpred))))\n",
    "print('R Squared: ', r2_score(b_test, np.exp(lpred)))\n",
    "print('RMSLE Score: ', np.sqrt(mean_squared_log_error(b_test, np.exp(lpred))))"
   ]
  },
  {
   "cell_type": "code",
   "execution_count": 58,
   "metadata": {
    "ExecuteTime": {
     "end_time": "2020-08-22T22:12:37.489379Z",
     "start_time": "2020-08-22T22:12:36.673170Z"
    }
   },
   "outputs": [
    {
     "name": "stdout",
     "output_type": "stream",
     "text": [
      "Mean absolute Error:  2414.472327277849\n",
      "Residual Sum of Squares (RSS):  58418338152.474396\n",
      "Root Mean Squared Error:  3299.260756666445\n",
      "R Squared:  0.4528582611611309\n",
      "RMSLE Score:  0.5952844867731705\n"
     ]
    }
   ],
   "source": [
    "from sklearn.svm import SVR\n",
    "\n",
    "vmodel = SVR(kernel='linear', C=0.001)\n",
    "\n",
    "vmodel.fit(a_train, b_train)\n",
    "\n",
    "vpred = vmodel.predict(a_test)\n",
    "\n",
    "print('Mean absolute Error: ', mean_absolute_error(b_test, np.exp(vpred)))\n",
    "print('Residual Sum of Squares (RSS): ',  np.sum(np.square(b_test, np.exp(vpred))))\n",
    "print('Root Mean Squared Error: ', np.sqrt(mean_squared_error(b_test, np.exp(vpred))))\n",
    "print('R Squared: ', r2_score(b_test, np.exp(vpred)))\n",
    "print('RMSLE Score: ', np.sqrt(mean_squared_log_error(b_test, np.exp(vpred))))"
   ]
  },
  {
   "cell_type": "code",
   "execution_count": null,
   "metadata": {},
   "outputs": [],
   "source": []
  },
  {
   "cell_type": "markdown",
   "metadata": {},
   "source": [
    "# Deep Neural Network"
   ]
  },
  {
   "cell_type": "code",
   "execution_count": null,
   "metadata": {},
   "outputs": [],
   "source": []
  },
  {
   "cell_type": "code",
   "execution_count": 59,
   "metadata": {
    "ExecuteTime": {
     "end_time": "2020-08-22T22:12:40.184607Z",
     "start_time": "2020-08-22T22:12:37.489379Z"
    }
   },
   "outputs": [],
   "source": [
    "import tensorflow as tf"
   ]
  },
  {
   "cell_type": "code",
   "execution_count": 60,
   "metadata": {
    "ExecuteTime": {
     "end_time": "2020-08-22T22:12:41.193667Z",
     "start_time": "2020-08-22T22:12:40.184607Z"
    }
   },
   "outputs": [
    {
     "name": "stdout",
     "output_type": "stream",
     "text": [
      "[name: \"/device:CPU:0\"\n",
      "device_type: \"CPU\"\n",
      "memory_limit: 268435456\n",
      "locality {\n",
      "}\n",
      "incarnation: 9172042257978007499\n",
      ", name: \"/device:GPU:0\"\n",
      "device_type: \"GPU\"\n",
      "memory_limit: 1416432436\n",
      "locality {\n",
      "  bus_id: 1\n",
      "  links {\n",
      "  }\n",
      "}\n",
      "incarnation: 15031753174883743174\n",
      "physical_device_desc: \"device: 0, name: GeForce MX150, pci bus id: 0000:01:00.0, compute capability: 6.1\"\n",
      "]\n"
     ]
    }
   ],
   "source": [
    "# Check that i am using the Gpu version of tensorflow for faster computation\n",
    "from tensorflow.python.client import device_lib \n",
    "\n",
    "print(device_lib.list_local_devices())"
   ]
  },
  {
   "cell_type": "code",
   "execution_count": 61,
   "metadata": {
    "ExecuteTime": {
     "end_time": "2020-08-22T22:12:41.313668Z",
     "start_time": "2020-08-22T22:12:41.193667Z"
    }
   },
   "outputs": [],
   "source": [
    "from tensorflow.keras import backend\n",
    "\n",
    "def rmse(y_true, y_pred):\n",
    "    return backend.sqrt(backend.mean(backend.square(y_pred - y_true), axis=-1))\n"
   ]
  },
  {
   "cell_type": "code",
   "execution_count": 62,
   "metadata": {
    "ExecuteTime": {
     "end_time": "2020-08-22T22:12:41.377665Z",
     "start_time": "2020-08-22T22:12:41.313668Z"
    }
   },
   "outputs": [
    {
     "data": {
      "text/html": [
       "<div>\n",
       "<style scoped>\n",
       "    .dataframe tbody tr th:only-of-type {\n",
       "        vertical-align: middle;\n",
       "    }\n",
       "\n",
       "    .dataframe tbody tr th {\n",
       "        vertical-align: top;\n",
       "    }\n",
       "\n",
       "    .dataframe thead th {\n",
       "        text-align: right;\n",
       "    }\n",
       "</style>\n",
       "<table border=\"1\" class=\"dataframe\">\n",
       "  <thead>\n",
       "    <tr style=\"text-align: right;\">\n",
       "      <th></th>\n",
       "      <th>Item_Weight</th>\n",
       "      <th>Item_Sugar_Content</th>\n",
       "      <th>Item_Visibility</th>\n",
       "      <th>Item_Type</th>\n",
       "      <th>Item_Price</th>\n",
       "      <th>Store_Start_Year</th>\n",
       "      <th>Store_Size</th>\n",
       "      <th>Store_Location_Type</th>\n",
       "      <th>Store_Type</th>\n",
       "      <th>Item_Store_Returns</th>\n",
       "      <th>Total_Item_In_Store</th>\n",
       "      <th>Total_Item_Weight_In_Store</th>\n",
       "    </tr>\n",
       "    <tr>\n",
       "      <th>Item_Store_ID</th>\n",
       "      <th></th>\n",
       "      <th></th>\n",
       "      <th></th>\n",
       "      <th></th>\n",
       "      <th></th>\n",
       "      <th></th>\n",
       "      <th></th>\n",
       "      <th></th>\n",
       "      <th></th>\n",
       "      <th></th>\n",
       "      <th></th>\n",
       "      <th></th>\n",
       "    </tr>\n",
       "  </thead>\n",
       "  <tbody>\n",
       "    <tr>\n",
       "      <th>DRA12_BABATUNJI010</th>\n",
       "      <td>11.6</td>\n",
       "      <td>0</td>\n",
       "      <td>0.068535</td>\n",
       "      <td>14</td>\n",
       "      <td>357.54</td>\n",
       "      <td>2005</td>\n",
       "      <td>2</td>\n",
       "      <td>2</td>\n",
       "      <td>0</td>\n",
       "      <td>709.08</td>\n",
       "      <td>384</td>\n",
       "      <td>4945.965</td>\n",
       "    </tr>\n",
       "    <tr>\n",
       "      <th>DRA12_BABATUNJI013</th>\n",
       "      <td>11.6</td>\n",
       "      <td>0</td>\n",
       "      <td>0.040912</td>\n",
       "      <td>14</td>\n",
       "      <td>355.79</td>\n",
       "      <td>1994</td>\n",
       "      <td>0</td>\n",
       "      <td>2</td>\n",
       "      <td>1</td>\n",
       "      <td>6381.69</td>\n",
       "      <td>594</td>\n",
       "      <td>7609.240</td>\n",
       "    </tr>\n",
       "    <tr>\n",
       "      <th>DRA12_BABATUNJI017</th>\n",
       "      <td>11.6</td>\n",
       "      <td>0</td>\n",
       "      <td>0.041178</td>\n",
       "      <td>14</td>\n",
       "      <td>350.79</td>\n",
       "      <td>2014</td>\n",
       "      <td>0</td>\n",
       "      <td>1</td>\n",
       "      <td>1</td>\n",
       "      <td>6381.69</td>\n",
       "      <td>583</td>\n",
       "      <td>7535.455</td>\n",
       "    </tr>\n",
       "    <tr>\n",
       "      <th>DRA12_BABATUNJI018</th>\n",
       "      <td>11.6</td>\n",
       "      <td>0</td>\n",
       "      <td>0.041113</td>\n",
       "      <td>14</td>\n",
       "      <td>355.04</td>\n",
       "      <td>2016</td>\n",
       "      <td>1</td>\n",
       "      <td>2</td>\n",
       "      <td>2</td>\n",
       "      <td>2127.23</td>\n",
       "      <td>500</td>\n",
       "      <td>6494.185</td>\n",
       "    </tr>\n",
       "    <tr>\n",
       "      <th>DRA12_BABATUNJI035</th>\n",
       "      <td>11.6</td>\n",
       "      <td>2</td>\n",
       "      <td>0.000000</td>\n",
       "      <td>14</td>\n",
       "      <td>354.79</td>\n",
       "      <td>2011</td>\n",
       "      <td>2</td>\n",
       "      <td>1</td>\n",
       "      <td>1</td>\n",
       "      <td>2481.77</td>\n",
       "      <td>515</td>\n",
       "      <td>6729.230</td>\n",
       "    </tr>\n",
       "  </tbody>\n",
       "</table>\n",
       "</div>"
      ],
      "text/plain": [
       "                    Item_Weight  Item_Sugar_Content  Item_Visibility  \\\n",
       "Item_Store_ID                                                          \n",
       "DRA12_BABATUNJI010         11.6                   0         0.068535   \n",
       "DRA12_BABATUNJI013         11.6                   0         0.040912   \n",
       "DRA12_BABATUNJI017         11.6                   0         0.041178   \n",
       "DRA12_BABATUNJI018         11.6                   0         0.041113   \n",
       "DRA12_BABATUNJI035         11.6                   2         0.000000   \n",
       "\n",
       "                    Item_Type  Item_Price  Store_Start_Year  Store_Size  \\\n",
       "Item_Store_ID                                                             \n",
       "DRA12_BABATUNJI010         14      357.54              2005           2   \n",
       "DRA12_BABATUNJI013         14      355.79              1994           0   \n",
       "DRA12_BABATUNJI017         14      350.79              2014           0   \n",
       "DRA12_BABATUNJI018         14      355.04              2016           1   \n",
       "DRA12_BABATUNJI035         14      354.79              2011           2   \n",
       "\n",
       "                    Store_Location_Type  Store_Type  Item_Store_Returns  \\\n",
       "Item_Store_ID                                                             \n",
       "DRA12_BABATUNJI010                    2           0              709.08   \n",
       "DRA12_BABATUNJI013                    2           1             6381.69   \n",
       "DRA12_BABATUNJI017                    1           1             6381.69   \n",
       "DRA12_BABATUNJI018                    2           2             2127.23   \n",
       "DRA12_BABATUNJI035                    1           1             2481.77   \n",
       "\n",
       "                    Total_Item_In_Store  Total_Item_Weight_In_Store  \n",
       "Item_Store_ID                                                        \n",
       "DRA12_BABATUNJI010                  384                    4945.965  \n",
       "DRA12_BABATUNJI013                  594                    7609.240  \n",
       "DRA12_BABATUNJI017                  583                    7535.455  \n",
       "DRA12_BABATUNJI018                  500                    6494.185  \n",
       "DRA12_BABATUNJI035                  515                    6729.230  "
      ]
     },
     "execution_count": 62,
     "metadata": {},
     "output_type": "execute_result"
    }
   ],
   "source": [
    "train.head()"
   ]
  },
  {
   "cell_type": "code",
   "execution_count": 63,
   "metadata": {
    "ExecuteTime": {
     "end_time": "2020-08-22T22:12:42.169671Z",
     "start_time": "2020-08-22T22:12:41.377665Z"
    }
   },
   "outputs": [
    {
     "ename": "TypeError",
     "evalue": "__init__() missing 1 required positional argument: 'kernel_size'",
     "output_type": "error",
     "traceback": [
      "\u001b[1;31m---------------------------------------------------------------------------\u001b[0m",
      "\u001b[1;31mTypeError\u001b[0m                                 Traceback (most recent call last)",
      "\u001b[1;32m<ipython-input-63-2958b7940ad4>\u001b[0m in \u001b[0;36m<module>\u001b[1;34m\u001b[0m\n\u001b[0;32m      5\u001b[0m \u001b[0mdeep\u001b[0m \u001b[1;33m=\u001b[0m \u001b[0mkeras\u001b[0m\u001b[1;33m.\u001b[0m\u001b[0mSequential\u001b[0m\u001b[1;33m(\u001b[0m\u001b[1;33m)\u001b[0m\u001b[1;33m\u001b[0m\u001b[1;33m\u001b[0m\u001b[0m\n\u001b[0;32m      6\u001b[0m \u001b[1;33m\u001b[0m\u001b[0m\n\u001b[1;32m----> 7\u001b[1;33m \u001b[0mdeep\u001b[0m\u001b[1;33m.\u001b[0m\u001b[0madd\u001b[0m\u001b[1;33m(\u001b[0m\u001b[0mkeras\u001b[0m\u001b[1;33m.\u001b[0m\u001b[0mlayers\u001b[0m\u001b[1;33m.\u001b[0m\u001b[0mConv2D\u001b[0m\u001b[1;33m(\u001b[0m\u001b[1;36m60\u001b[0m\u001b[1;33m,\u001b[0m \u001b[0minput_dim\u001b[0m\u001b[1;33m=\u001b[0m\u001b[1;36m11\u001b[0m\u001b[1;33m,\u001b[0m \u001b[0mactivation\u001b[0m\u001b[1;33m=\u001b[0m\u001b[1;34m'relu'\u001b[0m\u001b[1;33m)\u001b[0m\u001b[1;33m)\u001b[0m\u001b[1;33m\u001b[0m\u001b[1;33m\u001b[0m\u001b[0m\n\u001b[0m\u001b[0;32m      8\u001b[0m \u001b[0mdeep\u001b[0m\u001b[1;33m.\u001b[0m\u001b[0madd\u001b[0m\u001b[1;33m(\u001b[0m\u001b[0mDropout\u001b[0m\u001b[1;33m(\u001b[0m\u001b[1;36m0.2\u001b[0m\u001b[1;33m)\u001b[0m\u001b[1;33m)\u001b[0m\u001b[1;33m\u001b[0m\u001b[1;33m\u001b[0m\u001b[0m\n\u001b[0;32m      9\u001b[0m \u001b[0mdeep\u001b[0m\u001b[1;33m.\u001b[0m\u001b[0madd\u001b[0m\u001b[1;33m(\u001b[0m\u001b[0mkeras\u001b[0m\u001b[1;33m.\u001b[0m\u001b[0mlayers\u001b[0m\u001b[1;33m.\u001b[0m\u001b[0mBatchNormalization\u001b[0m\u001b[1;33m(\u001b[0m\u001b[0mmomentum\u001b[0m\u001b[1;33m=\u001b[0m\u001b[1;36m0.99\u001b[0m\u001b[1;33m,\u001b[0m \u001b[0mepsilon\u001b[0m\u001b[1;33m=\u001b[0m\u001b[1;36m0.0001\u001b[0m\u001b[1;33m)\u001b[0m\u001b[1;33m)\u001b[0m\u001b[1;33m\u001b[0m\u001b[1;33m\u001b[0m\u001b[0m\n",
      "\u001b[1;31mTypeError\u001b[0m: __init__() missing 1 required positional argument: 'kernel_size'"
     ]
    }
   ],
   "source": [
    "from tensorflow import keras\n",
    "from tensorflow.keras.layers import Dense, Dropout\n",
    "\n",
    "\n",
    "deep = keras.Sequential()\n",
    "\n",
    "deep.add(keras.layers.Conv2D(60, input_dim=11, activation='relu'))\n",
    "deep.add(Dropout(0.2))\n",
    "deep.add(keras.layers.BatchNormalization(momentum=0.99, epsilon=0.0001))\n",
    "\n",
    "deep.add(Dense(60, activation='relu'))\n",
    "deep.add(Dropout(0.2))\n",
    "deep.add(keras.layers.BatchNormalization(momentum=0.99, epsilon=0.0001))\n",
    "\n",
    "deep.add(Dense(60, activation='relu'))\n",
    "deep.add(Dropout(0.2))\n",
    "deep.add(keras.layers.BatchNormalization(momentum=0.99, epsilon=0.0001))\n",
    "\n",
    "deep.add(Dense(60, activation='relu'))\n",
    "deep.add(Dropout(0.2))\n",
    "deep.add(keras.layers.BatchNormalization(momentum=0.99, epsilon=0.0001))\n",
    "\n",
    "deep.add(Dense(1))"
   ]
  },
  {
   "cell_type": "code",
   "execution_count": null,
   "metadata": {
    "ExecuteTime": {
     "end_time": "2020-08-22T22:12:42.185705Z",
     "start_time": "2020-08-22T22:12:12.584Z"
    }
   },
   "outputs": [],
   "source": [
    "deep.compile(optimizer=keras.optimizers.Adam(learning_rate=0.020213841),\n",
    "             loss=rmse, metrics=['mae', 'msle'])"
   ]
  },
  {
   "cell_type": "code",
   "execution_count": null,
   "metadata": {
    "ExecuteTime": {
     "end_time": "2020-08-22T22:12:42.185705Z",
     "start_time": "2020-08-22T22:12:12.592Z"
    }
   },
   "outputs": [],
   "source": [
    "deep.summary()"
   ]
  },
  {
   "cell_type": "code",
   "execution_count": null,
   "metadata": {
    "ExecuteTime": {
     "end_time": "2020-08-22T22:12:42.193667Z",
     "start_time": "2020-08-22T22:12:12.600Z"
    },
    "scrolled": true
   },
   "outputs": [],
   "source": [
    "from tensorflow.keras.callbacks import EarlyStopping\n",
    "\n",
    "early_stop = EarlyStopping(monitor='val_loss', mode='min', verbose=1, patience=10)\n",
    "\n",
    "training = deep.fit(a_train, np.exp(b_train), epochs=200, validation_split=0.2, batch_size=32, callbacks=[early_stop])"
   ]
  },
  {
   "cell_type": "code",
   "execution_count": null,
   "metadata": {
    "ExecuteTime": {
     "end_time": "2020-08-22T22:12:42.193667Z",
     "start_time": "2020-08-22T22:12:12.606Z"
    }
   },
   "outputs": [],
   "source": [
    "dpred = deep.predict(a_test)\n",
    "dpred = np.log(dpred)\n",
    "\n",
    "print('Mean absolute Error: ', mean_absolute_error(b_test, np.exp(dpred)))\n",
    "#print('Residual Sum of Squares (RSS): ',  np.sum(np.square(b_test, np.exp(dpred))))\n",
    "print('Root Mean Squared Error: ', np.sqrt(mean_squared_error(b_test, np.exp(dpred))))\n",
    "print('R Squared: ', r2_score(b_test, np.exp(dpred)))\n",
    "print('RMSLE Score: ', np.sqrt(mean_squared_log_error(b_test, np.exp(dpred))))"
   ]
  },
  {
   "cell_type": "code",
   "execution_count": null,
   "metadata": {
    "ExecuteTime": {
     "end_time": "2020-08-19T20:05:55.913561Z",
     "start_time": "2020-08-19T20:05:55.894571Z"
    }
   },
   "outputs": [],
   "source": []
  },
  {
   "cell_type": "markdown",
   "metadata": {
    "ExecuteTime": {
     "end_time": "2020-08-21T21:43:28.101145Z",
     "start_time": "2020-08-21T21:43:28.083545Z"
    }
   },
   "source": [
    "# I choose the Gradient Boosting Regressor model"
   ]
  },
  {
   "cell_type": "markdown",
   "metadata": {},
   "source": [
    "# Prediction"
   ]
  },
  {
   "cell_type": "code",
   "execution_count": null,
   "metadata": {
    "ExecuteTime": {
     "end_time": "2020-08-22T22:12:42.193667Z",
     "start_time": "2020-08-22T22:12:12.616Z"
    }
   },
   "outputs": [],
   "source": [
    "test.head()"
   ]
  },
  {
   "cell_type": "code",
   "execution_count": null,
   "metadata": {
    "ExecuteTime": {
     "end_time": "2020-08-22T22:12:42.201672Z",
     "start_time": "2020-08-22T22:12:12.623Z"
    }
   },
   "outputs": [],
   "source": [
    "test.info()"
   ]
  },
  {
   "cell_type": "code",
   "execution_count": null,
   "metadata": {
    "ExecuteTime": {
     "end_time": "2020-08-22T22:12:42.209667Z",
     "start_time": "2020-08-22T22:12:12.630Z"
    }
   },
   "outputs": [],
   "source": [
    "# fixing categorical columns\n",
    "\n",
    "from sklearn.preprocessing import LabelEncoder\n",
    "\n",
    "catt = ['Item_Sugar_Content', 'Item_Type', 'Store_Size', 'Store_Location_Type', 'Store_Type']\n",
    "\n",
    "for y in catt:\n",
    "    test[y] = LabelEncoder().fit_transform(test[y])\n",
    "\n",
    "print(test.info())"
   ]
  },
  {
   "cell_type": "code",
   "execution_count": null,
   "metadata": {
    "ExecuteTime": {
     "end_time": "2020-08-22T22:12:42.209667Z",
     "start_time": "2020-08-22T22:12:12.640Z"
    },
    "scrolled": true
   },
   "outputs": [],
   "source": [
    "# fixing the missing values in with Random Forest regressor\n",
    "\n",
    "k_test = test[test['Item_Weight'].isna()].drop(['Item_Weight', 'Item_ID', 'Store_ID'], axis=1)\n",
    "k_train = test[test['Item_Weight'].isna() == False].drop(['Item_Weight', 'Item_ID', 'Store_ID'], axis=1)\n",
    "l_train = test[test['Item_Weight'].isna()==False]['Item_Weight']\n",
    "\n",
    "print(k_train.shape, k_test.shape)\n",
    "print(l_train.shape)\n",
    "\n",
    "rff = RandomForestRegressor(n_estimators=200, n_jobs=-1, random_state=42)\n",
    "rff.fit(k_train, l_train)\n",
    "xenon = rff.predict(k_test)\n",
    "xenon"
   ]
  },
  {
   "cell_type": "code",
   "execution_count": null,
   "metadata": {
    "ExecuteTime": {
     "end_time": "2020-08-22T22:12:42.209667Z",
     "start_time": "2020-08-22T22:12:12.647Z"
    }
   },
   "outputs": [],
   "source": [
    "bless = list(test[test['Item_Weight'].isna()]['Item_ID'])\n",
    "\n",
    "chef = {bless[x]:xenon[x] for x in range(len(bless))}"
   ]
  },
  {
   "cell_type": "code",
   "execution_count": null,
   "metadata": {
    "ExecuteTime": {
     "end_time": "2020-08-22T22:12:42.217666Z",
     "start_time": "2020-08-22T22:12:12.652Z"
    }
   },
   "outputs": [],
   "source": [
    "len(chef)"
   ]
  },
  {
   "cell_type": "code",
   "execution_count": null,
   "metadata": {
    "ExecuteTime": {
     "end_time": "2020-08-22T22:12:42.217666Z",
     "start_time": "2020-08-22T22:12:12.659Z"
    }
   },
   "outputs": [],
   "source": [
    "def tripping(row):\n",
    "    kia = row[0]\n",
    "    dump = row[2]\n",
    "    \n",
    "    if kia in bless:\n",
    "        print(kia)\n",
    "        dump = chef[kia]\n",
    "    return dump\n",
    "\n",
    "test['Item_Weight'] = test.apply(tripping, axis=1)"
   ]
  },
  {
   "cell_type": "code",
   "execution_count": null,
   "metadata": {
    "ExecuteTime": {
     "end_time": "2020-08-22T22:12:42.217666Z",
     "start_time": "2020-08-22T22:12:12.664Z"
    }
   },
   "outputs": [],
   "source": [
    "#dropping the item and stor Id columns\n",
    "idd = test['Item_ID'].copy()\n",
    "test.drop(['Item_ID', 'Store_ID'], axis=1, inplace=True)"
   ]
  },
  {
   "cell_type": "code",
   "execution_count": null,
   "metadata": {
    "ExecuteTime": {
     "end_time": "2020-08-22T22:12:42.217666Z",
     "start_time": "2020-08-22T22:12:12.669Z"
    }
   },
   "outputs": [],
   "source": [
    "test.info()"
   ]
  },
  {
   "cell_type": "code",
   "execution_count": null,
   "metadata": {},
   "outputs": [],
   "source": []
  },
  {
   "cell_type": "code",
   "execution_count": null,
   "metadata": {
    "ExecuteTime": {
     "end_time": "2020-08-22T22:12:42.225666Z",
     "start_time": "2020-08-22T22:12:12.681Z"
    }
   },
   "outputs": [],
   "source": [
    "sns.heatmap(test.corr(), cmap='coolwarm')"
   ]
  },
  {
   "cell_type": "code",
   "execution_count": null,
   "metadata": {
    "ExecuteTime": {
     "end_time": "2020-08-22T22:12:42.225666Z",
     "start_time": "2020-08-22T22:12:12.688Z"
    }
   },
   "outputs": [],
   "source": [
    "# The prediction\n",
    "# Using our random forest model to make the prediction\n",
    "# first we need to scale our test data\n",
    "check = test.drop(['Store_Size', 'Item_Sugar_Content', 'Store_Location_Type'], axis=1).copy()\n",
    "check = StandardScaler().fit_transform(check)\n",
    "\n",
    "#from sklearn.ensemble import RandomForestRegressor\n",
    "\n",
    "#model = RandomForestRegressor(n_estimators=200, n_jobs=-1, random_state=42)\n",
    "#model.fit(a_train, b_train)\n",
    "\n",
    "test_pred = gbmodel.predict(check)\n",
    "\n",
    "# coverting to real values using np.exp function\n",
    "test_result = np.exp(test_pred)\n",
    "test_result"
   ]
  },
  {
   "cell_type": "code",
   "execution_count": null,
   "metadata": {
    "ExecuteTime": {
     "end_time": "2020-08-22T22:12:42.225666Z",
     "start_time": "2020-08-22T22:12:12.694Z"
    },
    "scrolled": true
   },
   "outputs": [],
   "source": [
    "result = pd.DataFrame({'Item_Store_Returns': test_result, 'Item_ID': idd}).reset_index()\n",
    "result.info(())"
   ]
  },
  {
   "cell_type": "code",
   "execution_count": null,
   "metadata": {
    "ExecuteTime": {
     "end_time": "2020-08-22T22:12:42.233666Z",
     "start_time": "2020-08-22T22:12:12.699Z"
    }
   },
   "outputs": [],
   "source": [
    "result.drop('Item_ID', axis=1, inplace=True)"
   ]
  },
  {
   "cell_type": "code",
   "execution_count": null,
   "metadata": {
    "ExecuteTime": {
     "end_time": "2020-08-22T22:12:42.233666Z",
     "start_time": "2020-08-22T22:12:12.707Z"
    }
   },
   "outputs": [],
   "source": [
    "result"
   ]
  },
  {
   "cell_type": "code",
   "execution_count": null,
   "metadata": {
    "ExecuteTime": {
     "end_time": "2020-08-22T22:12:42.233666Z",
     "start_time": "2020-08-22T22:12:12.715Z"
    }
   },
   "outputs": [],
   "source": [
    "submit = pd.read_csv('SampleSubmission.csv')\n",
    "submit.drop('Item_Store_Returns', axis=1, inplace=True)\n",
    "submit.info()"
   ]
  },
  {
   "cell_type": "code",
   "execution_count": null,
   "metadata": {
    "ExecuteTime": {
     "end_time": "2020-08-22T22:12:42.241668Z",
     "start_time": "2020-08-22T22:12:12.724Z"
    }
   },
   "outputs": [],
   "source": [
    "submission = submit.merge(result, on='Item_Store_ID')\n",
    "submission.head()"
   ]
  },
  {
   "cell_type": "code",
   "execution_count": null,
   "metadata": {
    "ExecuteTime": {
     "end_time": "2020-08-22T22:12:42.241668Z",
     "start_time": "2020-08-22T22:12:12.731Z"
    }
   },
   "outputs": [],
   "source": [
    "submission.to_csv('Submission6.csv', index=False)"
   ]
  },
  {
   "cell_type": "code",
   "execution_count": null,
   "metadata": {},
   "outputs": [],
   "source": []
  },
  {
   "cell_type": "markdown",
   "metadata": {
    "ExecuteTime": {
     "end_time": "2020-09-03T18:10:36.579580Z",
     "start_time": "2020-09-03T18:10:36.566560Z"
    }
   },
   "source": [
    "# NEW TRY"
   ]
  },
  {
   "cell_type": "markdown",
   "metadata": {
    "ExecuteTime": {
     "end_time": "2020-08-31T13:13:48.923881Z",
     "start_time": "2020-08-31T13:13:48.907880Z"
    }
   },
   "source": [
    "# Retry"
   ]
  },
  {
   "cell_type": "code",
   "execution_count": 200,
   "metadata": {
    "ExecuteTime": {
     "end_time": "2020-09-08T13:14:59.254933Z",
     "start_time": "2020-09-08T13:14:59.198893Z"
    }
   },
   "outputs": [],
   "source": [
    "train2 = pd.read_csv('train.csv')\n",
    "test2 = pd.read_csv('test.csv')"
   ]
  },
  {
   "cell_type": "code",
   "execution_count": 201,
   "metadata": {
    "ExecuteTime": {
     "end_time": "2020-09-08T13:14:59.934907Z",
     "start_time": "2020-09-08T13:14:59.902941Z"
    },
    "scrolled": true
   },
   "outputs": [
    {
     "data": {
      "text/plain": [
       "Item_ID                   0\n",
       "Store_ID                  0\n",
       "Item_Store_ID             0\n",
       "Item_Weight             802\n",
       "Item_Sugar_Content        0\n",
       "Item_Visibility           0\n",
       "Item_Type                 0\n",
       "Item_Price                0\n",
       "Store_Start_Year          0\n",
       "Store_Size             1450\n",
       "Store_Location_Type       0\n",
       "Store_Type                0\n",
       "Item_Store_Returns        0\n",
       "dtype: int64"
      ]
     },
     "execution_count": 201,
     "metadata": {},
     "output_type": "execute_result"
    }
   ],
   "source": [
    "train2.isna().sum()"
   ]
  },
  {
   "cell_type": "code",
   "execution_count": 202,
   "metadata": {
    "ExecuteTime": {
     "end_time": "2020-09-08T13:15:00.528031Z",
     "start_time": "2020-09-08T13:15:00.496054Z"
    }
   },
   "outputs": [
    {
     "data": {
      "text/plain": [
       "Item_ID                  0\n",
       "Store_ID                 0\n",
       "Item_Store_ID            0\n",
       "Item_Weight            661\n",
       "Item_Sugar_Content       0\n",
       "Item_Visibility          0\n",
       "Item_Type                0\n",
       "Item_Price               0\n",
       "Store_Start_Year         0\n",
       "Store_Size             959\n",
       "Store_Location_Type      0\n",
       "Store_Type               0\n",
       "dtype: int64"
      ]
     },
     "execution_count": 202,
     "metadata": {},
     "output_type": "execute_result"
    }
   ],
   "source": [
    "test2.isna().sum()"
   ]
  },
  {
   "cell_type": "code",
   "execution_count": 203,
   "metadata": {
    "ExecuteTime": {
     "end_time": "2020-09-08T13:15:01.040073Z",
     "start_time": "2020-09-08T13:15:01.000016Z"
    },
    "scrolled": true
   },
   "outputs": [
    {
     "data": {
      "text/html": [
       "<div>\n",
       "<style scoped>\n",
       "    .dataframe tbody tr th:only-of-type {\n",
       "        vertical-align: middle;\n",
       "    }\n",
       "\n",
       "    .dataframe tbody tr th {\n",
       "        vertical-align: top;\n",
       "    }\n",
       "\n",
       "    .dataframe thead th {\n",
       "        text-align: right;\n",
       "    }\n",
       "</style>\n",
       "<table border=\"1\" class=\"dataframe\">\n",
       "  <thead>\n",
       "    <tr style=\"text-align: right;\">\n",
       "      <th></th>\n",
       "      <th>Item_ID</th>\n",
       "      <th>Store_ID</th>\n",
       "      <th>Item_Store_ID</th>\n",
       "      <th>Item_Weight</th>\n",
       "      <th>Item_Sugar_Content</th>\n",
       "      <th>Item_Visibility</th>\n",
       "      <th>Item_Type</th>\n",
       "      <th>Item_Price</th>\n",
       "      <th>Store_Start_Year</th>\n",
       "      <th>Store_Size</th>\n",
       "      <th>Store_Location_Type</th>\n",
       "      <th>Store_Type</th>\n",
       "      <th>Item_Store_Returns</th>\n",
       "    </tr>\n",
       "  </thead>\n",
       "  <tbody>\n",
       "    <tr>\n",
       "      <th>0</th>\n",
       "      <td>DRA12</td>\n",
       "      <td>BABATUNJI010</td>\n",
       "      <td>DRA12_BABATUNJI010</td>\n",
       "      <td>11.6</td>\n",
       "      <td>Low Sugar</td>\n",
       "      <td>0.068535</td>\n",
       "      <td>Soft Drinks</td>\n",
       "      <td>357.54</td>\n",
       "      <td>2005</td>\n",
       "      <td>NaN</td>\n",
       "      <td>Cluster 3</td>\n",
       "      <td>Grocery Store</td>\n",
       "      <td>709.08</td>\n",
       "    </tr>\n",
       "    <tr>\n",
       "      <th>1</th>\n",
       "      <td>DRA12</td>\n",
       "      <td>BABATUNJI013</td>\n",
       "      <td>DRA12_BABATUNJI013</td>\n",
       "      <td>11.6</td>\n",
       "      <td>Low Sugar</td>\n",
       "      <td>0.040912</td>\n",
       "      <td>Soft Drinks</td>\n",
       "      <td>355.79</td>\n",
       "      <td>1994</td>\n",
       "      <td>High</td>\n",
       "      <td>Cluster 3</td>\n",
       "      <td>Supermarket Type1</td>\n",
       "      <td>6381.69</td>\n",
       "    </tr>\n",
       "    <tr>\n",
       "      <th>2</th>\n",
       "      <td>DRA12</td>\n",
       "      <td>BABATUNJI017</td>\n",
       "      <td>DRA12_BABATUNJI017</td>\n",
       "      <td>11.6</td>\n",
       "      <td>Low Sugar</td>\n",
       "      <td>0.041178</td>\n",
       "      <td>Soft Drinks</td>\n",
       "      <td>350.79</td>\n",
       "      <td>2014</td>\n",
       "      <td>NaN</td>\n",
       "      <td>Cluster 2</td>\n",
       "      <td>Supermarket Type1</td>\n",
       "      <td>6381.69</td>\n",
       "    </tr>\n",
       "    <tr>\n",
       "      <th>3</th>\n",
       "      <td>DRA12</td>\n",
       "      <td>BABATUNJI018</td>\n",
       "      <td>DRA12_BABATUNJI018</td>\n",
       "      <td>11.6</td>\n",
       "      <td>Low Sugar</td>\n",
       "      <td>0.041113</td>\n",
       "      <td>Soft Drinks</td>\n",
       "      <td>355.04</td>\n",
       "      <td>2016</td>\n",
       "      <td>Medium</td>\n",
       "      <td>Cluster 3</td>\n",
       "      <td>Supermarket Type2</td>\n",
       "      <td>2127.23</td>\n",
       "    </tr>\n",
       "    <tr>\n",
       "      <th>4</th>\n",
       "      <td>DRA12</td>\n",
       "      <td>BABATUNJI035</td>\n",
       "      <td>DRA12_BABATUNJI035</td>\n",
       "      <td>11.6</td>\n",
       "      <td>Ultra Low Sugar</td>\n",
       "      <td>0.000000</td>\n",
       "      <td>Soft Drinks</td>\n",
       "      <td>354.79</td>\n",
       "      <td>2011</td>\n",
       "      <td>Small</td>\n",
       "      <td>Cluster 2</td>\n",
       "      <td>Supermarket Type1</td>\n",
       "      <td>2481.77</td>\n",
       "    </tr>\n",
       "  </tbody>\n",
       "</table>\n",
       "</div>"
      ],
      "text/plain": [
       "  Item_ID      Store_ID       Item_Store_ID  Item_Weight Item_Sugar_Content  \\\n",
       "0   DRA12  BABATUNJI010  DRA12_BABATUNJI010         11.6          Low Sugar   \n",
       "1   DRA12  BABATUNJI013  DRA12_BABATUNJI013         11.6          Low Sugar   \n",
       "2   DRA12  BABATUNJI017  DRA12_BABATUNJI017         11.6          Low Sugar   \n",
       "3   DRA12  BABATUNJI018  DRA12_BABATUNJI018         11.6          Low Sugar   \n",
       "4   DRA12  BABATUNJI035  DRA12_BABATUNJI035         11.6    Ultra Low Sugar   \n",
       "\n",
       "   Item_Visibility    Item_Type  Item_Price  Store_Start_Year Store_Size  \\\n",
       "0         0.068535  Soft Drinks      357.54              2005        NaN   \n",
       "1         0.040912  Soft Drinks      355.79              1994       High   \n",
       "2         0.041178  Soft Drinks      350.79              2014        NaN   \n",
       "3         0.041113  Soft Drinks      355.04              2016     Medium   \n",
       "4         0.000000  Soft Drinks      354.79              2011      Small   \n",
       "\n",
       "  Store_Location_Type         Store_Type  Item_Store_Returns  \n",
       "0           Cluster 3      Grocery Store              709.08  \n",
       "1           Cluster 3  Supermarket Type1             6381.69  \n",
       "2           Cluster 2  Supermarket Type1             6381.69  \n",
       "3           Cluster 3  Supermarket Type2             2127.23  \n",
       "4           Cluster 2  Supermarket Type1             2481.77  "
      ]
     },
     "execution_count": 203,
     "metadata": {},
     "output_type": "execute_result"
    }
   ],
   "source": [
    "train2.head()"
   ]
  },
  {
   "cell_type": "code",
   "execution_count": 204,
   "metadata": {
    "ExecuteTime": {
     "end_time": "2020-09-08T13:15:02.358931Z",
     "start_time": "2020-09-08T13:15:02.326925Z"
    }
   },
   "outputs": [
    {
     "name": "stdout",
     "output_type": "stream",
     "text": [
      "<class 'pandas.core.frame.DataFrame'>\n",
      "RangeIndex: 4990 entries, 0 to 4989\n",
      "Data columns (total 13 columns):\n",
      "Item_ID                4990 non-null object\n",
      "Store_ID               4990 non-null object\n",
      "Item_Store_ID          4990 non-null object\n",
      "Item_Weight            4188 non-null float64\n",
      "Item_Sugar_Content     4990 non-null object\n",
      "Item_Visibility        4990 non-null float64\n",
      "Item_Type              4990 non-null object\n",
      "Item_Price             4990 non-null float64\n",
      "Store_Start_Year       4990 non-null int64\n",
      "Store_Size             3540 non-null object\n",
      "Store_Location_Type    4990 non-null object\n",
      "Store_Type             4990 non-null object\n",
      "Item_Store_Returns     4990 non-null float64\n",
      "dtypes: float64(4), int64(1), object(8)\n",
      "memory usage: 506.9+ KB\n"
     ]
    }
   ],
   "source": [
    "train2.info()"
   ]
  },
  {
   "cell_type": "code",
   "execution_count": 205,
   "metadata": {
    "ExecuteTime": {
     "end_time": "2020-09-08T13:16:50.554335Z",
     "start_time": "2020-09-08T13:16:50.538332Z"
    }
   },
   "outputs": [],
   "source": [
    "train2['PV'] = train2['Item_Price'] * train2['Item_Visibility']\n",
    "test2['PV'] = test2['Item_Price'] * test2['Item_Visibility']\n"
   ]
  },
  {
   "cell_type": "code",
   "execution_count": 206,
   "metadata": {
    "ExecuteTime": {
     "end_time": "2020-09-08T13:17:13.809659Z",
     "start_time": "2020-09-08T13:17:13.777657Z"
    }
   },
   "outputs": [
    {
     "data": {
      "text/html": [
       "<div>\n",
       "<style scoped>\n",
       "    .dataframe tbody tr th:only-of-type {\n",
       "        vertical-align: middle;\n",
       "    }\n",
       "\n",
       "    .dataframe tbody tr th {\n",
       "        vertical-align: top;\n",
       "    }\n",
       "\n",
       "    .dataframe thead th {\n",
       "        text-align: right;\n",
       "    }\n",
       "</style>\n",
       "<table border=\"1\" class=\"dataframe\">\n",
       "  <thead>\n",
       "    <tr style=\"text-align: right;\">\n",
       "      <th></th>\n",
       "      <th>Item_ID</th>\n",
       "      <th>Store_ID</th>\n",
       "      <th>Item_Store_ID</th>\n",
       "      <th>Item_Weight</th>\n",
       "      <th>Item_Sugar_Content</th>\n",
       "      <th>Item_Visibility</th>\n",
       "      <th>Item_Type</th>\n",
       "      <th>Item_Price</th>\n",
       "      <th>Store_Start_Year</th>\n",
       "      <th>Store_Size</th>\n",
       "      <th>Store_Location_Type</th>\n",
       "      <th>Store_Type</th>\n",
       "      <th>Item_Store_Returns</th>\n",
       "      <th>PV</th>\n",
       "    </tr>\n",
       "  </thead>\n",
       "  <tbody>\n",
       "    <tr>\n",
       "      <th>0</th>\n",
       "      <td>DRA12</td>\n",
       "      <td>BABATUNJI010</td>\n",
       "      <td>DRA12_BABATUNJI010</td>\n",
       "      <td>11.6</td>\n",
       "      <td>Low Sugar</td>\n",
       "      <td>0.068535</td>\n",
       "      <td>Soft Drinks</td>\n",
       "      <td>357.54</td>\n",
       "      <td>2005</td>\n",
       "      <td>NaN</td>\n",
       "      <td>Cluster 3</td>\n",
       "      <td>Grocery Store</td>\n",
       "      <td>709.08</td>\n",
       "      <td>24.504018</td>\n",
       "    </tr>\n",
       "    <tr>\n",
       "      <th>1</th>\n",
       "      <td>DRA12</td>\n",
       "      <td>BABATUNJI013</td>\n",
       "      <td>DRA12_BABATUNJI013</td>\n",
       "      <td>11.6</td>\n",
       "      <td>Low Sugar</td>\n",
       "      <td>0.040912</td>\n",
       "      <td>Soft Drinks</td>\n",
       "      <td>355.79</td>\n",
       "      <td>1994</td>\n",
       "      <td>High</td>\n",
       "      <td>Cluster 3</td>\n",
       "      <td>Supermarket Type1</td>\n",
       "      <td>6381.69</td>\n",
       "      <td>14.556018</td>\n",
       "    </tr>\n",
       "    <tr>\n",
       "      <th>2</th>\n",
       "      <td>DRA12</td>\n",
       "      <td>BABATUNJI017</td>\n",
       "      <td>DRA12_BABATUNJI017</td>\n",
       "      <td>11.6</td>\n",
       "      <td>Low Sugar</td>\n",
       "      <td>0.041178</td>\n",
       "      <td>Soft Drinks</td>\n",
       "      <td>350.79</td>\n",
       "      <td>2014</td>\n",
       "      <td>NaN</td>\n",
       "      <td>Cluster 2</td>\n",
       "      <td>Supermarket Type1</td>\n",
       "      <td>6381.69</td>\n",
       "      <td>14.444657</td>\n",
       "    </tr>\n",
       "    <tr>\n",
       "      <th>3</th>\n",
       "      <td>DRA12</td>\n",
       "      <td>BABATUNJI018</td>\n",
       "      <td>DRA12_BABATUNJI018</td>\n",
       "      <td>11.6</td>\n",
       "      <td>Low Sugar</td>\n",
       "      <td>0.041113</td>\n",
       "      <td>Soft Drinks</td>\n",
       "      <td>355.04</td>\n",
       "      <td>2016</td>\n",
       "      <td>Medium</td>\n",
       "      <td>Cluster 3</td>\n",
       "      <td>Supermarket Type2</td>\n",
       "      <td>2127.23</td>\n",
       "      <td>14.596651</td>\n",
       "    </tr>\n",
       "    <tr>\n",
       "      <th>4</th>\n",
       "      <td>DRA12</td>\n",
       "      <td>BABATUNJI035</td>\n",
       "      <td>DRA12_BABATUNJI035</td>\n",
       "      <td>11.6</td>\n",
       "      <td>Ultra Low Sugar</td>\n",
       "      <td>0.000000</td>\n",
       "      <td>Soft Drinks</td>\n",
       "      <td>354.79</td>\n",
       "      <td>2011</td>\n",
       "      <td>Small</td>\n",
       "      <td>Cluster 2</td>\n",
       "      <td>Supermarket Type1</td>\n",
       "      <td>2481.77</td>\n",
       "      <td>0.000000</td>\n",
       "    </tr>\n",
       "  </tbody>\n",
       "</table>\n",
       "</div>"
      ],
      "text/plain": [
       "  Item_ID      Store_ID       Item_Store_ID  Item_Weight Item_Sugar_Content  \\\n",
       "0   DRA12  BABATUNJI010  DRA12_BABATUNJI010         11.6          Low Sugar   \n",
       "1   DRA12  BABATUNJI013  DRA12_BABATUNJI013         11.6          Low Sugar   \n",
       "2   DRA12  BABATUNJI017  DRA12_BABATUNJI017         11.6          Low Sugar   \n",
       "3   DRA12  BABATUNJI018  DRA12_BABATUNJI018         11.6          Low Sugar   \n",
       "4   DRA12  BABATUNJI035  DRA12_BABATUNJI035         11.6    Ultra Low Sugar   \n",
       "\n",
       "   Item_Visibility    Item_Type  Item_Price  Store_Start_Year Store_Size  \\\n",
       "0         0.068535  Soft Drinks      357.54              2005        NaN   \n",
       "1         0.040912  Soft Drinks      355.79              1994       High   \n",
       "2         0.041178  Soft Drinks      350.79              2014        NaN   \n",
       "3         0.041113  Soft Drinks      355.04              2016     Medium   \n",
       "4         0.000000  Soft Drinks      354.79              2011      Small   \n",
       "\n",
       "  Store_Location_Type         Store_Type  Item_Store_Returns         PV  \n",
       "0           Cluster 3      Grocery Store              709.08  24.504018  \n",
       "1           Cluster 3  Supermarket Type1             6381.69  14.556018  \n",
       "2           Cluster 2  Supermarket Type1             6381.69  14.444657  \n",
       "3           Cluster 3  Supermarket Type2             2127.23  14.596651  \n",
       "4           Cluster 2  Supermarket Type1             2481.77   0.000000  "
      ]
     },
     "execution_count": 206,
     "metadata": {},
     "output_type": "execute_result"
    }
   ],
   "source": [
    "train2.head()"
   ]
  },
  {
   "cell_type": "markdown",
   "metadata": {},
   "source": [
    "# FIxing the missing categorical variables"
   ]
  },
  {
   "cell_type": "code",
   "execution_count": 207,
   "metadata": {
    "ExecuteTime": {
     "end_time": "2020-09-08T13:17:47.301191Z",
     "start_time": "2020-09-08T13:17:47.277131Z"
    }
   },
   "outputs": [
    {
     "data": {
      "text/plain": [
       "array(['BABATUNJI010', 'BABATUNJI017', 'BABATUNJI045'], dtype=object)"
      ]
     },
     "execution_count": 207,
     "metadata": {},
     "output_type": "execute_result"
    }
   ],
   "source": [
    "train2[train2['Store_Size'].isna()]['Store_ID'].unique()"
   ]
  },
  {
   "cell_type": "code",
   "execution_count": 208,
   "metadata": {
    "ExecuteTime": {
     "end_time": "2020-09-08T13:17:48.029191Z",
     "start_time": "2020-09-08T13:17:47.997192Z"
    }
   },
   "outputs": [
    {
     "data": {
      "text/plain": [
       "array(['BABATUNJI019', 'BABATUNJI027'], dtype=object)"
      ]
     },
     "execution_count": 208,
     "metadata": {},
     "output_type": "execute_result"
    }
   ],
   "source": [
    "train2[train2['Item_Weight'].isna()]['Store_ID'].unique()"
   ]
  },
  {
   "cell_type": "code",
   "execution_count": 209,
   "metadata": {
    "ExecuteTime": {
     "end_time": "2020-09-08T13:17:48.537726Z",
     "start_time": "2020-09-08T13:17:48.521727Z"
    },
    "scrolled": true
   },
   "outputs": [
    {
     "data": {
      "text/plain": [
       "Store_ID\n",
       "BABATUNJI010     240638.60\n",
       "BABATUNJI013    2407829.22\n",
       "BABATUNJI017    4370201.60\n",
       "BABATUNJI018    2770310.84\n",
       "BABATUNJI019     357844.32\n",
       "BABATUNJI027    5803269.64\n",
       "BABATUNJI035    4058828.52\n",
       "BABATUNJI045    3567311.83\n",
       "BABATUNJI046    2945704.10\n",
       "BABATUNJI049    3934626.95\n",
       "Name: Item_Store_Returns, dtype: float64"
      ]
     },
     "execution_count": 209,
     "metadata": {},
     "output_type": "execute_result"
    }
   ],
   "source": [
    "train2.groupby('Store_ID')['Item_Store_Returns'].sum()"
   ]
  },
  {
   "cell_type": "code",
   "execution_count": 210,
   "metadata": {
    "ExecuteTime": {
     "end_time": "2020-09-08T13:17:49.058229Z",
     "start_time": "2020-09-08T13:17:49.026229Z"
    },
    "scrolled": true
   },
   "outputs": [
    {
     "data": {
      "text/plain": [
       "Store_ID\n",
       "BABATUNJI010        [Grocery Store]\n",
       "BABATUNJI013    [Supermarket Type1]\n",
       "BABATUNJI017    [Supermarket Type1]\n",
       "BABATUNJI018    [Supermarket Type2]\n",
       "BABATUNJI019        [Grocery Store]\n",
       "BABATUNJI027    [Supermarket Type3]\n",
       "BABATUNJI035    [Supermarket Type1]\n",
       "BABATUNJI045    [Supermarket Type1]\n",
       "BABATUNJI046    [Supermarket Type1]\n",
       "BABATUNJI049    [Supermarket Type1]\n",
       "Name: Store_Type, dtype: object"
      ]
     },
     "execution_count": 210,
     "metadata": {},
     "output_type": "execute_result"
    }
   ],
   "source": [
    "train2.groupby('Store_ID')['Store_Type'].unique()"
   ]
  },
  {
   "cell_type": "code",
   "execution_count": 211,
   "metadata": {
    "ExecuteTime": {
     "end_time": "2020-09-08T13:17:49.234231Z",
     "start_time": "2020-09-08T13:17:49.058229Z"
    },
    "scrolled": true
   },
   "outputs": [
    {
     "data": {
      "text/plain": [
       "Store_ID\n",
       "BABATUNJI010       [nan]\n",
       "BABATUNJI013      [High]\n",
       "BABATUNJI017       [nan]\n",
       "BABATUNJI018    [Medium]\n",
       "BABATUNJI019     [Small]\n",
       "BABATUNJI027    [Medium]\n",
       "BABATUNJI035     [Small]\n",
       "BABATUNJI045       [nan]\n",
       "BABATUNJI046     [Small]\n",
       "BABATUNJI049    [Medium]\n",
       "Name: Store_Size, dtype: object"
      ]
     },
     "execution_count": 211,
     "metadata": {},
     "output_type": "execute_result"
    }
   ],
   "source": [
    "train2.groupby('Store_ID')['Store_Size'].unique()"
   ]
  },
  {
   "cell_type": "code",
   "execution_count": 212,
   "metadata": {
    "ExecuteTime": {
     "end_time": "2020-09-08T13:17:49.314274Z",
     "start_time": "2020-09-08T13:17:49.234231Z"
    }
   },
   "outputs": [
    {
     "data": {
      "text/plain": [
       "Store_ID\n",
       "BABATUNJI010    384\n",
       "BABATUNJI013    594\n",
       "BABATUNJI017    583\n",
       "BABATUNJI018    500\n",
       "BABATUNJI019    340\n",
       "BABATUNJI027    462\n",
       "BABATUNJI035    515\n",
       "BABATUNJI045    483\n",
       "BABATUNJI046    509\n",
       "BABATUNJI049    620\n",
       "Name: Item_Type, dtype: int64"
      ]
     },
     "execution_count": 212,
     "metadata": {},
     "output_type": "execute_result"
    }
   ],
   "source": [
    "train2.groupby('Store_ID')['Item_Type'].count()"
   ]
  },
  {
   "cell_type": "code",
   "execution_count": 213,
   "metadata": {
    "ExecuteTime": {
     "end_time": "2020-09-08T13:17:49.826228Z",
     "start_time": "2020-09-08T13:17:49.810272Z"
    }
   },
   "outputs": [
    {
     "data": {
      "text/plain": [
       "Item_Type\n",
       "Baking Goods             3634.445\n",
       "Breads                   1247.515\n",
       "Breakfast                 693.330\n",
       "Canned                   3895.650\n",
       "Dairy                    3956.130\n",
       "Frozen Foods             5107.305\n",
       "Fruits and Vegetables    8112.950\n",
       "Hard Drinks              1313.380\n",
       "Health and Hygiene       3545.230\n",
       "Household                6208.600\n",
       "Meat                     2742.460\n",
       "Others                   1194.625\n",
       "Seafood                   364.820\n",
       "Snack Foods              8454.570\n",
       "Soft Drinks              2639.265\n",
       "Starchy Foods             951.940\n",
       "Name: Item_Weight, dtype: float64"
      ]
     },
     "execution_count": 213,
     "metadata": {},
     "output_type": "execute_result"
    }
   ],
   "source": [
    "train2.groupby('Item_Type')['Item_Weight'].sum()"
   ]
  },
  {
   "cell_type": "code",
   "execution_count": 214,
   "metadata": {
    "ExecuteTime": {
     "end_time": "2020-09-08T13:17:50.418231Z",
     "start_time": "2020-09-08T13:17:49.826228Z"
    },
    "scrolled": true
   },
   "outputs": [
    {
     "data": {
      "text/plain": [
       "<matplotlib.axes._subplots.AxesSubplot at 0x25088a64a48>"
      ]
     },
     "execution_count": 214,
     "metadata": {},
     "output_type": "execute_result"
    },
    {
     "data": {
      "image/png": "[encoded data removed]",
      "text/plain": [
       "<Figure size 1728x432 with 1 Axes>"
      ]
     },
     "metadata": {
      "needs_background": "light"
     },
     "output_type": "display_data"
    }
   ],
   "source": [
    "plt.figure(figsize=(24,6))\n",
    "sns.countplot(train2[train2['Store_ID']=='BABATUNJI013']['Item_Type'])"
   ]
  },
  {
   "cell_type": "code",
   "execution_count": 215,
   "metadata": {
    "ExecuteTime": {
     "end_time": "2020-09-08T13:17:52.778797Z",
     "start_time": "2020-09-08T13:17:52.306522Z"
    },
    "scrolled": true
   },
   "outputs": [
    {
     "data": {
      "text/plain": [
       "<matplotlib.axes._subplots.AxesSubplot at 0x250895d3448>"
      ]
     },
     "execution_count": 215,
     "metadata": {},
     "output_type": "execute_result"
    },
    {
     "data": {
      "image/png": "[encoded data removed]",
      "text/plain": [
       "<Figure size 1728x576 with 1 Axes>"
      ]
     },
     "metadata": {
      "needs_background": "light"
     },
     "output_type": "display_data"
    }
   ],
   "source": [
    "plt.figure(figsize=(24,8))\n",
    "sns.countplot(train2[train2['Store_ID']=='BABATUNJI049']['Item_Type'])"
   ]
  },
  {
   "cell_type": "code",
   "execution_count": 216,
   "metadata": {
    "ExecuteTime": {
     "end_time": "2020-09-08T13:17:53.274802Z",
     "start_time": "2020-09-08T13:17:52.778797Z"
    }
   },
   "outputs": [
    {
     "data": {
      "text/plain": [
       "<matplotlib.axes._subplots.AxesSubplot at 0x250895d30c8>"
      ]
     },
     "execution_count": 216,
     "metadata": {},
     "output_type": "execute_result"
    },
    {
     "data": {
      "image/png": "[encoded data removed]",
      "text/plain": [
       "<Figure size 1728x432 with 1 Axes>"
      ]
     },
     "metadata": {
      "needs_background": "light"
     },
     "output_type": "display_data"
    }
   ],
   "source": [
    "plt.figure(figsize=(24,6))\n",
    "sns.countplot(train2[train2['Store_ID']=='BABATUNJI017']['Item_Type'])"
   ]
  },
  {
   "cell_type": "markdown",
   "metadata": {
    "ExecuteTime": {
     "end_time": "2020-08-31T16:09:11.585875Z",
     "start_time": "2020-08-31T16:09:11.561854Z"
    }
   },
   "source": [
    "# Weight"
   ]
  },
  {
   "cell_type": "code",
   "execution_count": 217,
   "metadata": {
    "ExecuteTime": {
     "end_time": "2020-09-08T13:17:56.227639Z",
     "start_time": "2020-09-08T13:17:53.274802Z"
    }
   },
   "outputs": [],
   "source": [
    "unk = list(train2[train2['Item_Weight'].isna()]['Item_ID'].unique())\n",
    "unkt = list(test2[test2['Item_Weight'].isna()]['Item_ID'].unique())\n",
    "\n",
    "unk_dict = {}\n",
    "for x in range(len(unk)):\n",
    "    values = list(train2[train2['Item_ID']==unk[x]]['Item_Weight'].unique())\n",
    "    if len(values) < 2:\n",
    "        unk_dict[unk[x]] = values[0]\n",
    "    for y in values:\n",
    "        if not np.isnan(y):\n",
    "            unk_dict[unk[x]] = y\n",
    "\n",
    "# test\n",
    "unkt_dict = {}\n",
    "for x in range(len(unkt)):\n",
    "    values = list(test2[test2['Item_ID']==unkt[x]]['Item_Weight'].unique())\n",
    "    if len(values) < 2:\n",
    "        unkt_dict[unkt[x]] = values[0]\n",
    "    for y in values:\n",
    "        if not np.isnan(y):\n",
    "            unkt_dict[unkt[x]] = y\n",
    "            \n",
    "\n",
    "def fix(row):\n",
    "    ID = row[0]\n",
    "    weight = row[3]\n",
    "    \n",
    "    if ID in unk:\n",
    "        weight = unk_dict[ID]\n",
    "    return weight\n",
    "    \n",
    "train2['Item_Weight'] = train2.apply(fix, axis=1,)\n",
    "\n",
    "\n",
    "#test\n",
    "def fixt(row):\n",
    "    IDt = row[0]\n",
    "    weightt = row[3]\n",
    "    \n",
    "    if IDt in unkt:\n",
    "        weightt = unkt_dict[IDt]\n",
    "    return weightt\n",
    "    \n",
    "test2['Item_Weight'] = test2.apply(fixt, axis=1,)"
   ]
  },
  {
   "cell_type": "code",
   "execution_count": 218,
   "metadata": {
    "ExecuteTime": {
     "end_time": "2020-09-08T13:17:57.620007Z",
     "start_time": "2020-09-08T13:17:57.587974Z"
    }
   },
   "outputs": [
    {
     "data": {
      "text/html": [
       "<div>\n",
       "<style scoped>\n",
       "    .dataframe tbody tr th:only-of-type {\n",
       "        vertical-align: middle;\n",
       "    }\n",
       "\n",
       "    .dataframe tbody tr th {\n",
       "        vertical-align: top;\n",
       "    }\n",
       "\n",
       "    .dataframe thead th {\n",
       "        text-align: right;\n",
       "    }\n",
       "</style>\n",
       "<table border=\"1\" class=\"dataframe\">\n",
       "  <thead>\n",
       "    <tr style=\"text-align: right;\">\n",
       "      <th></th>\n",
       "      <th>Item_ID</th>\n",
       "      <th>Store_ID</th>\n",
       "      <th>Item_Store_ID</th>\n",
       "      <th>Item_Weight</th>\n",
       "      <th>Item_Sugar_Content</th>\n",
       "      <th>Item_Visibility</th>\n",
       "      <th>Item_Type</th>\n",
       "      <th>Item_Price</th>\n",
       "      <th>Store_Start_Year</th>\n",
       "      <th>Store_Size</th>\n",
       "      <th>Store_Location_Type</th>\n",
       "      <th>Store_Type</th>\n",
       "      <th>Item_Store_Returns</th>\n",
       "      <th>PV</th>\n",
       "    </tr>\n",
       "  </thead>\n",
       "  <tbody>\n",
       "    <tr>\n",
       "      <th>0</th>\n",
       "      <td>DRA12</td>\n",
       "      <td>BABATUNJI010</td>\n",
       "      <td>DRA12_BABATUNJI010</td>\n",
       "      <td>11.6</td>\n",
       "      <td>Low Sugar</td>\n",
       "      <td>0.068535</td>\n",
       "      <td>Soft Drinks</td>\n",
       "      <td>357.54</td>\n",
       "      <td>2005</td>\n",
       "      <td>NaN</td>\n",
       "      <td>Cluster 3</td>\n",
       "      <td>Grocery Store</td>\n",
       "      <td>709.08</td>\n",
       "      <td>24.504018</td>\n",
       "    </tr>\n",
       "    <tr>\n",
       "      <th>1</th>\n",
       "      <td>DRA12</td>\n",
       "      <td>BABATUNJI013</td>\n",
       "      <td>DRA12_BABATUNJI013</td>\n",
       "      <td>11.6</td>\n",
       "      <td>Low Sugar</td>\n",
       "      <td>0.040912</td>\n",
       "      <td>Soft Drinks</td>\n",
       "      <td>355.79</td>\n",
       "      <td>1994</td>\n",
       "      <td>High</td>\n",
       "      <td>Cluster 3</td>\n",
       "      <td>Supermarket Type1</td>\n",
       "      <td>6381.69</td>\n",
       "      <td>14.556018</td>\n",
       "    </tr>\n",
       "    <tr>\n",
       "      <th>2</th>\n",
       "      <td>DRA12</td>\n",
       "      <td>BABATUNJI017</td>\n",
       "      <td>DRA12_BABATUNJI017</td>\n",
       "      <td>11.6</td>\n",
       "      <td>Low Sugar</td>\n",
       "      <td>0.041178</td>\n",
       "      <td>Soft Drinks</td>\n",
       "      <td>350.79</td>\n",
       "      <td>2014</td>\n",
       "      <td>NaN</td>\n",
       "      <td>Cluster 2</td>\n",
       "      <td>Supermarket Type1</td>\n",
       "      <td>6381.69</td>\n",
       "      <td>14.444657</td>\n",
       "    </tr>\n",
       "    <tr>\n",
       "      <th>3</th>\n",
       "      <td>DRA12</td>\n",
       "      <td>BABATUNJI018</td>\n",
       "      <td>DRA12_BABATUNJI018</td>\n",
       "      <td>11.6</td>\n",
       "      <td>Low Sugar</td>\n",
       "      <td>0.041113</td>\n",
       "      <td>Soft Drinks</td>\n",
       "      <td>355.04</td>\n",
       "      <td>2016</td>\n",
       "      <td>Medium</td>\n",
       "      <td>Cluster 3</td>\n",
       "      <td>Supermarket Type2</td>\n",
       "      <td>2127.23</td>\n",
       "      <td>14.596651</td>\n",
       "    </tr>\n",
       "    <tr>\n",
       "      <th>4</th>\n",
       "      <td>DRA12</td>\n",
       "      <td>BABATUNJI035</td>\n",
       "      <td>DRA12_BABATUNJI035</td>\n",
       "      <td>11.6</td>\n",
       "      <td>Ultra Low Sugar</td>\n",
       "      <td>0.000000</td>\n",
       "      <td>Soft Drinks</td>\n",
       "      <td>354.79</td>\n",
       "      <td>2011</td>\n",
       "      <td>Small</td>\n",
       "      <td>Cluster 2</td>\n",
       "      <td>Supermarket Type1</td>\n",
       "      <td>2481.77</td>\n",
       "      <td>0.000000</td>\n",
       "    </tr>\n",
       "  </tbody>\n",
       "</table>\n",
       "</div>"
      ],
      "text/plain": [
       "  Item_ID      Store_ID       Item_Store_ID  Item_Weight Item_Sugar_Content  \\\n",
       "0   DRA12  BABATUNJI010  DRA12_BABATUNJI010         11.6          Low Sugar   \n",
       "1   DRA12  BABATUNJI013  DRA12_BABATUNJI013         11.6          Low Sugar   \n",
       "2   DRA12  BABATUNJI017  DRA12_BABATUNJI017         11.6          Low Sugar   \n",
       "3   DRA12  BABATUNJI018  DRA12_BABATUNJI018         11.6          Low Sugar   \n",
       "4   DRA12  BABATUNJI035  DRA12_BABATUNJI035         11.6    Ultra Low Sugar   \n",
       "\n",
       "   Item_Visibility    Item_Type  Item_Price  Store_Start_Year Store_Size  \\\n",
       "0         0.068535  Soft Drinks      357.54              2005        NaN   \n",
       "1         0.040912  Soft Drinks      355.79              1994       High   \n",
       "2         0.041178  Soft Drinks      350.79              2014        NaN   \n",
       "3         0.041113  Soft Drinks      355.04              2016     Medium   \n",
       "4         0.000000  Soft Drinks      354.79              2011      Small   \n",
       "\n",
       "  Store_Location_Type         Store_Type  Item_Store_Returns         PV  \n",
       "0           Cluster 3      Grocery Store              709.08  24.504018  \n",
       "1           Cluster 3  Supermarket Type1             6381.69  14.556018  \n",
       "2           Cluster 2  Supermarket Type1             6381.69  14.444657  \n",
       "3           Cluster 3  Supermarket Type2             2127.23  14.596651  \n",
       "4           Cluster 2  Supermarket Type1             2481.77   0.000000  "
      ]
     },
     "execution_count": 218,
     "metadata": {},
     "output_type": "execute_result"
    }
   ],
   "source": [
    "train2.head()"
   ]
  },
  {
   "cell_type": "markdown",
   "metadata": {},
   "source": [
    "# Size"
   ]
  },
  {
   "cell_type": "code",
   "execution_count": 219,
   "metadata": {
    "ExecuteTime": {
     "end_time": "2020-09-08T13:17:58.240889Z",
     "start_time": "2020-09-08T13:17:57.620007Z"
    }
   },
   "outputs": [],
   "source": [
    "stores_na = ['BABATUNJI010', 'BABATUNJI017', 'BABATUNJI045']\n",
    "stores_dict = {'BABATUNJI010':'Small', 'BABATUNJI017':'High', 'BABATUNJI045':'Medium'}\n",
    "def tfix(row):\n",
    "    ID = row[1]\n",
    "    stype = row[9]\n",
    "    \n",
    "    if ID in stores_na:\n",
    "        stype = stores_dict[ID]\n",
    "    return stype\n",
    "    \n",
    "train2['Store_Size'] = train2.apply(tfix, axis=1,)\n",
    "\n",
    "# Test\n",
    "storest_na = ['BABATUNJI010', 'BABATUNJI017', 'BABATUNJI045']\n",
    "storest_dict = {'BABATUNJI010':'Small', 'BABATUNJI017':'High', 'BABATUNJI045':'Medium'}\n",
    "def tfixt(row):\n",
    "    IDt = row[1]\n",
    "    stypet = row[9]\n",
    "    \n",
    "    if IDt in storest_na:\n",
    "        stypet = storest_dict[IDt]\n",
    "    return stypet\n",
    "    \n",
    "test2['Store_Size'] = test2.apply(tfixt, axis=1,)"
   ]
  },
  {
   "cell_type": "code",
   "execution_count": 220,
   "metadata": {
    "ExecuteTime": {
     "end_time": "2020-09-08T13:17:59.169269Z",
     "start_time": "2020-09-08T13:17:59.138054Z"
    }
   },
   "outputs": [
    {
     "name": "stdout",
     "output_type": "stream",
     "text": [
      "<class 'pandas.core.frame.DataFrame'>\n",
      "RangeIndex: 4990 entries, 0 to 4989\n",
      "Data columns (total 14 columns):\n",
      "Item_ID                4990 non-null object\n",
      "Store_ID               4990 non-null object\n",
      "Item_Store_ID          4990 non-null object\n",
      "Item_Weight            4973 non-null float64\n",
      "Item_Sugar_Content     4990 non-null object\n",
      "Item_Visibility        4990 non-null float64\n",
      "Item_Type              4990 non-null object\n",
      "Item_Price             4990 non-null float64\n",
      "Store_Start_Year       4990 non-null int64\n",
      "Store_Size             4990 non-null object\n",
      "Store_Location_Type    4990 non-null object\n",
      "Store_Type             4990 non-null object\n",
      "Item_Store_Returns     4990 non-null float64\n",
      "PV                     4990 non-null float64\n",
      "dtypes: float64(5), int64(1), object(8)\n",
      "memory usage: 545.9+ KB\n"
     ]
    }
   ],
   "source": [
    "train2.info()"
   ]
  },
  {
   "cell_type": "markdown",
   "metadata": {},
   "source": [
    "# Preparing the training data"
   ]
  },
  {
   "cell_type": "code",
   "execution_count": 221,
   "metadata": {
    "ExecuteTime": {
     "end_time": "2020-09-08T13:18:12.723933Z",
     "start_time": "2020-09-08T13:18:12.675918Z"
    }
   },
   "outputs": [],
   "source": [
    "train2.set_index(['Item_ID', 'Item_Store_ID'], inplace=True)\n",
    "train2.drop('Store_Start_Year', axis=1, inplace=True)\n",
    "test2.set_index(['Item_ID', 'Item_Store_ID'], inplace=True)\n",
    "test2.drop('Store_Start_Year', axis=1, inplace=True)"
   ]
  },
  {
   "cell_type": "code",
   "execution_count": 222,
   "metadata": {
    "ExecuteTime": {
     "end_time": "2020-09-08T13:18:16.384021Z",
     "start_time": "2020-09-08T13:18:16.360003Z"
    }
   },
   "outputs": [],
   "source": [
    "# creating pipelines\n",
    "from sklearn.base import BaseEstimator, TransformerMixin\n",
    "from sklearn.pipeline import Pipeline, FeatureUnion\n",
    "from sklearn.preprocessing import StandardScaler, MinMaxScaler, LabelEncoder, OneHotEncoder\n",
    "from sklearn.impute import SimpleImputer\n",
    "\n",
    "X = train2.drop('Item_Store_Returns', axis=1)\n",
    "y = train2['Item_Store_Returns']\n",
    "\n",
    "class DataFrameSelector(BaseEstimator, TransformerMixin):\n",
    "    def __init__(self, attribute_names):\n",
    "        self.attribute_names = attribute_names\n",
    "\n",
    "    def fit(self, X, y=None):\n",
    "        return self\n",
    "\n",
    "    def transform(self, X):\n",
    "        return X[self.attribute_names].values\n"
   ]
  },
  {
   "cell_type": "code",
   "execution_count": 223,
   "metadata": {
    "ExecuteTime": {
     "end_time": "2020-09-08T13:18:35.374096Z",
     "start_time": "2020-09-08T13:18:35.358557Z"
    },
    "scrolled": true
   },
   "outputs": [],
   "source": [
    "cat = [\n",
    "    'Store_ID', 'Item_Sugar_Content', 'Item_Type', 'Store_Size',\n",
    "    'Store_Location_Type', 'Store_Type'\n",
    "]\n",
    "\n",
    "num = ['Item_Weight', 'Item_Visibility', 'Item_Price']\n",
    "\n",
    "num_pipeline = Pipeline([('selector', DataFrameSelector(num)),\n",
    "                         ('imputer', SimpleImputer(strategy='median')),\n",
    "                         ('scaler', StandardScaler())])\n",
    "\n",
    "cat_pipeline = Pipeline([('selector', DataFrameSelector(cat)),\n",
    "                         ('encoder', OneHotEncoder())])\n",
    "\n",
    "full_pipeline = FeatureUnion([('num_pipeline', num_pipeline),\n",
    "                              ('cat_pipeline', cat_pipeline)], n_jobs=-1)"
   ]
  },
  {
   "cell_type": "code",
   "execution_count": 224,
   "metadata": {
    "ExecuteTime": {
     "end_time": "2020-09-08T13:18:46.462534Z",
     "start_time": "2020-09-08T13:18:42.561572Z"
    }
   },
   "outputs": [],
   "source": [
    "X_prep = full_pipeline.fit_transform(X)"
   ]
  },
  {
   "cell_type": "code",
   "execution_count": 225,
   "metadata": {
    "ExecuteTime": {
     "end_time": "2020-09-08T13:18:46.482735Z",
     "start_time": "2020-09-08T13:18:46.464573Z"
    }
   },
   "outputs": [],
   "source": [
    "X = X_prep.toarray()"
   ]
  },
  {
   "cell_type": "code",
   "execution_count": 193,
   "metadata": {
    "ExecuteTime": {
     "end_time": "2020-09-08T13:12:14.915213Z",
     "start_time": "2020-09-08T13:12:14.891211Z"
    }
   },
   "outputs": [
    {
     "data": {
      "text/plain": [
       "array([[-0.28486613,  0.03051274, -0.28704749, ...,  0.        ,\n",
       "         0.        ,  0.        ],\n",
       "       [-0.28486613, -0.49015852, -0.30170824, ...,  1.        ,\n",
       "         0.        ,  0.        ],\n",
       "       [-0.28486613, -0.48515069, -0.34359611, ...,  1.        ,\n",
       "         0.        ,  0.        ],\n",
       "       ...,\n",
       "       [ 0.36520168,  0.31312417,  0.12010262, ...,  1.        ,\n",
       "         0.        ,  0.        ],\n",
       "       [ 0.36520168,  0.30993764,  0.10963065, ...,  1.        ,\n",
       "         0.        ,  0.        ],\n",
       "       [ 0.36520168,  0.3123805 ,  0.09706429, ...,  1.        ,\n",
       "         0.        ,  0.        ]])"
      ]
     },
     "execution_count": 193,
     "metadata": {},
     "output_type": "execute_result"
    }
   ],
   "source": [
    "X"
   ]
  },
  {
   "cell_type": "markdown",
   "metadata": {
    "ExecuteTime": {
     "end_time": "2020-09-02T13:26:03.162509Z",
     "start_time": "2020-09-02T13:26:03.138524Z"
    }
   },
   "source": [
    "# Finding the right model"
   ]
  },
  {
   "cell_type": "code",
   "execution_count": 93,
   "metadata": {
    "ExecuteTime": {
     "end_time": "2020-09-08T12:20:51.912549Z",
     "start_time": "2020-09-08T12:20:47.706518Z"
    }
   },
   "outputs": [
    {
     "name": "stdout",
     "output_type": "stream",
     "text": [
      "1 [1528. 5592. 5744. 5104. 6024.]\n",
      "2 [709.08, 6381.69, 6381.69, 2127.23, 2481.77]\n"
     ]
    }
   ],
   "source": [
    "from sklearn.linear_model import LinearRegression\n",
    "\n",
    "model = LinearRegression()\n",
    "model.fit(X, y)\n",
    "\n",
    "some_data = train2.drop('Item_Store_Returns', axis=1).iloc[:5]\n",
    "some_data_prep = full_pipeline.transform(some_data)\n",
    "some_label = y.iloc[:5]\n",
    "\n",
    "print('1', model.predict(some_data_prep))\n",
    "print('2', list(some_label))"
   ]
  },
  {
   "cell_type": "code",
   "execution_count": 39,
   "metadata": {
    "ExecuteTime": {
     "end_time": "2020-09-08T11:57:20.927837Z",
     "start_time": "2020-09-08T11:57:20.880958Z"
    }
   },
   "outputs": [
    {
     "name": "stdout",
     "output_type": "stream",
     "text": [
      "2981.0221398233384\n"
     ]
    }
   ],
   "source": [
    "from sklearn.metrics import mean_squared_error\n",
    "\n",
    "predi = model.predict(X)\n",
    "\n",
    "print(np.sqrt(mean_squared_error(y, predi)))"
   ]
  },
  {
   "cell_type": "code",
   "execution_count": 40,
   "metadata": {
    "ExecuteTime": {
     "end_time": "2020-09-08T11:57:21.828993Z",
     "start_time": "2020-09-08T11:57:21.276983Z"
    }
   },
   "outputs": [
    {
     "name": "stdout",
     "output_type": "stream",
     "text": [
      "0.0\n"
     ]
    }
   ],
   "source": [
    "from sklearn.tree import DecisionTreeRegressor\n",
    "\n",
    "tree = DecisionTreeRegressor()\n",
    "tree.fit(X, y)\n",
    "\n",
    "predic = tree.predict(X)\n",
    "print(np.sqrt(mean_squared_error(y, predic)))"
   ]
  },
  {
   "cell_type": "markdown",
   "metadata": {},
   "source": [
    "## Crossvalidation"
   ]
  },
  {
   "cell_type": "code",
   "execution_count": 41,
   "metadata": {
    "ExecuteTime": {
     "end_time": "2020-09-08T11:57:22.847065Z",
     "start_time": "2020-09-08T11:57:22.134041Z"
    }
   },
   "outputs": [
    {
     "name": "stdout",
     "output_type": "stream",
     "text": [
      "Scores [4043.22685003 4552.96207268 4002.84724562 4442.35603257 3977.84072542\n",
      " 4160.59649453 3928.62977467 4273.38668841 4070.85231249 3903.23268936]\n",
      "Mean 4135.593088578187\n",
      "Standard deviation 209.75412859167878\n"
     ]
    }
   ],
   "source": [
    "from sklearn.model_selection import cross_val_score\n",
    "\n",
    "scores = cross_val_score(tree, X, y, scoring='neg_mean_squared_error', cv=10)\n",
    "\n",
    "rmse_scores = np.sqrt(-scores)\n",
    "\n",
    "def display(scores):\n",
    "    print('Scores', scores)\n",
    "    print('Mean', scores.mean())\n",
    "    print('Standard deviation', scores.std())\n",
    "    \n",
    "display(rmse_scores)"
   ]
  },
  {
   "cell_type": "code",
   "execution_count": 42,
   "metadata": {
    "ExecuteTime": {
     "end_time": "2020-09-08T11:57:23.265911Z",
     "start_time": "2020-09-08T11:57:23.137564Z"
    }
   },
   "outputs": [
    {
     "name": "stdout",
     "output_type": "stream",
     "text": [
      "Scores [3084.44069459 2799.13321439 2977.70708137 3229.16657932 2979.16210156\n",
      " 3065.99902841 3013.23091244 3021.17386369 2785.94529914 2772.27916185]\n",
      "Mean 2972.8237936757982\n",
      "Standard deviation 140.07005542103815\n"
     ]
    }
   ],
   "source": [
    "lscore = cross_val_score(model, X, y, scoring='neg_mean_squared_error', cv=10)\n",
    "\n",
    "lrmse = np.sqrt(-lscore)\n",
    "\n",
    "display(lrmse)"
   ]
  },
  {
   "cell_type": "code",
   "execution_count": 43,
   "metadata": {
    "ExecuteTime": {
     "end_time": "2020-09-08T11:58:02.886693Z",
     "start_time": "2020-09-08T11:57:23.610066Z"
    }
   },
   "outputs": [
    {
     "name": "stdout",
     "output_type": "stream",
     "text": [
      "Scores [3152.04628851 2961.37511062 2987.82366843 3371.43656028 3053.41004236\n",
      " 3053.85597001 3034.95828367 3121.47488886 2875.01266197 2908.42874903]\n",
      "Mean 3051.982222372933\n",
      "Standard deviation 134.69976981672795\n"
     ]
    }
   ],
   "source": [
    "from sklearn.ensemble import RandomForestRegressor\n",
    "\n",
    "rand = RandomForestRegressor()\n",
    "\n",
    "rand.fit(X,y)\n",
    "\n",
    "rscore = cross_val_score(rand, X, y, scoring='neg_mean_squared_error', cv=10)\n",
    "\n",
    "rrmse = np.sqrt(-rscore)\n",
    "\n",
    "display(rrmse)"
   ]
  },
  {
   "cell_type": "code",
   "execution_count": 44,
   "metadata": {
    "ExecuteTime": {
     "end_time": "2020-09-08T11:58:03.390697Z",
     "start_time": "2020-09-08T11:58:03.238696Z"
    }
   },
   "outputs": [
    {
     "name": "stdout",
     "output_type": "stream",
     "text": [
      "1144.931140693339\n"
     ]
    }
   ],
   "source": [
    "predicti = rand.predict(X)\n",
    "\n",
    "print(np.sqrt(mean_squared_error(y, predicti)))"
   ]
  },
  {
   "cell_type": "code",
   "execution_count": 85,
   "metadata": {
    "ExecuteTime": {
     "end_time": "2020-09-08T12:19:46.335525Z",
     "start_time": "2020-09-08T12:19:46.207021Z"
    }
   },
   "outputs": [
    {
     "ename": "ValueError",
     "evalue": "could not convert string to float: 'BABATUNJI010'",
     "output_type": "error",
     "traceback": [
      "\u001b[1;31m---------------------------------------------------------------------------\u001b[0m",
      "\u001b[1;31mValueError\u001b[0m                                Traceback (most recent call last)",
      "\u001b[1;32m<ipython-input-85-0f31e71986de>\u001b[0m in \u001b[0;36m<module>\u001b[1;34m\u001b[0m\n\u001b[0;32m      3\u001b[0m \u001b[0mgb\u001b[0m \u001b[1;33m=\u001b[0m \u001b[0mGradientBoostingRegressor\u001b[0m\u001b[1;33m(\u001b[0m\u001b[1;33m)\u001b[0m\u001b[1;33m\u001b[0m\u001b[1;33m\u001b[0m\u001b[0m\n\u001b[0;32m      4\u001b[0m \u001b[1;33m\u001b[0m\u001b[0m\n\u001b[1;32m----> 5\u001b[1;33m \u001b[0mgb\u001b[0m\u001b[1;33m.\u001b[0m\u001b[0mfit\u001b[0m\u001b[1;33m(\u001b[0m\u001b[0mX\u001b[0m\u001b[1;33m,\u001b[0m\u001b[0my\u001b[0m\u001b[1;33m)\u001b[0m\u001b[1;33m\u001b[0m\u001b[1;33m\u001b[0m\u001b[0m\n\u001b[0m\u001b[0;32m      6\u001b[0m \u001b[1;33m\u001b[0m\u001b[0m\n\u001b[0;32m      7\u001b[0m \u001b[0mgscore\u001b[0m \u001b[1;33m=\u001b[0m \u001b[0mcross_val_score\u001b[0m\u001b[1;33m(\u001b[0m\u001b[0mgb\u001b[0m\u001b[1;33m,\u001b[0m \u001b[0mX\u001b[0m\u001b[1;33m,\u001b[0m \u001b[0my\u001b[0m\u001b[1;33m,\u001b[0m \u001b[0mscoring\u001b[0m\u001b[1;33m=\u001b[0m\u001b[1;34m'neg_mean_squared_error'\u001b[0m\u001b[1;33m,\u001b[0m \u001b[0mcv\u001b[0m\u001b[1;33m=\u001b[0m\u001b[1;36m10\u001b[0m\u001b[1;33m)\u001b[0m\u001b[1;33m\u001b[0m\u001b[1;33m\u001b[0m\u001b[0m\n",
      "\u001b[1;32m~\\anaconda3\\envs\\tf_gpu\\lib\\site-packages\\sklearn\\ensemble\\_gb.py\u001b[0m in \u001b[0;36mfit\u001b[1;34m(self, X, y, sample_weight, monitor)\u001b[0m\n\u001b[0;32m    408\u001b[0m \u001b[1;33m\u001b[0m\u001b[0m\n\u001b[0;32m    409\u001b[0m         X, y = self._validate_data(X, y, accept_sparse=['csr', 'csc', 'coo'],\n\u001b[1;32m--> 410\u001b[1;33m                                    dtype=DTYPE, multi_output=True)\n\u001b[0m\u001b[0;32m    411\u001b[0m         \u001b[0mn_samples\u001b[0m\u001b[1;33m,\u001b[0m \u001b[0mself\u001b[0m\u001b[1;33m.\u001b[0m\u001b[0mn_features_\u001b[0m \u001b[1;33m=\u001b[0m \u001b[0mX\u001b[0m\u001b[1;33m.\u001b[0m\u001b[0mshape\u001b[0m\u001b[1;33m\u001b[0m\u001b[1;33m\u001b[0m\u001b[0m\n\u001b[0;32m    412\u001b[0m \u001b[1;33m\u001b[0m\u001b[0m\n",
      "\u001b[1;32m~\\anaconda3\\envs\\tf_gpu\\lib\\site-packages\\sklearn\\base.py\u001b[0m in \u001b[0;36m_validate_data\u001b[1;34m(self, X, y, reset, validate_separately, **check_params)\u001b[0m\n\u001b[0;32m    430\u001b[0m                 \u001b[0my\u001b[0m \u001b[1;33m=\u001b[0m \u001b[0mcheck_array\u001b[0m\u001b[1;33m(\u001b[0m\u001b[0my\u001b[0m\u001b[1;33m,\u001b[0m \u001b[1;33m**\u001b[0m\u001b[0mcheck_y_params\u001b[0m\u001b[1;33m)\u001b[0m\u001b[1;33m\u001b[0m\u001b[1;33m\u001b[0m\u001b[0m\n\u001b[0;32m    431\u001b[0m             \u001b[1;32melse\u001b[0m\u001b[1;33m:\u001b[0m\u001b[1;33m\u001b[0m\u001b[1;33m\u001b[0m\u001b[0m\n\u001b[1;32m--> 432\u001b[1;33m                 \u001b[0mX\u001b[0m\u001b[1;33m,\u001b[0m \u001b[0my\u001b[0m \u001b[1;33m=\u001b[0m \u001b[0mcheck_X_y\u001b[0m\u001b[1;33m(\u001b[0m\u001b[0mX\u001b[0m\u001b[1;33m,\u001b[0m \u001b[0my\u001b[0m\u001b[1;33m,\u001b[0m \u001b[1;33m**\u001b[0m\u001b[0mcheck_params\u001b[0m\u001b[1;33m)\u001b[0m\u001b[1;33m\u001b[0m\u001b[1;33m\u001b[0m\u001b[0m\n\u001b[0m\u001b[0;32m    433\u001b[0m             \u001b[0mout\u001b[0m \u001b[1;33m=\u001b[0m \u001b[0mX\u001b[0m\u001b[1;33m,\u001b[0m \u001b[0my\u001b[0m\u001b[1;33m\u001b[0m\u001b[1;33m\u001b[0m\u001b[0m\n\u001b[0;32m    434\u001b[0m \u001b[1;33m\u001b[0m\u001b[0m\n",
      "\u001b[1;32m~\\anaconda3\\envs\\tf_gpu\\lib\\site-packages\\sklearn\\utils\\validation.py\u001b[0m in \u001b[0;36minner_f\u001b[1;34m(*args, **kwargs)\u001b[0m\n\u001b[0;32m     71\u001b[0m                           FutureWarning)\n\u001b[0;32m     72\u001b[0m         \u001b[0mkwargs\u001b[0m\u001b[1;33m.\u001b[0m\u001b[0mupdate\u001b[0m\u001b[1;33m(\u001b[0m\u001b[1;33m{\u001b[0m\u001b[0mk\u001b[0m\u001b[1;33m:\u001b[0m \u001b[0marg\u001b[0m \u001b[1;32mfor\u001b[0m \u001b[0mk\u001b[0m\u001b[1;33m,\u001b[0m \u001b[0marg\u001b[0m \u001b[1;32min\u001b[0m \u001b[0mzip\u001b[0m\u001b[1;33m(\u001b[0m\u001b[0msig\u001b[0m\u001b[1;33m.\u001b[0m\u001b[0mparameters\u001b[0m\u001b[1;33m,\u001b[0m \u001b[0margs\u001b[0m\u001b[1;33m)\u001b[0m\u001b[1;33m}\u001b[0m\u001b[1;33m)\u001b[0m\u001b[1;33m\u001b[0m\u001b[1;33m\u001b[0m\u001b[0m\n\u001b[1;32m---> 73\u001b[1;33m         \u001b[1;32mreturn\u001b[0m \u001b[0mf\u001b[0m\u001b[1;33m(\u001b[0m\u001b[1;33m**\u001b[0m\u001b[0mkwargs\u001b[0m\u001b[1;33m)\u001b[0m\u001b[1;33m\u001b[0m\u001b[1;33m\u001b[0m\u001b[0m\n\u001b[0m\u001b[0;32m     74\u001b[0m     \u001b[1;32mreturn\u001b[0m \u001b[0minner_f\u001b[0m\u001b[1;33m\u001b[0m\u001b[1;33m\u001b[0m\u001b[0m\n\u001b[0;32m     75\u001b[0m \u001b[1;33m\u001b[0m\u001b[0m\n",
      "\u001b[1;32m~\\anaconda3\\envs\\tf_gpu\\lib\\site-packages\\sklearn\\utils\\validation.py\u001b[0m in \u001b[0;36mcheck_X_y\u001b[1;34m(X, y, accept_sparse, accept_large_sparse, dtype, order, copy, force_all_finite, ensure_2d, allow_nd, multi_output, ensure_min_samples, ensure_min_features, y_numeric, estimator)\u001b[0m\n\u001b[0;32m    801\u001b[0m                     \u001b[0mensure_min_samples\u001b[0m\u001b[1;33m=\u001b[0m\u001b[0mensure_min_samples\u001b[0m\u001b[1;33m,\u001b[0m\u001b[1;33m\u001b[0m\u001b[1;33m\u001b[0m\u001b[0m\n\u001b[0;32m    802\u001b[0m                     \u001b[0mensure_min_features\u001b[0m\u001b[1;33m=\u001b[0m\u001b[0mensure_min_features\u001b[0m\u001b[1;33m,\u001b[0m\u001b[1;33m\u001b[0m\u001b[1;33m\u001b[0m\u001b[0m\n\u001b[1;32m--> 803\u001b[1;33m                     estimator=estimator)\n\u001b[0m\u001b[0;32m    804\u001b[0m     \u001b[1;32mif\u001b[0m \u001b[0mmulti_output\u001b[0m\u001b[1;33m:\u001b[0m\u001b[1;33m\u001b[0m\u001b[1;33m\u001b[0m\u001b[0m\n\u001b[0;32m    805\u001b[0m         y = check_array(y, accept_sparse='csr', force_all_finite=True,\n",
      "\u001b[1;32m~\\anaconda3\\envs\\tf_gpu\\lib\\site-packages\\sklearn\\utils\\validation.py\u001b[0m in \u001b[0;36minner_f\u001b[1;34m(*args, **kwargs)\u001b[0m\n\u001b[0;32m     71\u001b[0m                           FutureWarning)\n\u001b[0;32m     72\u001b[0m         \u001b[0mkwargs\u001b[0m\u001b[1;33m.\u001b[0m\u001b[0mupdate\u001b[0m\u001b[1;33m(\u001b[0m\u001b[1;33m{\u001b[0m\u001b[0mk\u001b[0m\u001b[1;33m:\u001b[0m \u001b[0marg\u001b[0m \u001b[1;32mfor\u001b[0m \u001b[0mk\u001b[0m\u001b[1;33m,\u001b[0m \u001b[0marg\u001b[0m \u001b[1;32min\u001b[0m \u001b[0mzip\u001b[0m\u001b[1;33m(\u001b[0m\u001b[0msig\u001b[0m\u001b[1;33m.\u001b[0m\u001b[0mparameters\u001b[0m\u001b[1;33m,\u001b[0m \u001b[0margs\u001b[0m\u001b[1;33m)\u001b[0m\u001b[1;33m}\u001b[0m\u001b[1;33m)\u001b[0m\u001b[1;33m\u001b[0m\u001b[1;33m\u001b[0m\u001b[0m\n\u001b[1;32m---> 73\u001b[1;33m         \u001b[1;32mreturn\u001b[0m \u001b[0mf\u001b[0m\u001b[1;33m(\u001b[0m\u001b[1;33m**\u001b[0m\u001b[0mkwargs\u001b[0m\u001b[1;33m)\u001b[0m\u001b[1;33m\u001b[0m\u001b[1;33m\u001b[0m\u001b[0m\n\u001b[0m\u001b[0;32m     74\u001b[0m     \u001b[1;32mreturn\u001b[0m \u001b[0minner_f\u001b[0m\u001b[1;33m\u001b[0m\u001b[1;33m\u001b[0m\u001b[0m\n\u001b[0;32m     75\u001b[0m \u001b[1;33m\u001b[0m\u001b[0m\n",
      "\u001b[1;32m~\\anaconda3\\envs\\tf_gpu\\lib\\site-packages\\sklearn\\utils\\validation.py\u001b[0m in \u001b[0;36mcheck_array\u001b[1;34m(array, accept_sparse, accept_large_sparse, dtype, order, copy, force_all_finite, ensure_2d, allow_nd, ensure_min_samples, ensure_min_features, estimator)\u001b[0m\n\u001b[0;32m    597\u001b[0m                     \u001b[0marray\u001b[0m \u001b[1;33m=\u001b[0m \u001b[0marray\u001b[0m\u001b[1;33m.\u001b[0m\u001b[0mastype\u001b[0m\u001b[1;33m(\u001b[0m\u001b[0mdtype\u001b[0m\u001b[1;33m,\u001b[0m \u001b[0mcasting\u001b[0m\u001b[1;33m=\u001b[0m\u001b[1;34m\"unsafe\"\u001b[0m\u001b[1;33m,\u001b[0m \u001b[0mcopy\u001b[0m\u001b[1;33m=\u001b[0m\u001b[1;32mFalse\u001b[0m\u001b[1;33m)\u001b[0m\u001b[1;33m\u001b[0m\u001b[1;33m\u001b[0m\u001b[0m\n\u001b[0;32m    598\u001b[0m                 \u001b[1;32melse\u001b[0m\u001b[1;33m:\u001b[0m\u001b[1;33m\u001b[0m\u001b[1;33m\u001b[0m\u001b[0m\n\u001b[1;32m--> 599\u001b[1;33m                     \u001b[0marray\u001b[0m \u001b[1;33m=\u001b[0m \u001b[0mnp\u001b[0m\u001b[1;33m.\u001b[0m\u001b[0masarray\u001b[0m\u001b[1;33m(\u001b[0m\u001b[0marray\u001b[0m\u001b[1;33m,\u001b[0m \u001b[0morder\u001b[0m\u001b[1;33m=\u001b[0m\u001b[0morder\u001b[0m\u001b[1;33m,\u001b[0m \u001b[0mdtype\u001b[0m\u001b[1;33m=\u001b[0m\u001b[0mdtype\u001b[0m\u001b[1;33m)\u001b[0m\u001b[1;33m\u001b[0m\u001b[1;33m\u001b[0m\u001b[0m\n\u001b[0m\u001b[0;32m    600\u001b[0m             \u001b[1;32mexcept\u001b[0m \u001b[0mComplexWarning\u001b[0m\u001b[1;33m:\u001b[0m\u001b[1;33m\u001b[0m\u001b[1;33m\u001b[0m\u001b[0m\n\u001b[0;32m    601\u001b[0m                 raise ValueError(\"Complex data not supported\\n\"\n",
      "\u001b[1;32m~\\anaconda3\\envs\\tf_gpu\\lib\\site-packages\\numpy\\core\\_asarray.py\u001b[0m in \u001b[0;36masarray\u001b[1;34m(a, dtype, order)\u001b[0m\n\u001b[0;32m     81\u001b[0m \u001b[1;33m\u001b[0m\u001b[0m\n\u001b[0;32m     82\u001b[0m     \"\"\"\n\u001b[1;32m---> 83\u001b[1;33m     \u001b[1;32mreturn\u001b[0m \u001b[0marray\u001b[0m\u001b[1;33m(\u001b[0m\u001b[0ma\u001b[0m\u001b[1;33m,\u001b[0m \u001b[0mdtype\u001b[0m\u001b[1;33m,\u001b[0m \u001b[0mcopy\u001b[0m\u001b[1;33m=\u001b[0m\u001b[1;32mFalse\u001b[0m\u001b[1;33m,\u001b[0m \u001b[0morder\u001b[0m\u001b[1;33m=\u001b[0m\u001b[0morder\u001b[0m\u001b[1;33m)\u001b[0m\u001b[1;33m\u001b[0m\u001b[1;33m\u001b[0m\u001b[0m\n\u001b[0m\u001b[0;32m     84\u001b[0m \u001b[1;33m\u001b[0m\u001b[0m\n\u001b[0;32m     85\u001b[0m \u001b[1;33m\u001b[0m\u001b[0m\n",
      "\u001b[1;31mValueError\u001b[0m: could not convert string to float: 'BABATUNJI010'"
     ]
    }
   ],
   "source": [
    "from sklearn.ensemble import GradientBoostingRegressor\n",
    "\n",
    "gb = GradientBoostingRegressor()\n",
    "\n",
    "gb.fit(X,y)\n",
    "\n",
    "gscore = cross_val_score(gb, X, y, scoring='neg_mean_squared_error', cv=10)\n",
    "\n",
    "grmse = np.sqrt(-gscore)\n",
    "\n",
    "display(grmse)"
   ]
  },
  {
   "cell_type": "code",
   "execution_count": 46,
   "metadata": {
    "ExecuteTime": {
     "end_time": "2020-09-08T11:58:15.364785Z",
     "start_time": "2020-09-08T11:58:15.332787Z"
    }
   },
   "outputs": [
    {
     "name": "stdout",
     "output_type": "stream",
     "text": [
      "2734.5501831761976\n"
     ]
    }
   ],
   "source": [
    "predictio = gb.predict(X)\n",
    "\n",
    "print(np.sqrt(mean_squared_error(y, predictio)))"
   ]
  },
  {
   "cell_type": "markdown",
   "metadata": {},
   "source": [
    "# GridSearchCV"
   ]
  },
  {
   "cell_type": "code",
   "execution_count": 46,
   "metadata": {
    "ExecuteTime": {
     "end_time": "2020-09-02T14:08:05.252526Z",
     "start_time": "2020-09-02T14:07:54.878016Z"
    }
   },
   "outputs": [
    {
     "data": {
      "text/plain": [
       "GridSearchCV(cv=5, estimator=RandomForestRegressor(),\n",
       "             param_grid=[{'max_features': [2, 4, 6, 8],\n",
       "                          'n_estimators': [3, 10, 30]},\n",
       "                         {'bootstrap': [False], 'max_features': [2, 3, 4],\n",
       "                          'n_estimators': [3, 10]}],\n",
       "             scoring='neg_mean_squared_error')"
      ]
     },
     "execution_count": 46,
     "metadata": {},
     "output_type": "execute_result"
    }
   ],
   "source": [
    "# Grid search on random forest model\n",
    "\n",
    "from sklearn.model_selection import GridSearchCV\n",
    "\n",
    "forest = RandomForestRegressor()\n",
    "\n",
    "param_grid = [\n",
    "    {\n",
    "        'n_estimators': [3, 10, 30],\n",
    "        'max_features': [2, 4, 6, 8]\n",
    "    },\n",
    "    {\n",
    "        'bootstrap': [False],\n",
    "        'n_estimators': [3, 10],\n",
    "        'max_features': [2, 3, 4]\n",
    "    },\n",
    "]\n",
    "\n",
    "grid = GridSearchCV(forest, param_grid, scoring='neg_mean_squared_error')\n",
    "\n",
    "grid.fit(X, y)"
   ]
  },
  {
   "cell_type": "code",
   "execution_count": 47,
   "metadata": {
    "ExecuteTime": {
     "end_time": "2020-09-02T14:09:33.681807Z",
     "start_time": "2020-09-02T14:09:33.649805Z"
    }
   },
   "outputs": [
    {
     "data": {
      "text/plain": [
       "{'max_features': 6, 'n_estimators': 30}"
      ]
     },
     "execution_count": 47,
     "metadata": {},
     "output_type": "execute_result"
    }
   ],
   "source": [
    "grid.best_params_"
   ]
  },
  {
   "cell_type": "code",
   "execution_count": 48,
   "metadata": {
    "ExecuteTime": {
     "end_time": "2020-09-02T14:10:55.228768Z",
     "start_time": "2020-09-02T14:10:55.196725Z"
    }
   },
   "outputs": [
    {
     "data": {
      "text/plain": [
       "RandomForestRegressor(max_features=6, n_estimators=30)"
      ]
     },
     "execution_count": 48,
     "metadata": {},
     "output_type": "execute_result"
    }
   ],
   "source": [
    "grid.best_estimator_"
   ]
  },
  {
   "cell_type": "code",
   "execution_count": 50,
   "metadata": {
    "ExecuteTime": {
     "end_time": "2020-09-02T14:15:17.756738Z",
     "start_time": "2020-09-02T14:15:17.724781Z"
    }
   },
   "outputs": [
    {
     "name": "stdout",
     "output_type": "stream",
     "text": [
      "3579.670710781106 {'max_features': 2, 'n_estimators': 3}\n",
      "3255.973325371998 {'max_features': 2, 'n_estimators': 10}\n",
      "3139.5229829242 {'max_features': 2, 'n_estimators': 30}\n",
      "3504.9476621163926 {'max_features': 4, 'n_estimators': 3}\n",
      "3196.9754156476633 {'max_features': 4, 'n_estimators': 10}\n",
      "3108.0968398359146 {'max_features': 4, 'n_estimators': 30}\n",
      "3491.6174981637746 {'max_features': 6, 'n_estimators': 3}\n",
      "3187.0871474485975 {'max_features': 6, 'n_estimators': 10}\n",
      "3079.3193229885296 {'max_features': 6, 'n_estimators': 30}\n",
      "3448.2370865905255 {'max_features': 8, 'n_estimators': 3}\n",
      "3163.2114040286406 {'max_features': 8, 'n_estimators': 10}\n",
      "3080.978952277678 {'max_features': 8, 'n_estimators': 30}\n",
      "3645.9360294832736 {'bootstrap': False, 'max_features': 2, 'n_estimators': 3}\n",
      "3334.93094395572 {'bootstrap': False, 'max_features': 2, 'n_estimators': 10}\n",
      "3641.974611242623 {'bootstrap': False, 'max_features': 3, 'n_estimators': 3}\n",
      "3349.9994316893194 {'bootstrap': False, 'max_features': 3, 'n_estimators': 10}\n",
      "3570.2587667234384 {'bootstrap': False, 'max_features': 4, 'n_estimators': 3}\n",
      "3287.472661466842 {'bootstrap': False, 'max_features': 4, 'n_estimators': 10}\n"
     ]
    }
   ],
   "source": [
    "cvres = grid.cv_results_\n",
    "for mean_score, params in zip(cvres['mean_test_score'], cvres['params']):\n",
    "    print(np.sqrt(-mean_score), params)"
   ]
  },
  {
   "cell_type": "code",
   "execution_count": 54,
   "metadata": {
    "ExecuteTime": {
     "end_time": "2020-09-02T14:27:51.552459Z",
     "start_time": "2020-09-02T14:27:51.480411Z"
    }
   },
   "outputs": [],
   "source": [
    "imp = grid.best_estimator_.feature_importances_\n",
    "\n",
    "on = OneHotEncoder()\n",
    "on.fit(train2[cat])\n",
    "\n",
    "cat_att = list(on.categories_)\n",
    "\n",
    "att = num + cat_att"
   ]
  },
  {
   "cell_type": "code",
   "execution_count": 55,
   "metadata": {
    "ExecuteTime": {
     "end_time": "2020-09-02T14:28:54.473310Z",
     "start_time": "2020-09-02T14:28:54.449314Z"
    }
   },
   "outputs": [
    {
     "data": {
      "text/plain": [
       "[(0.24591654255191026, 'Item_Price'),\n",
       " (0.11057998470849208, 'Item_Weight'),\n",
       " (0.1093089846927224, 'Item_Visibility'),\n",
       " (0.05076190937543935, 'Store_Start_Year'),\n",
       " (0.0390188346804728,\n",
       "  array(['Grocery Store', 'Supermarket Type1', 'Supermarket Type2',\n",
       "         'Supermarket Type3'], dtype=object)),\n",
       " (0.027898784198945425,\n",
       "  array(['Cluster 1', 'Cluster 2', 'Cluster 3'], dtype=object)),\n",
       " (0.016608790808061522,\n",
       "  array(['BABATUNJI010', 'BABATUNJI013', 'BABATUNJI017', 'BABATUNJI018',\n",
       "         'BABATUNJI019', 'BABATUNJI027', 'BABATUNJI035', 'BABATUNJI045',\n",
       "         'BABATUNJI046', 'BABATUNJI049'], dtype=object)),\n",
       " (0.008031807470895934,\n",
       "  array(['Low Sugar', 'Normal Sugar', 'Ultra Low Sugar'], dtype=object)),\n",
       " (0.00405753533672731, array(['High', 'Medium', 'Small'], dtype=object)),\n",
       " (0.003222894447449529,\n",
       "  array(['Baking Goods', 'Breads', 'Breakfast', 'Canned', 'Dairy',\n",
       "         'Frozen Foods', 'Fruits and Vegetables', 'Hard Drinks',\n",
       "         'Health and Hygiene', 'Household', 'Meat', 'Others', 'Seafood',\n",
       "         'Snack Foods', 'Soft Drinks', 'Starchy Foods'], dtype=object))]"
      ]
     },
     "execution_count": 55,
     "metadata": {},
     "output_type": "execute_result"
    }
   ],
   "source": [
    "sorted(zip(imp, att), reverse=True)"
   ]
  },
  {
   "cell_type": "markdown",
   "metadata": {
    "ExecuteTime": {
     "end_time": "2020-09-02T14:35:23.077671Z",
     "start_time": "2020-09-02T14:35:23.053702Z"
    }
   },
   "source": [
    "# Splitting the data"
   ]
  },
  {
   "cell_type": "code",
   "execution_count": 226,
   "metadata": {
    "ExecuteTime": {
     "end_time": "2020-09-08T13:19:15.524201Z",
     "start_time": "2020-09-08T13:19:15.500161Z"
    },
    "scrolled": true
   },
   "outputs": [],
   "source": [
    "from sklearn.model_selection import train_test_split\n",
    "\n",
    "X_train, X_test, y_train, y_test = train_test_split(X, y, test_size=0.2, random_state=42)"
   ]
  },
  {
   "cell_type": "code",
   "execution_count": 227,
   "metadata": {
    "ExecuteTime": {
     "end_time": "2020-09-08T13:19:16.292167Z",
     "start_time": "2020-09-08T13:19:15.692191Z"
    }
   },
   "outputs": [
    {
     "data": {
      "text/plain": [
       "(array([ 18.,  33.,  27.,  37.,  34.,  17.,  30.,  24.,  14.,   1.,   6.,\n",
       "         20.,  21.,  33.,  38.,  67.,  77.,  79.,  93.,  97., 140., 128.,\n",
       "        144., 153., 142.,  90.,   6.,  75., 216., 213., 201., 202., 177.,\n",
       "        181., 155., 155., 175., 190., 167., 159., 159., 140., 128.,   5.,\n",
       "         24.,  59.,  56.,  52.,  53.,  59.,  59.,  50.,  33.,  41.,  38.,\n",
       "         44.,  54.,  50.,  37.,  14.]),\n",
       " array([ 78.73      ,  88.53816667,  98.34633333, 108.1545    ,\n",
       "        117.96266667, 127.77083333, 137.579     , 147.38716667,\n",
       "        157.19533333, 167.0035    , 176.81166667, 186.61983333,\n",
       "        196.428     , 206.23616667, 216.04433333, 225.8525    ,\n",
       "        235.66066667, 245.46883333, 255.277     , 265.08516667,\n",
       "        274.89333333, 284.7015    , 294.50966667, 304.31783333,\n",
       "        314.126     , 323.93416667, 333.74233333, 343.5505    ,\n",
       "        353.35866667, 363.16683333, 372.975     , 382.78316667,\n",
       "        392.59133333, 402.3995    , 412.20766667, 422.01583333,\n",
       "        431.824     , 441.63216667, 451.44033333, 461.2485    ,\n",
       "        471.05666667, 480.86483333, 490.673     , 500.48116667,\n",
       "        510.28933333, 520.0975    , 529.90566667, 539.71383333,\n",
       "        549.522     , 559.33016667, 569.13833333, 578.9465    ,\n",
       "        588.75466667, 598.56283333, 608.371     , 618.17916667,\n",
       "        627.98733333, 637.7955    , 647.60366667, 657.41183333,\n",
       "        667.22      ]),\n",
       " <a list of 60 Patch objects>)"
      ]
     },
     "execution_count": 227,
     "metadata": {},
     "output_type": "execute_result"
    },
    {
     "data": {
      "image/png": "[encoded data removed]",
      "text/plain": [
       "<Figure size 432x288 with 1 Axes>"
      ]
     },
     "metadata": {
      "needs_background": "light"
     },
     "output_type": "display_data"
    }
   ],
   "source": [
    "# we have discovered that the item price\n",
    "plt.hist(train2['Item_Price'], bins=60)"
   ]
  },
  {
   "cell_type": "code",
   "execution_count": 228,
   "metadata": {
    "ExecuteTime": {
     "end_time": "2020-09-08T13:19:16.324162Z",
     "start_time": "2020-09-08T13:19:16.292167Z"
    }
   },
   "outputs": [
    {
     "data": {
      "text/html": [
       "<div>\n",
       "<style scoped>\n",
       "    .dataframe tbody tr th:only-of-type {\n",
       "        vertical-align: middle;\n",
       "    }\n",
       "\n",
       "    .dataframe tbody tr th {\n",
       "        vertical-align: top;\n",
       "    }\n",
       "\n",
       "    .dataframe thead th {\n",
       "        text-align: right;\n",
       "    }\n",
       "</style>\n",
       "<table border=\"1\" class=\"dataframe\">\n",
       "  <thead>\n",
       "    <tr style=\"text-align: right;\">\n",
       "      <th></th>\n",
       "      <th></th>\n",
       "      <th>Store_ID</th>\n",
       "      <th>Item_Weight</th>\n",
       "      <th>Item_Sugar_Content</th>\n",
       "      <th>Item_Visibility</th>\n",
       "      <th>Item_Type</th>\n",
       "      <th>Item_Price</th>\n",
       "      <th>Store_Size</th>\n",
       "      <th>Store_Location_Type</th>\n",
       "      <th>Store_Type</th>\n",
       "      <th>Item_Store_Returns</th>\n",
       "      <th>PV</th>\n",
       "    </tr>\n",
       "    <tr>\n",
       "      <th>Item_ID</th>\n",
       "      <th>Item_Store_ID</th>\n",
       "      <th></th>\n",
       "      <th></th>\n",
       "      <th></th>\n",
       "      <th></th>\n",
       "      <th></th>\n",
       "      <th></th>\n",
       "      <th></th>\n",
       "      <th></th>\n",
       "      <th></th>\n",
       "      <th></th>\n",
       "      <th></th>\n",
       "    </tr>\n",
       "  </thead>\n",
       "  <tbody>\n",
       "    <tr>\n",
       "      <th rowspan=\"6\" valign=\"top\">DRA12</th>\n",
       "      <th>DRA12_BABATUNJI010</th>\n",
       "      <td>BABATUNJI010</td>\n",
       "      <td>11.60</td>\n",
       "      <td>Low Sugar</td>\n",
       "      <td>0.068535</td>\n",
       "      <td>Soft Drinks</td>\n",
       "      <td>357.54</td>\n",
       "      <td>Small</td>\n",
       "      <td>Cluster 3</td>\n",
       "      <td>Grocery Store</td>\n",
       "      <td>709.08</td>\n",
       "      <td>24.504018</td>\n",
       "    </tr>\n",
       "    <tr>\n",
       "      <th>DRA12_BABATUNJI013</th>\n",
       "      <td>BABATUNJI013</td>\n",
       "      <td>11.60</td>\n",
       "      <td>Low Sugar</td>\n",
       "      <td>0.040912</td>\n",
       "      <td>Soft Drinks</td>\n",
       "      <td>355.79</td>\n",
       "      <td>High</td>\n",
       "      <td>Cluster 3</td>\n",
       "      <td>Supermarket Type1</td>\n",
       "      <td>6381.69</td>\n",
       "      <td>14.556018</td>\n",
       "    </tr>\n",
       "    <tr>\n",
       "      <th>DRA12_BABATUNJI017</th>\n",
       "      <td>BABATUNJI017</td>\n",
       "      <td>11.60</td>\n",
       "      <td>Low Sugar</td>\n",
       "      <td>0.041178</td>\n",
       "      <td>Soft Drinks</td>\n",
       "      <td>350.79</td>\n",
       "      <td>High</td>\n",
       "      <td>Cluster 2</td>\n",
       "      <td>Supermarket Type1</td>\n",
       "      <td>6381.69</td>\n",
       "      <td>14.444657</td>\n",
       "    </tr>\n",
       "    <tr>\n",
       "      <th>DRA12_BABATUNJI018</th>\n",
       "      <td>BABATUNJI018</td>\n",
       "      <td>11.60</td>\n",
       "      <td>Low Sugar</td>\n",
       "      <td>0.041113</td>\n",
       "      <td>Soft Drinks</td>\n",
       "      <td>355.04</td>\n",
       "      <td>Medium</td>\n",
       "      <td>Cluster 3</td>\n",
       "      <td>Supermarket Type2</td>\n",
       "      <td>2127.23</td>\n",
       "      <td>14.596651</td>\n",
       "    </tr>\n",
       "    <tr>\n",
       "      <th>DRA12_BABATUNJI035</th>\n",
       "      <td>BABATUNJI035</td>\n",
       "      <td>11.60</td>\n",
       "      <td>Ultra Low Sugar</td>\n",
       "      <td>0.000000</td>\n",
       "      <td>Soft Drinks</td>\n",
       "      <td>354.79</td>\n",
       "      <td>Small</td>\n",
       "      <td>Cluster 2</td>\n",
       "      <td>Supermarket Type1</td>\n",
       "      <td>2481.77</td>\n",
       "      <td>0.000000</td>\n",
       "    </tr>\n",
       "    <tr>\n",
       "      <th>DRA12_BABATUNJI045</th>\n",
       "      <td>BABATUNJI045</td>\n",
       "      <td>11.60</td>\n",
       "      <td>Low Sugar</td>\n",
       "      <td>0.000000</td>\n",
       "      <td>Soft Drinks</td>\n",
       "      <td>354.04</td>\n",
       "      <td>Medium</td>\n",
       "      <td>Cluster 2</td>\n",
       "      <td>Supermarket Type1</td>\n",
       "      <td>9572.54</td>\n",
       "      <td>0.000000</td>\n",
       "    </tr>\n",
       "    <tr>\n",
       "      <th rowspan=\"4\" valign=\"top\">DRA24</th>\n",
       "      <th>DRA24_BABATUNJI010</th>\n",
       "      <td>BABATUNJI010</td>\n",
       "      <td>19.35</td>\n",
       "      <td>Normal Sugar</td>\n",
       "      <td>0.066832</td>\n",
       "      <td>Soft Drinks</td>\n",
       "      <td>409.72</td>\n",
       "      <td>Small</td>\n",
       "      <td>Cluster 3</td>\n",
       "      <td>Grocery Store</td>\n",
       "      <td>818.93</td>\n",
       "      <td>27.382277</td>\n",
       "    </tr>\n",
       "    <tr>\n",
       "      <th>DRA24_BABATUNJI013</th>\n",
       "      <td>BABATUNJI013</td>\n",
       "      <td>19.35</td>\n",
       "      <td>Normal Sugar</td>\n",
       "      <td>0.039895</td>\n",
       "      <td>Soft Drinks</td>\n",
       "      <td>406.22</td>\n",
       "      <td>High</td>\n",
       "      <td>Cluster 3</td>\n",
       "      <td>Supermarket Type1</td>\n",
       "      <td>11055.61</td>\n",
       "      <td>16.206151</td>\n",
       "    </tr>\n",
       "    <tr>\n",
       "      <th>DRA24_BABATUNJI017</th>\n",
       "      <td>BABATUNJI017</td>\n",
       "      <td>19.35</td>\n",
       "      <td>Normal Sugar</td>\n",
       "      <td>0.040154</td>\n",
       "      <td>Soft Drinks</td>\n",
       "      <td>411.72</td>\n",
       "      <td>High</td>\n",
       "      <td>Cluster 2</td>\n",
       "      <td>Supermarket Type1</td>\n",
       "      <td>2866.27</td>\n",
       "      <td>16.532241</td>\n",
       "    </tr>\n",
       "    <tr>\n",
       "      <th>DRA24_BABATUNJI019</th>\n",
       "      <td>BABATUNJI019</td>\n",
       "      <td>19.35</td>\n",
       "      <td>Normal Sugar</td>\n",
       "      <td>0.069909</td>\n",
       "      <td>Soft Drinks</td>\n",
       "      <td>408.22</td>\n",
       "      <td>Small</td>\n",
       "      <td>Cluster 1</td>\n",
       "      <td>Grocery Store</td>\n",
       "      <td>1228.40</td>\n",
       "      <td>28.538329</td>\n",
       "    </tr>\n",
       "  </tbody>\n",
       "</table>\n",
       "</div>"
      ],
      "text/plain": [
       "                                Store_ID  Item_Weight Item_Sugar_Content  \\\n",
       "Item_ID Item_Store_ID                                                      \n",
       "DRA12   DRA12_BABATUNJI010  BABATUNJI010        11.60          Low Sugar   \n",
       "        DRA12_BABATUNJI013  BABATUNJI013        11.60          Low Sugar   \n",
       "        DRA12_BABATUNJI017  BABATUNJI017        11.60          Low Sugar   \n",
       "        DRA12_BABATUNJI018  BABATUNJI018        11.60          Low Sugar   \n",
       "        DRA12_BABATUNJI035  BABATUNJI035        11.60    Ultra Low Sugar   \n",
       "        DRA12_BABATUNJI045  BABATUNJI045        11.60          Low Sugar   \n",
       "DRA24   DRA24_BABATUNJI010  BABATUNJI010        19.35       Normal Sugar   \n",
       "        DRA24_BABATUNJI013  BABATUNJI013        19.35       Normal Sugar   \n",
       "        DRA24_BABATUNJI017  BABATUNJI017        19.35       Normal Sugar   \n",
       "        DRA24_BABATUNJI019  BABATUNJI019        19.35       Normal Sugar   \n",
       "\n",
       "                            Item_Visibility    Item_Type  Item_Price  \\\n",
       "Item_ID Item_Store_ID                                                  \n",
       "DRA12   DRA12_BABATUNJI010         0.068535  Soft Drinks      357.54   \n",
       "        DRA12_BABATUNJI013         0.040912  Soft Drinks      355.79   \n",
       "        DRA12_BABATUNJI017         0.041178  Soft Drinks      350.79   \n",
       "        DRA12_BABATUNJI018         0.041113  Soft Drinks      355.04   \n",
       "        DRA12_BABATUNJI035         0.000000  Soft Drinks      354.79   \n",
       "        DRA12_BABATUNJI045         0.000000  Soft Drinks      354.04   \n",
       "DRA24   DRA24_BABATUNJI010         0.066832  Soft Drinks      409.72   \n",
       "        DRA24_BABATUNJI013         0.039895  Soft Drinks      406.22   \n",
       "        DRA24_BABATUNJI017         0.040154  Soft Drinks      411.72   \n",
       "        DRA24_BABATUNJI019         0.069909  Soft Drinks      408.22   \n",
       "\n",
       "                           Store_Size Store_Location_Type         Store_Type  \\\n",
       "Item_ID Item_Store_ID                                                          \n",
       "DRA12   DRA12_BABATUNJI010      Small           Cluster 3      Grocery Store   \n",
       "        DRA12_BABATUNJI013       High           Cluster 3  Supermarket Type1   \n",
       "        DRA12_BABATUNJI017       High           Cluster 2  Supermarket Type1   \n",
       "        DRA12_BABATUNJI018     Medium           Cluster 3  Supermarket Type2   \n",
       "        DRA12_BABATUNJI035      Small           Cluster 2  Supermarket Type1   \n",
       "        DRA12_BABATUNJI045     Medium           Cluster 2  Supermarket Type1   \n",
       "DRA24   DRA24_BABATUNJI010      Small           Cluster 3      Grocery Store   \n",
       "        DRA24_BABATUNJI013       High           Cluster 3  Supermarket Type1   \n",
       "        DRA24_BABATUNJI017       High           Cluster 2  Supermarket Type1   \n",
       "        DRA24_BABATUNJI019      Small           Cluster 1      Grocery Store   \n",
       "\n",
       "                            Item_Store_Returns         PV  \n",
       "Item_ID Item_Store_ID                                      \n",
       "DRA12   DRA12_BABATUNJI010              709.08  24.504018  \n",
       "        DRA12_BABATUNJI013             6381.69  14.556018  \n",
       "        DRA12_BABATUNJI017             6381.69  14.444657  \n",
       "        DRA12_BABATUNJI018             2127.23  14.596651  \n",
       "        DRA12_BABATUNJI035             2481.77   0.000000  \n",
       "        DRA12_BABATUNJI045             9572.54   0.000000  \n",
       "DRA24   DRA24_BABATUNJI010              818.93  27.382277  \n",
       "        DRA24_BABATUNJI013            11055.61  16.206151  \n",
       "        DRA24_BABATUNJI017             2866.27  16.532241  \n",
       "        DRA24_BABATUNJI019             1228.40  28.538329  "
      ]
     },
     "execution_count": 228,
     "metadata": {},
     "output_type": "execute_result"
    }
   ],
   "source": [
    "train2.head(10)"
   ]
  },
  {
   "cell_type": "code",
   "execution_count": 229,
   "metadata": {
    "ExecuteTime": {
     "end_time": "2020-09-08T13:19:17.847151Z",
     "start_time": "2020-09-08T13:19:17.823157Z"
    }
   },
   "outputs": [],
   "source": [
    "train2['Price_Cat'] = np.ceil(train2['Item_Price'] / 100)\n",
    "train2['Price_Cat'].where(train2['Price_Cat'] < 6, 6.0, inplace=True)"
   ]
  },
  {
   "cell_type": "code",
   "execution_count": 230,
   "metadata": {
    "ExecuteTime": {
     "end_time": "2020-09-08T13:19:18.671456Z",
     "start_time": "2020-09-08T13:19:18.639455Z"
    }
   },
   "outputs": [
    {
     "name": "stdout",
     "output_type": "stream",
     "text": [
      "<class 'pandas.core.frame.DataFrame'>\n",
      "MultiIndex: 4990 entries, (DRA12, DRA12_BABATUNJI010) to (NCZ54, NCZ54_BABATUNJI049)\n",
      "Data columns (total 12 columns):\n",
      "Store_ID               4990 non-null object\n",
      "Item_Weight            4973 non-null float64\n",
      "Item_Sugar_Content     4990 non-null object\n",
      "Item_Visibility        4990 non-null float64\n",
      "Item_Type              4990 non-null object\n",
      "Item_Price             4990 non-null float64\n",
      "Store_Size             4990 non-null object\n",
      "Store_Location_Type    4990 non-null object\n",
      "Store_Type             4990 non-null object\n",
      "Item_Store_Returns     4990 non-null float64\n",
      "PV                     4990 non-null float64\n",
      "Price_Cat              4990 non-null float64\n",
      "dtypes: float64(6), object(6)\n",
      "memory usage: 577.7+ KB\n"
     ]
    }
   ],
   "source": [
    "train2.info()"
   ]
  },
  {
   "cell_type": "code",
   "execution_count": 231,
   "metadata": {
    "ExecuteTime": {
     "end_time": "2020-09-08T13:19:19.263445Z",
     "start_time": "2020-09-08T13:19:19.239456Z"
    }
   },
   "outputs": [],
   "source": [
    "from sklearn.model_selection import StratifiedShuffleSplit\n",
    "\n",
    "X = train2.drop('Item_Store_Returns', axis=1)\n",
    "y = train2['Item_Store_Returns']\n",
    "\n",
    "split = StratifiedShuffleSplit(n_splits=1, test_size=0.2, random_state=42)\n",
    "for train_index, test_index in split.split(train2, train2['Price_Cat']):\n",
    "    X_train, X_test = X.iloc[train_index], X.iloc[test_index]\n",
    "    y_train, y_test = y.iloc[train_index], y.iloc[test_index]"
   ]
  },
  {
   "cell_type": "code",
   "execution_count": 232,
   "metadata": {
    "ExecuteTime": {
     "end_time": "2020-09-08T13:19:20.043985Z",
     "start_time": "2020-09-08T13:19:20.026944Z"
    }
   },
   "outputs": [
    {
     "data": {
      "text/plain": [
       "5.0    0.330261\n",
       "4.0    0.300000\n",
       "3.0    0.169539\n",
       "6.0    0.146693\n",
       "2.0    0.042084\n",
       "1.0    0.011423\n",
       "Name: Price_Cat, dtype: float64"
      ]
     },
     "execution_count": 232,
     "metadata": {},
     "output_type": "execute_result"
    }
   ],
   "source": [
    "train2['Price_Cat'].value_counts()/len(train2)"
   ]
  },
  {
   "cell_type": "code",
   "execution_count": 233,
   "metadata": {
    "ExecuteTime": {
     "end_time": "2020-09-08T13:19:22.703715Z",
     "start_time": "2020-09-08T13:19:22.655668Z"
    }
   },
   "outputs": [
    {
     "data": {
      "text/html": [
       "<div>\n",
       "<style scoped>\n",
       "    .dataframe tbody tr th:only-of-type {\n",
       "        vertical-align: middle;\n",
       "    }\n",
       "\n",
       "    .dataframe tbody tr th {\n",
       "        vertical-align: top;\n",
       "    }\n",
       "\n",
       "    .dataframe thead th {\n",
       "        text-align: right;\n",
       "    }\n",
       "</style>\n",
       "<table border=\"1\" class=\"dataframe\">\n",
       "  <thead>\n",
       "    <tr style=\"text-align: right;\">\n",
       "      <th></th>\n",
       "      <th></th>\n",
       "      <th>Store_ID</th>\n",
       "      <th>Item_Weight</th>\n",
       "      <th>Item_Sugar_Content</th>\n",
       "      <th>Item_Visibility</th>\n",
       "      <th>Item_Type</th>\n",
       "      <th>Item_Price</th>\n",
       "      <th>Store_Size</th>\n",
       "      <th>Store_Location_Type</th>\n",
       "      <th>Store_Type</th>\n",
       "      <th>PV</th>\n",
       "      <th>Price_Cat</th>\n",
       "    </tr>\n",
       "    <tr>\n",
       "      <th>Item_ID</th>\n",
       "      <th>Item_Store_ID</th>\n",
       "      <th></th>\n",
       "      <th></th>\n",
       "      <th></th>\n",
       "      <th></th>\n",
       "      <th></th>\n",
       "      <th></th>\n",
       "      <th></th>\n",
       "      <th></th>\n",
       "      <th></th>\n",
       "      <th></th>\n",
       "      <th></th>\n",
       "    </tr>\n",
       "  </thead>\n",
       "  <tbody>\n",
       "    <tr>\n",
       "      <th>DRG48</th>\n",
       "      <th>DRG48_BABATUNJI027</th>\n",
       "      <td>BABATUNJI027</td>\n",
       "      <td>5.780</td>\n",
       "      <td>Low Sugar</td>\n",
       "      <td>0.014485</td>\n",
       "      <td>Soft Drinks</td>\n",
       "      <td>359.78</td>\n",
       "      <td>Medium</td>\n",
       "      <td>Cluster 3</td>\n",
       "      <td>Supermarket Type3</td>\n",
       "      <td>5.211263</td>\n",
       "      <td>4.0</td>\n",
       "    </tr>\n",
       "    <tr>\n",
       "      <th>FDM32</th>\n",
       "      <th>FDM32_BABATUNJI010</th>\n",
       "      <td>BABATUNJI010</td>\n",
       "      <td>20.500</td>\n",
       "      <td>Low Sugar</td>\n",
       "      <td>0.000000</td>\n",
       "      <td>Fruits and Vegetables</td>\n",
       "      <td>227.21</td>\n",
       "      <td>Small</td>\n",
       "      <td>Cluster 3</td>\n",
       "      <td>Grocery Store</td>\n",
       "      <td>0.000000</td>\n",
       "      <td>3.0</td>\n",
       "    </tr>\n",
       "    <tr>\n",
       "      <th>FDY04</th>\n",
       "      <th>FDY04_BABATUNJI035</th>\n",
       "      <td>BABATUNJI035</td>\n",
       "      <td>17.700</td>\n",
       "      <td>Normal Sugar</td>\n",
       "      <td>0.042468</td>\n",
       "      <td>Frozen Foods</td>\n",
       "      <td>406.05</td>\n",
       "      <td>Small</td>\n",
       "      <td>Cluster 2</td>\n",
       "      <td>Supermarket Type1</td>\n",
       "      <td>17.244299</td>\n",
       "      <td>5.0</td>\n",
       "    </tr>\n",
       "    <tr>\n",
       "      <th>FDY15</th>\n",
       "      <th>FDY15_BABATUNJI035</th>\n",
       "      <td>BABATUNJI035</td>\n",
       "      <td>18.250</td>\n",
       "      <td>Normal Sugar</td>\n",
       "      <td>0.170796</td>\n",
       "      <td>Dairy</td>\n",
       "      <td>386.16</td>\n",
       "      <td>Small</td>\n",
       "      <td>Cluster 2</td>\n",
       "      <td>Supermarket Type1</td>\n",
       "      <td>65.954485</td>\n",
       "      <td>4.0</td>\n",
       "    </tr>\n",
       "    <tr>\n",
       "      <th>FDR46</th>\n",
       "      <th>FDR46_BABATUNJI010</th>\n",
       "      <td>BABATUNJI010</td>\n",
       "      <td>16.850</td>\n",
       "      <td>Low Sugar</td>\n",
       "      <td>0.233357</td>\n",
       "      <td>Snack Foods</td>\n",
       "      <td>366.44</td>\n",
       "      <td>Small</td>\n",
       "      <td>Cluster 3</td>\n",
       "      <td>Grocery Store</td>\n",
       "      <td>85.511182</td>\n",
       "      <td>4.0</td>\n",
       "    </tr>\n",
       "    <tr>\n",
       "      <th>...</th>\n",
       "      <th>...</th>\n",
       "      <td>...</td>\n",
       "      <td>...</td>\n",
       "      <td>...</td>\n",
       "      <td>...</td>\n",
       "      <td>...</td>\n",
       "      <td>...</td>\n",
       "      <td>...</td>\n",
       "      <td>...</td>\n",
       "      <td>...</td>\n",
       "      <td>...</td>\n",
       "      <td>...</td>\n",
       "    </tr>\n",
       "    <tr>\n",
       "      <th>FDQ37</th>\n",
       "      <th>FDQ37_BABATUNJI035</th>\n",
       "      <td>BABATUNJI035</td>\n",
       "      <td>20.750</td>\n",
       "      <td>Low Sugar</td>\n",
       "      <td>0.089244</td>\n",
       "      <td>Breakfast</td>\n",
       "      <td>480.12</td>\n",
       "      <td>Small</td>\n",
       "      <td>Cluster 2</td>\n",
       "      <td>Supermarket Type1</td>\n",
       "      <td>42.847728</td>\n",
       "      <td>5.0</td>\n",
       "    </tr>\n",
       "    <tr>\n",
       "      <th>FDP36</th>\n",
       "      <th>FDP36_BABATUNJI013</th>\n",
       "      <td>BABATUNJI013</td>\n",
       "      <td>10.395</td>\n",
       "      <td>Normal Sugar</td>\n",
       "      <td>0.091097</td>\n",
       "      <td>Baking Goods</td>\n",
       "      <td>130.75</td>\n",
       "      <td>High</td>\n",
       "      <td>Cluster 3</td>\n",
       "      <td>Supermarket Type1</td>\n",
       "      <td>11.910871</td>\n",
       "      <td>2.0</td>\n",
       "    </tr>\n",
       "    <tr>\n",
       "      <th>FDI40</th>\n",
       "      <th>FDI40_BABATUNJI046</th>\n",
       "      <td>BABATUNJI046</td>\n",
       "      <td>11.500</td>\n",
       "      <td>Normal Sugar</td>\n",
       "      <td>0.125603</td>\n",
       "      <td>Frozen Foods</td>\n",
       "      <td>252.09</td>\n",
       "      <td>Small</td>\n",
       "      <td>Cluster 1</td>\n",
       "      <td>Supermarket Type1</td>\n",
       "      <td>31.663248</td>\n",
       "      <td>3.0</td>\n",
       "    </tr>\n",
       "    <tr>\n",
       "      <th>FDM10</th>\n",
       "      <th>FDM10_BABATUNJI045</th>\n",
       "      <td>BABATUNJI045</td>\n",
       "      <td>18.250</td>\n",
       "      <td>Low Sugar</td>\n",
       "      <td>0.076126</td>\n",
       "      <td>Snack Foods</td>\n",
       "      <td>535.05</td>\n",
       "      <td>Medium</td>\n",
       "      <td>Cluster 2</td>\n",
       "      <td>Supermarket Type1</td>\n",
       "      <td>40.731039</td>\n",
       "      <td>6.0</td>\n",
       "    </tr>\n",
       "    <tr>\n",
       "      <th>DRJ01</th>\n",
       "      <th>DRJ01_BABATUNJI046</th>\n",
       "      <td>BABATUNJI046</td>\n",
       "      <td>6.135</td>\n",
       "      <td>Low Sugar</td>\n",
       "      <td>0.115032</td>\n",
       "      <td>Soft Drinks</td>\n",
       "      <td>402.56</td>\n",
       "      <td>Small</td>\n",
       "      <td>Cluster 1</td>\n",
       "      <td>Supermarket Type1</td>\n",
       "      <td>46.307445</td>\n",
       "      <td>5.0</td>\n",
       "    </tr>\n",
       "  </tbody>\n",
       "</table>\n",
       "<p>3992 rows × 11 columns</p>\n",
       "</div>"
      ],
      "text/plain": [
       "                                Store_ID  Item_Weight Item_Sugar_Content  \\\n",
       "Item_ID Item_Store_ID                                                      \n",
       "DRG48   DRG48_BABATUNJI027  BABATUNJI027        5.780          Low Sugar   \n",
       "FDM32   FDM32_BABATUNJI010  BABATUNJI010       20.500          Low Sugar   \n",
       "FDY04   FDY04_BABATUNJI035  BABATUNJI035       17.700       Normal Sugar   \n",
       "FDY15   FDY15_BABATUNJI035  BABATUNJI035       18.250       Normal Sugar   \n",
       "FDR46   FDR46_BABATUNJI010  BABATUNJI010       16.850          Low Sugar   \n",
       "...                                  ...          ...                ...   \n",
       "FDQ37   FDQ37_BABATUNJI035  BABATUNJI035       20.750          Low Sugar   \n",
       "FDP36   FDP36_BABATUNJI013  BABATUNJI013       10.395       Normal Sugar   \n",
       "FDI40   FDI40_BABATUNJI046  BABATUNJI046       11.500       Normal Sugar   \n",
       "FDM10   FDM10_BABATUNJI045  BABATUNJI045       18.250          Low Sugar   \n",
       "DRJ01   DRJ01_BABATUNJI046  BABATUNJI046        6.135          Low Sugar   \n",
       "\n",
       "                            Item_Visibility              Item_Type  \\\n",
       "Item_ID Item_Store_ID                                                \n",
       "DRG48   DRG48_BABATUNJI027         0.014485            Soft Drinks   \n",
       "FDM32   FDM32_BABATUNJI010         0.000000  Fruits and Vegetables   \n",
       "FDY04   FDY04_BABATUNJI035         0.042468           Frozen Foods   \n",
       "FDY15   FDY15_BABATUNJI035         0.170796                  Dairy   \n",
       "FDR46   FDR46_BABATUNJI010         0.233357            Snack Foods   \n",
       "...                                     ...                    ...   \n",
       "FDQ37   FDQ37_BABATUNJI035         0.089244              Breakfast   \n",
       "FDP36   FDP36_BABATUNJI013         0.091097           Baking Goods   \n",
       "FDI40   FDI40_BABATUNJI046         0.125603           Frozen Foods   \n",
       "FDM10   FDM10_BABATUNJI045         0.076126            Snack Foods   \n",
       "DRJ01   DRJ01_BABATUNJI046         0.115032            Soft Drinks   \n",
       "\n",
       "                            Item_Price Store_Size Store_Location_Type  \\\n",
       "Item_ID Item_Store_ID                                                   \n",
       "DRG48   DRG48_BABATUNJI027      359.78     Medium           Cluster 3   \n",
       "FDM32   FDM32_BABATUNJI010      227.21      Small           Cluster 3   \n",
       "FDY04   FDY04_BABATUNJI035      406.05      Small           Cluster 2   \n",
       "FDY15   FDY15_BABATUNJI035      386.16      Small           Cluster 2   \n",
       "FDR46   FDR46_BABATUNJI010      366.44      Small           Cluster 3   \n",
       "...                                ...        ...                 ...   \n",
       "FDQ37   FDQ37_BABATUNJI035      480.12      Small           Cluster 2   \n",
       "FDP36   FDP36_BABATUNJI013      130.75       High           Cluster 3   \n",
       "FDI40   FDI40_BABATUNJI046      252.09      Small           Cluster 1   \n",
       "FDM10   FDM10_BABATUNJI045      535.05     Medium           Cluster 2   \n",
       "DRJ01   DRJ01_BABATUNJI046      402.56      Small           Cluster 1   \n",
       "\n",
       "                                   Store_Type         PV  Price_Cat  \n",
       "Item_ID Item_Store_ID                                                \n",
       "DRG48   DRG48_BABATUNJI027  Supermarket Type3   5.211263        4.0  \n",
       "FDM32   FDM32_BABATUNJI010      Grocery Store   0.000000        3.0  \n",
       "FDY04   FDY04_BABATUNJI035  Supermarket Type1  17.244299        5.0  \n",
       "FDY15   FDY15_BABATUNJI035  Supermarket Type1  65.954485        4.0  \n",
       "FDR46   FDR46_BABATUNJI010      Grocery Store  85.511182        4.0  \n",
       "...                                       ...        ...        ...  \n",
       "FDQ37   FDQ37_BABATUNJI035  Supermarket Type1  42.847728        5.0  \n",
       "FDP36   FDP36_BABATUNJI013  Supermarket Type1  11.910871        2.0  \n",
       "FDI40   FDI40_BABATUNJI046  Supermarket Type1  31.663248        3.0  \n",
       "FDM10   FDM10_BABATUNJI045  Supermarket Type1  40.731039        6.0  \n",
       "DRJ01   DRJ01_BABATUNJI046  Supermarket Type1  46.307445        5.0  \n",
       "\n",
       "[3992 rows x 11 columns]"
      ]
     },
     "execution_count": 233,
     "metadata": {},
     "output_type": "execute_result"
    }
   ],
   "source": [
    "X_train"
   ]
  },
  {
   "cell_type": "code",
   "execution_count": 234,
   "metadata": {
    "ExecuteTime": {
     "end_time": "2020-09-08T13:19:25.640187Z",
     "start_time": "2020-09-08T13:19:25.616147Z"
    }
   },
   "outputs": [
    {
     "name": "stderr",
     "output_type": "stream",
     "text": [
      "C:\\Users\\Chizurum_Olorondu\\AppData\\Roaming\\Python\\Python37\\site-packages\\pandas\\core\\frame.py:4117: SettingWithCopyWarning: \n",
      "A value is trying to be set on a copy of a slice from a DataFrame\n",
      "\n",
      "See the caveats in the documentation: http://pandas.pydata.org/pandas-docs/stable/user_guide/indexing.html#returning-a-view-versus-a-copy\n",
      "  errors=errors,\n"
     ]
    }
   ],
   "source": [
    "for set in (X_train, X_test):\n",
    "    set.drop('Price_Cat', axis=1, inplace=True)"
   ]
  },
  {
   "cell_type": "code",
   "execution_count": 235,
   "metadata": {
    "ExecuteTime": {
     "end_time": "2020-09-08T13:19:26.413270Z",
     "start_time": "2020-09-08T13:19:26.388742Z"
    }
   },
   "outputs": [
    {
     "name": "stdout",
     "output_type": "stream",
     "text": [
      "<class 'pandas.core.frame.DataFrame'>\n",
      "MultiIndex: 3992 entries, (DRG48, DRG48_BABATUNJI027) to (DRJ01, DRJ01_BABATUNJI046)\n",
      "Data columns (total 10 columns):\n",
      "Store_ID               3992 non-null object\n",
      "Item_Weight            3979 non-null float64\n",
      "Item_Sugar_Content     3992 non-null object\n",
      "Item_Visibility        3992 non-null float64\n",
      "Item_Type              3992 non-null object\n",
      "Item_Price             3992 non-null float64\n",
      "Store_Size             3992 non-null object\n",
      "Store_Location_Type    3992 non-null object\n",
      "Store_Type             3992 non-null object\n",
      "PV                     3992 non-null float64\n",
      "dtypes: float64(4), object(6)\n",
      "memory usage: 377.9+ KB\n"
     ]
    }
   ],
   "source": [
    "X_train.info()"
   ]
  },
  {
   "cell_type": "code",
   "execution_count": 236,
   "metadata": {
    "ExecuteTime": {
     "end_time": "2020-09-08T13:19:27.017378Z",
     "start_time": "2020-09-08T13:19:27.001375Z"
    }
   },
   "outputs": [
    {
     "data": {
      "text/plain": [
       "Item_ID  Item_Store_ID     \n",
       "DRG48    DRG48_BABATUNJI027     7655.04\n",
       "FDM32    FDM32_BABATUNJI010      224.71\n",
       "FDY04    FDY04_BABATUNJI035     3670.22\n",
       "FDY15    FDY15_BABATUNJI035     5476.21\n",
       "FDR46    FDR46_BABATUNJI010     1098.57\n",
       "                                 ...   \n",
       "FDQ37    FDQ37_BABATUNJI035    11624.87\n",
       "FDP36    FDP36_BABATUNJI013     5566.09\n",
       "FDI40    FDI40_BABATUNJI046     5278.13\n",
       "FDM10    FDM10_BABATUNJI045     6411.65\n",
       "DRJ01    DRJ01_BABATUNJI046     3222.47\n",
       "Name: Item_Store_Returns, Length: 3992, dtype: float64"
      ]
     },
     "execution_count": 236,
     "metadata": {},
     "output_type": "execute_result"
    }
   ],
   "source": [
    "y_train"
   ]
  },
  {
   "cell_type": "code",
   "execution_count": 237,
   "metadata": {
    "ExecuteTime": {
     "end_time": "2020-09-08T13:19:36.820899Z",
     "start_time": "2020-09-08T13:19:28.040787Z"
    }
   },
   "outputs": [],
   "source": [
    "# Running throu the pipeline\n",
    "\n",
    "X_train = full_pipeline.fit_transform(X_train)\n",
    "X_test = full_pipeline.fit_transform(X_test)"
   ]
  },
  {
   "cell_type": "code",
   "execution_count": 82,
   "metadata": {
    "ExecuteTime": {
     "end_time": "2020-09-08T12:19:23.736891Z",
     "start_time": "2020-09-08T12:19:22.984669Z"
    }
   },
   "outputs": [
    {
     "data": {
      "text/plain": [
       "<matplotlib.axes._subplots.AxesSubplot at 0x250fd82a4c8>"
      ]
     },
     "execution_count": 82,
     "metadata": {},
     "output_type": "execute_result"
    },
    {
     "data": {
      "image/png": "[encoded data removed]",
      "text/plain": [
       "<Figure size 432x288 with 1 Axes>"
      ]
     },
     "metadata": {
      "needs_background": "light"
     },
     "output_type": "display_data"
    }
   ],
   "source": [
    "sns.distplot(y_test, bins=50)"
   ]
  },
  {
   "cell_type": "code",
   "execution_count": 120,
   "metadata": {
    "ExecuteTime": {
     "end_time": "2020-09-08T12:31:23.331799Z",
     "start_time": "2020-09-08T12:31:12.398677Z"
    }
   },
   "outputs": [],
   "source": [
    "# Using Random Forest\n",
    "\n",
    "frt = RandomForestRegressor(max_features=35, min_samples_split=50, n_estimators=300)\n",
    "\n",
    "frt.fit(X_train, y_train)\n",
    "\n",
    "preds = frt.predict(X_test)"
   ]
  },
  {
   "cell_type": "code",
   "execution_count": 121,
   "metadata": {
    "ExecuteTime": {
     "end_time": "2020-09-08T12:31:23.783051Z",
     "start_time": "2020-09-08T12:31:23.767099Z"
    }
   },
   "outputs": [
    {
     "name": "stdout",
     "output_type": "stream",
     "text": [
      "RMSE 2913.6020052826084\n"
     ]
    }
   ],
   "source": [
    "print('RMSE', np.sqrt(mean_squared_error(y_test, preds)))"
   ]
  },
  {
   "cell_type": "code",
   "execution_count": null,
   "metadata": {},
   "outputs": [],
   "source": []
  },
  {
   "cell_type": "code",
   "execution_count": 132,
   "metadata": {
    "ExecuteTime": {
     "end_time": "2020-09-08T12:52:40.266116Z",
     "start_time": "2020-09-08T12:52:40.250116Z"
    }
   },
   "outputs": [],
   "source": [
    "# using RandomizedSearchCV\n",
    "\n",
    "from sklearn.model_selection import RandomizedSearchCV\n",
    "from scipy.stats import randint\n",
    "new = GradientBoostingRegressor(criterion='mse', tol=-np.infty)\n",
    "\n",
    "param_dist = [\n",
    "    {\n",
    "        'loss': ['ls', 'lad', 'huber', 'quantile'],\n",
    "        'n_estimators': randint(low=100, high =300),\n",
    "        'learning_rate': [0.00001, 0.0001, 0.001, 0.01, 0.1],\n",
    "        'alpha': [0.00001, 0.0001, 0.001, 0.01, 0.1]\n",
    "    }\n",
    "]\n",
    "\n",
    "rand = RandomizedSearchCV(new, scoring='neg_mean_squared_error', param_distributions=param_dist, verbose=50)"
   ]
  },
  {
   "cell_type": "code",
   "execution_count": 133,
   "metadata": {
    "ExecuteTime": {
     "end_time": "2020-09-08T12:54:45.056793Z",
     "start_time": "2020-09-08T12:52:41.981459Z"
    }
   },
   "outputs": [
    {
     "name": "stdout",
     "output_type": "stream",
     "text": [
      "Fitting 5 folds for each of 10 candidates, totalling 50 fits\n",
      "[Parallel(n_jobs=1)]: Using backend SequentialBackend with 1 concurrent workers.\n",
      "[CV] alpha=0.001, learning_rate=1e-05, loss=quantile, n_estimators=249 \n",
      "[CV]  alpha=0.001, learning_rate=1e-05, loss=quantile, n_estimators=249, score=-55182035.412, total=   2.2s\n",
      "[Parallel(n_jobs=1)]: Done   1 out of   1 | elapsed:    2.1s remaining:    0.0s\n",
      "[CV] alpha=0.001, learning_rate=1e-05, loss=quantile, n_estimators=249 \n",
      "[CV]  alpha=0.001, learning_rate=1e-05, loss=quantile, n_estimators=249, score=-57520317.572, total=   3.0s\n",
      "[Parallel(n_jobs=1)]: Done   2 out of   2 | elapsed:    5.1s remaining:    0.0s\n",
      "[CV] alpha=0.001, learning_rate=1e-05, loss=quantile, n_estimators=249 \n",
      "[CV]  alpha=0.001, learning_rate=1e-05, loss=quantile, n_estimators=249, score=-59397153.708, total=   2.2s\n",
      "[Parallel(n_jobs=1)]: Done   3 out of   3 | elapsed:    7.3s remaining:    0.0s\n",
      "[CV] alpha=0.001, learning_rate=1e-05, loss=quantile, n_estimators=249 \n",
      "[CV]  alpha=0.001, learning_rate=1e-05, loss=quantile, n_estimators=249, score=-57085187.817, total=   3.0s\n",
      "[Parallel(n_jobs=1)]: Done   4 out of   4 | elapsed:   10.3s remaining:    0.0s\n",
      "[CV] alpha=0.001, learning_rate=1e-05, loss=quantile, n_estimators=249 \n",
      "[CV]  alpha=0.001, learning_rate=1e-05, loss=quantile, n_estimators=249, score=-49927370.155, total=   2.2s\n",
      "[Parallel(n_jobs=1)]: Done   5 out of   5 | elapsed:   12.4s remaining:    0.0s\n",
      "[CV] alpha=0.001, learning_rate=1e-05, loss=ls, n_estimators=245 .....\n",
      "[CV]  alpha=0.001, learning_rate=1e-05, loss=ls, n_estimators=245, score=-18894859.103, total=   2.4s\n",
      "[Parallel(n_jobs=1)]: Done   6 out of   6 | elapsed:   14.8s remaining:    0.0s\n",
      "[CV] alpha=0.001, learning_rate=1e-05, loss=ls, n_estimators=245 .....\n",
      "[CV]  alpha=0.001, learning_rate=1e-05, loss=ls, n_estimators=245, score=-20166027.358, total=   2.4s\n",
      "[Parallel(n_jobs=1)]: Done   7 out of   7 | elapsed:   17.2s remaining:    0.0s\n",
      "[CV] alpha=0.001, learning_rate=1e-05, loss=ls, n_estimators=245 .....\n",
      "[CV]  alpha=0.001, learning_rate=1e-05, loss=ls, n_estimators=245, score=-21469066.597, total=   2.4s\n",
      "[Parallel(n_jobs=1)]: Done   8 out of   8 | elapsed:   19.6s remaining:    0.0s\n",
      "[CV] alpha=0.001, learning_rate=1e-05, loss=ls, n_estimators=245 .....\n",
      "[CV]  alpha=0.001, learning_rate=1e-05, loss=ls, n_estimators=245, score=-21013627.158, total=   2.5s\n",
      "[Parallel(n_jobs=1)]: Done   9 out of   9 | elapsed:   22.1s remaining:    0.0s\n",
      "[CV] alpha=0.001, learning_rate=1e-05, loss=ls, n_estimators=245 .....\n",
      "[CV]  alpha=0.001, learning_rate=1e-05, loss=ls, n_estimators=245, score=-17147565.886, total=   2.4s\n",
      "[Parallel(n_jobs=1)]: Done  10 out of  10 | elapsed:   24.5s remaining:    0.0s\n",
      "[CV] alpha=0.0001, learning_rate=0.001, loss=quantile, n_estimators=260 \n",
      "[CV]  alpha=0.0001, learning_rate=0.001, loss=quantile, n_estimators=260, score=-55314633.879, total=   3.1s\n",
      "[Parallel(n_jobs=1)]: Done  11 out of  11 | elapsed:   27.6s remaining:    0.0s\n",
      "[CV] alpha=0.0001, learning_rate=0.001, loss=quantile, n_estimators=260 \n",
      "[CV]  alpha=0.0001, learning_rate=0.001, loss=quantile, n_estimators=260, score=-57417527.232, total=   3.2s\n",
      "[Parallel(n_jobs=1)]: Done  12 out of  12 | elapsed:   30.7s remaining:    0.0s\n",
      "[CV] alpha=0.0001, learning_rate=0.001, loss=quantile, n_estimators=260 \n",
      "[CV]  alpha=0.0001, learning_rate=0.001, loss=quantile, n_estimators=260, score=-59596777.478, total=   3.1s\n",
      "[Parallel(n_jobs=1)]: Done  13 out of  13 | elapsed:   33.9s remaining:    0.0s\n",
      "[CV] alpha=0.0001, learning_rate=0.001, loss=quantile, n_estimators=260 \n",
      "[CV]  alpha=0.0001, learning_rate=0.001, loss=quantile, n_estimators=260, score=-57166820.175, total=   3.1s\n",
      "[Parallel(n_jobs=1)]: Done  14 out of  14 | elapsed:   37.0s remaining:    0.0s\n",
      "[CV] alpha=0.0001, learning_rate=0.001, loss=quantile, n_estimators=260 \n",
      "[CV]  alpha=0.0001, learning_rate=0.001, loss=quantile, n_estimators=260, score=-50099918.302, total=   3.2s\n",
      "[Parallel(n_jobs=1)]: Done  15 out of  15 | elapsed:   40.2s remaining:    0.0s\n",
      "[CV] alpha=0.0001, learning_rate=0.0001, loss=quantile, n_estimators=156 \n",
      "[CV]  alpha=0.0001, learning_rate=0.0001, loss=quantile, n_estimators=156, score=-55355521.586, total=   1.9s\n",
      "[Parallel(n_jobs=1)]: Done  16 out of  16 | elapsed:   42.1s remaining:    0.0s\n",
      "[CV] alpha=0.0001, learning_rate=0.0001, loss=quantile, n_estimators=156 \n",
      "[CV]  alpha=0.0001, learning_rate=0.0001, loss=quantile, n_estimators=156, score=-57646104.365, total=   1.9s\n",
      "[Parallel(n_jobs=1)]: Done  17 out of  17 | elapsed:   43.9s remaining:    0.0s\n",
      "[CV] alpha=0.0001, learning_rate=0.0001, loss=quantile, n_estimators=156 \n",
      "[CV]  alpha=0.0001, learning_rate=0.0001, loss=quantile, n_estimators=156, score=-59659773.981, total=   1.9s\n",
      "[Parallel(n_jobs=1)]: Done  18 out of  18 | elapsed:   45.9s remaining:    0.0s\n",
      "[CV] alpha=0.0001, learning_rate=0.0001, loss=quantile, n_estimators=156 \n",
      "[CV]  alpha=0.0001, learning_rate=0.0001, loss=quantile, n_estimators=156, score=-57222858.538, total=   1.9s\n",
      "[Parallel(n_jobs=1)]: Done  19 out of  19 | elapsed:   47.7s remaining:    0.0s\n",
      "[CV] alpha=0.0001, learning_rate=0.0001, loss=quantile, n_estimators=156 \n",
      "[CV]  alpha=0.0001, learning_rate=0.0001, loss=quantile, n_estimators=156, score=-50131632.170, total=   1.8s\n",
      "[Parallel(n_jobs=1)]: Done  20 out of  20 | elapsed:   49.6s remaining:    0.0s\n",
      "[CV] alpha=1e-05, learning_rate=0.1, loss=ls, n_estimators=288 .......\n",
      "[CV]  alpha=1e-05, learning_rate=0.1, loss=ls, n_estimators=288, score=-9043674.288, total=   2.9s\n",
      "[Parallel(n_jobs=1)]: Done  21 out of  21 | elapsed:   52.4s remaining:    0.0s\n",
      "[CV] alpha=1e-05, learning_rate=0.1, loss=ls, n_estimators=288 .......\n",
      "[CV]  alpha=1e-05, learning_rate=0.1, loss=ls, n_estimators=288, score=-9907276.579, total=   2.9s\n",
      "[Parallel(n_jobs=1)]: Done  22 out of  22 | elapsed:   55.3s remaining:    0.0s\n",
      "[CV] alpha=1e-05, learning_rate=0.1, loss=ls, n_estimators=288 .......\n",
      "[CV]  alpha=1e-05, learning_rate=0.1, loss=ls, n_estimators=288, score=-9625978.704, total=   2.9s\n",
      "[Parallel(n_jobs=1)]: Done  23 out of  23 | elapsed:   58.2s remaining:    0.0s\n",
      "[CV] alpha=1e-05, learning_rate=0.1, loss=ls, n_estimators=288 .......\n",
      "[CV]  alpha=1e-05, learning_rate=0.1, loss=ls, n_estimators=288, score=-9055799.204, total=   2.9s\n",
      "[Parallel(n_jobs=1)]: Done  24 out of  24 | elapsed:  1.0min remaining:    0.0s\n",
      "[CV] alpha=1e-05, learning_rate=0.1, loss=ls, n_estimators=288 .......\n",
      "[CV]  alpha=1e-05, learning_rate=0.1, loss=ls, n_estimators=288, score=-7923184.284, total=   2.9s\n",
      "[Parallel(n_jobs=1)]: Done  25 out of  25 | elapsed:  1.1min remaining:    0.0s\n",
      "[CV] alpha=0.1, learning_rate=0.01, loss=ls, n_estimators=109 ........\n",
      "[CV]  alpha=0.1, learning_rate=0.01, loss=ls, n_estimators=109, score=-10103713.672, total=   1.1s\n",
      "[Parallel(n_jobs=1)]: Done  26 out of  26 | elapsed:  1.1min remaining:    0.0s\n",
      "[CV] alpha=0.1, learning_rate=0.01, loss=ls, n_estimators=109 ........\n",
      "[CV]  alpha=0.1, learning_rate=0.01, loss=ls, n_estimators=109, score=-10883766.018, total=   1.2s\n",
      "[Parallel(n_jobs=1)]: Done  27 out of  27 | elapsed:  1.1min remaining:    0.0s\n",
      "[CV] alpha=0.1, learning_rate=0.01, loss=ls, n_estimators=109 ........\n",
      "[CV]  alpha=0.1, learning_rate=0.01, loss=ls, n_estimators=109, score=-11092169.148, total=   1.1s\n",
      "[Parallel(n_jobs=1)]: Done  28 out of  28 | elapsed:  1.1min remaining:    0.0s\n",
      "[CV] alpha=0.1, learning_rate=0.01, loss=ls, n_estimators=109 ........\n",
      "[CV]  alpha=0.1, learning_rate=0.01, loss=ls, n_estimators=109, score=-10824826.820, total=   1.1s\n",
      "[Parallel(n_jobs=1)]: Done  29 out of  29 | elapsed:  1.1min remaining:    0.0s\n",
      "[CV] alpha=0.1, learning_rate=0.01, loss=ls, n_estimators=109 ........\n",
      "[CV]  alpha=0.1, learning_rate=0.01, loss=ls, n_estimators=109, score=-8663574.777, total=   1.1s\n",
      "[Parallel(n_jobs=1)]: Done  30 out of  30 | elapsed:  1.2min remaining:    0.0s\n",
      "[CV] alpha=0.1, learning_rate=0.01, loss=huber, n_estimators=160 .....\n",
      "[CV]  alpha=0.1, learning_rate=0.01, loss=huber, n_estimators=160, score=-9486423.841, total=   2.0s\n",
      "[Parallel(n_jobs=1)]: Done  31 out of  31 | elapsed:  1.2min remaining:    0.0s\n",
      "[CV] alpha=0.1, learning_rate=0.01, loss=huber, n_estimators=160 .....\n",
      "[CV]  alpha=0.1, learning_rate=0.01, loss=huber, n_estimators=160, score=-10486744.597, total=   2.1s\n",
      "[Parallel(n_jobs=1)]: Done  32 out of  32 | elapsed:  1.2min remaining:    0.0s\n",
      "[CV] alpha=0.1, learning_rate=0.01, loss=huber, n_estimators=160 .....\n"
     ]
    },
    {
     "name": "stdout",
     "output_type": "stream",
     "text": [
      "[CV]  alpha=0.1, learning_rate=0.01, loss=huber, n_estimators=160, score=-10919989.324, total=   2.1s\n",
      "[Parallel(n_jobs=1)]: Done  33 out of  33 | elapsed:  1.3min remaining:    0.0s\n",
      "[CV] alpha=0.1, learning_rate=0.01, loss=huber, n_estimators=160 .....\n",
      "[CV]  alpha=0.1, learning_rate=0.01, loss=huber, n_estimators=160, score=-10304068.686, total=   2.1s\n",
      "[Parallel(n_jobs=1)]: Done  34 out of  34 | elapsed:  1.3min remaining:    0.0s\n",
      "[CV] alpha=0.1, learning_rate=0.01, loss=huber, n_estimators=160 .....\n",
      "[CV]  alpha=0.1, learning_rate=0.01, loss=huber, n_estimators=160, score=-8047896.744, total=   2.1s\n",
      "[Parallel(n_jobs=1)]: Done  35 out of  35 | elapsed:  1.3min remaining:    0.0s\n",
      "[CV] alpha=0.1, learning_rate=0.001, loss=ls, n_estimators=187 .......\n",
      "[CV]  alpha=0.1, learning_rate=0.001, loss=ls, n_estimators=187, score=-15936444.897, total=   1.8s\n",
      "[Parallel(n_jobs=1)]: Done  36 out of  36 | elapsed:  1.4min remaining:    0.0s\n",
      "[CV] alpha=0.1, learning_rate=0.001, loss=ls, n_estimators=187 .......\n",
      "[CV]  alpha=0.1, learning_rate=0.001, loss=ls, n_estimators=187, score=-17084420.159, total=   1.8s\n",
      "[Parallel(n_jobs=1)]: Done  37 out of  37 | elapsed:  1.4min remaining:    0.0s\n",
      "[CV] alpha=0.1, learning_rate=0.001, loss=ls, n_estimators=187 .......\n",
      "[CV]  alpha=0.1, learning_rate=0.001, loss=ls, n_estimators=187, score=-18145409.074, total=   1.8s\n",
      "[Parallel(n_jobs=1)]: Done  38 out of  38 | elapsed:  1.4min remaining:    0.0s\n",
      "[CV] alpha=0.1, learning_rate=0.001, loss=ls, n_estimators=187 .......\n",
      "[CV]  alpha=0.1, learning_rate=0.001, loss=ls, n_estimators=187, score=-17691453.192, total=   1.9s\n",
      "[Parallel(n_jobs=1)]: Done  39 out of  39 | elapsed:  1.5min remaining:    0.0s\n",
      "[CV] alpha=0.1, learning_rate=0.001, loss=ls, n_estimators=187 .......\n",
      "[CV]  alpha=0.1, learning_rate=0.001, loss=ls, n_estimators=187, score=-14302080.093, total=   1.8s\n",
      "[Parallel(n_jobs=1)]: Done  40 out of  40 | elapsed:  1.5min remaining:    0.0s\n",
      "[CV] alpha=0.001, learning_rate=0.1, loss=huber, n_estimators=255 ....\n",
      "[CV]  alpha=0.001, learning_rate=0.1, loss=huber, n_estimators=255, score=-19469408.849, total=   0.6s\n",
      "[Parallel(n_jobs=1)]: Done  41 out of  41 | elapsed:  1.5min remaining:    0.0s\n",
      "[CV] alpha=0.001, learning_rate=0.1, loss=huber, n_estimators=255 ....\n",
      "[CV]  alpha=0.001, learning_rate=0.1, loss=huber, n_estimators=255, score=-9475375.046, total=   3.2s\n",
      "[Parallel(n_jobs=1)]: Done  42 out of  42 | elapsed:  1.5min remaining:    0.0s\n",
      "[CV] alpha=0.001, learning_rate=0.1, loss=huber, n_estimators=255 ....\n",
      "[CV]  alpha=0.001, learning_rate=0.1, loss=huber, n_estimators=255, score=-8950554.745, total=   3.3s\n",
      "[Parallel(n_jobs=1)]: Done  43 out of  43 | elapsed:  1.6min remaining:    0.0s\n",
      "[CV] alpha=0.001, learning_rate=0.1, loss=huber, n_estimators=255 ....\n",
      "[CV]  alpha=0.001, learning_rate=0.1, loss=huber, n_estimators=255, score=-8813669.043, total=   3.4s\n",
      "[Parallel(n_jobs=1)]: Done  44 out of  44 | elapsed:  1.7min remaining:    0.0s\n",
      "[CV] alpha=0.001, learning_rate=0.1, loss=huber, n_estimators=255 ....\n",
      "[CV]  alpha=0.001, learning_rate=0.1, loss=huber, n_estimators=255, score=-7438952.484, total=   3.7s\n",
      "[Parallel(n_jobs=1)]: Done  45 out of  45 | elapsed:  1.7min remaining:    0.0s\n",
      "[CV] alpha=0.01, learning_rate=0.001, loss=lad, n_estimators=268 .....\n",
      "[CV]  alpha=0.01, learning_rate=0.001, loss=lad, n_estimators=268, score=-15563577.189, total=   3.3s\n",
      "[Parallel(n_jobs=1)]: Done  46 out of  46 | elapsed:  1.8min remaining:    0.0s\n",
      "[CV] alpha=0.01, learning_rate=0.001, loss=lad, n_estimators=268 .....\n",
      "[CV]  alpha=0.01, learning_rate=0.001, loss=lad, n_estimators=268, score=-16894597.315, total=   3.2s\n",
      "[Parallel(n_jobs=1)]: Done  47 out of  47 | elapsed:  1.8min remaining:    0.0s\n",
      "[CV] alpha=0.01, learning_rate=0.001, loss=lad, n_estimators=268 .....\n",
      "[CV]  alpha=0.01, learning_rate=0.001, loss=lad, n_estimators=268, score=-18133837.582, total=   3.0s\n",
      "[Parallel(n_jobs=1)]: Done  48 out of  48 | elapsed:  1.9min remaining:    0.0s\n",
      "[CV] alpha=0.01, learning_rate=0.001, loss=lad, n_estimators=268 .....\n",
      "[CV]  alpha=0.01, learning_rate=0.001, loss=lad, n_estimators=268, score=-17216376.957, total=   3.0s\n",
      "[Parallel(n_jobs=1)]: Done  49 out of  49 | elapsed:  1.9min remaining:    0.0s\n",
      "[CV] alpha=0.01, learning_rate=0.001, loss=lad, n_estimators=268 .....\n",
      "[CV]  alpha=0.01, learning_rate=0.001, loss=lad, n_estimators=268, score=-13536833.475, total=   3.1s\n",
      "[Parallel(n_jobs=1)]: Done  50 out of  50 | elapsed:  2.0min finished\n"
     ]
    },
    {
     "data": {
      "text/plain": [
       "RandomizedSearchCV(estimator=GradientBoostingRegressor(criterion='mse',\n",
       "                                                       tol=-inf),\n",
       "                   param_distributions=[{'alpha': [1e-05, 0.0001, 0.001, 0.01,\n",
       "                                                   0.1],\n",
       "                                         'learning_rate': [1e-05, 0.0001, 0.001,\n",
       "                                                           0.01, 0.1],\n",
       "                                         'loss': ['ls', 'lad', 'huber',\n",
       "                                                  'quantile'],\n",
       "                                         'n_estimators': <scipy.stats._distn_infrastructure.rv_frozen object at 0x00000250889D38C8>}],\n",
       "                   scoring='neg_mean_squared_error', verbose=50)"
      ]
     },
     "execution_count": 133,
     "metadata": {},
     "output_type": "execute_result"
    }
   ],
   "source": [
    "rand.fit(X, y)"
   ]
  },
  {
   "cell_type": "code",
   "execution_count": 134,
   "metadata": {
    "ExecuteTime": {
     "end_time": "2020-09-08T12:54:47.113005Z",
     "start_time": "2020-09-08T12:54:47.089003Z"
    }
   },
   "outputs": [
    {
     "data": {
      "text/plain": [
       "-9111182.611940833"
      ]
     },
     "execution_count": 134,
     "metadata": {},
     "output_type": "execute_result"
    }
   ],
   "source": [
    "rand.best_score_"
   ]
  },
  {
   "cell_type": "code",
   "execution_count": 135,
   "metadata": {
    "ExecuteTime": {
     "end_time": "2020-09-08T12:55:02.266830Z",
     "start_time": "2020-09-08T12:55:02.250789Z"
    }
   },
   "outputs": [
    {
     "data": {
      "text/plain": [
       "{'alpha': 1e-05, 'learning_rate': 0.1, 'loss': 'ls', 'n_estimators': 288}"
      ]
     },
     "execution_count": 135,
     "metadata": {},
     "output_type": "execute_result"
    }
   ],
   "source": [
    "rand.best_params_"
   ]
  },
  {
   "cell_type": "code",
   "execution_count": 238,
   "metadata": {
    "ExecuteTime": {
     "end_time": "2020-09-08T13:19:54.927084Z",
     "start_time": "2020-09-08T13:19:50.683441Z"
    }
   },
   "outputs": [
    {
     "name": "stdout",
     "output_type": "stream",
     "text": [
      "RMSE 2899.8960746065068\n"
     ]
    }
   ],
   "source": [
    "check = GradientBoostingRegressor(alpha = 1e-05, learning_rate= 0.008, loss= 'ls', n_estimators= 500, random_state=42, tol=-np.infty)\n",
    "\n",
    "check.fit(X_train, y_train)\n",
    "\n",
    "predz = check.predict(X_test)\n",
    "\n",
    "print('RMSE', np.sqrt(mean_squared_error(y_test, predz)))"
   ]
  },
  {
   "cell_type": "code",
   "execution_count": null,
   "metadata": {},
   "outputs": [],
   "source": []
  }
 ],
 "metadata": {
  "kernelspec": {
   "display_name": "Python [conda env:tf_gpu]",
   "language": "python",
   "name": "conda-env-tf_gpu-py"
  },
  "language_info": {
   "codemirror_mode": {
    "name": "ipython",
    "version": 3
   },
   "file_extension": ".py",
   "mimetype": "text/x-python",
   "name": "python",
   "nbconvert_exporter": "python",
   "pygments_lexer": "ipython3",
   "version": "3.7.7"
  },
  "toc": {
   "base_numbering": 1,
   "nav_menu": {},
   "number_sections": true,
   "sideBar": true,
   "skip_h1_title": false,
   "title_cell": "Table of Contents",
   "title_sidebar": "Contents",
   "toc_cell": false,
   "toc_position": {},
   "toc_section_display": true,
   "toc_window_display": false
  },
  "varInspector": {
   "cols": {
    "lenName": 16,
    "lenType": 16,
    "lenVar": 40
   },
   "kernels_config": {
    "python": {
     "delete_cmd_postfix": "",
     "delete_cmd_prefix": "del ",
     "library": "var_list.py",
     "varRefreshCmd": "print(var_dic_list())"
    },
    "r": {
     "delete_cmd_postfix": ") ",
     "delete_cmd_prefix": "rm(",
     "library": "var_list.r",
     "varRefreshCmd": "cat(var_dic_list()) "
    }
   },
   "types_to_exclude": [
    "module",
    "function",
    "builtin_function_or_method",
    "instance",
    "_Feature"
   ],
   "window_display": false
  }
 },
 "nbformat": 4,
 "nbformat_minor": 4
}
